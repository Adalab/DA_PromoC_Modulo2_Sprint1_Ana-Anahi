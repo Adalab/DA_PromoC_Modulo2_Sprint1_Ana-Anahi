{
 "cells": [
  {
   "attachments": {},
   "cell_type": "markdown",
   "metadata": {},
   "source": [
    "## PANDAS V - Union de datos"
   ]
  },
  {
   "attachments": {},
   "cell_type": "markdown",
   "metadata": {},
   "source": [
    "Trabajaremos con tres ficheros diferentes:\n",
    "- El csv que creamos en el ejercicio de pair programming Pandas IV, dónde recordamos eliminamos ciertas columnas que no eran necesarias, y habíamos creado nuevas.\n",
    "- El csv llamado attacks_historico donde tenemos información sobre los ataques de tiburón previos al año 1800, este fichero lo tenéis un poco mas abajo para descargar.\n",
    "- El csv llamado attacks_adicional donde tenemos información sobre los ataques de tiburón. de nuevo, este fichero lo tenéis abajo para descargar.\n",
    "El principal objetivo de este ejercicio de pair programming es acabar teniendo un único DataFrame con toda la información contenida en los tres csv anteriores.\n"
   ]
  },
  {
   "cell_type": "code",
   "execution_count": 1,
   "metadata": {},
   "outputs": [],
   "source": [
    "import pandas as pd"
   ]
  },
  {
   "attachments": {},
   "cell_type": "markdown",
   "metadata": {},
   "source": [
    "1) Cargad los tres ficheros nombrados anteriormente y los exploramos para familizarizarnos con ellos y saber que información tienen en común y debatir con tu compañera como podríamos juntar toda la información.\n"
   ]
  },
  {
   "cell_type": "code",
   "execution_count": 2,
   "metadata": {},
   "outputs": [],
   "source": [
    "df = pd.read_csv(\"files/attacks2.csv\")"
   ]
  },
  {
   "cell_type": "code",
   "execution_count": 3,
   "metadata": {},
   "outputs": [],
   "source": [
    "attacks_historico = pd.read_csv(\"files/attacks_historico.csv\")"
   ]
  },
  {
   "cell_type": "code",
   "execution_count": 4,
   "metadata": {},
   "outputs": [],
   "source": [
    "attacks_adicional = pd.read_csv(\"files/attacks_adicional.csv\")"
   ]
  },
  {
   "attachments": {},
   "cell_type": "markdown",
   "metadata": {},
   "source": [
    "- Vamos a realizar una exploracion de los archivos."
   ]
  },
  {
   "cell_type": "code",
   "execution_count": 5,
   "metadata": {},
   "outputs": [
    {
     "data": {
      "text/plain": [
       "Index(['case_number', 'year', 'type', 'country', 'area', 'location',\n",
       "       'activity', 'name', 'sex', 'age', 'time', 'species', 'href', 'siglo'],\n",
       "      dtype='object')"
      ]
     },
     "execution_count": 5,
     "metadata": {},
     "output_type": "execute_result"
    }
   ],
   "source": [
    "df.columns"
   ]
  },
  {
   "cell_type": "code",
   "execution_count": 6,
   "metadata": {},
   "outputs": [
    {
     "name": "stdout",
     "output_type": "stream",
     "text": [
      "<class 'pandas.core.frame.DataFrame'>\n",
      "RangeIndex: 1502 entries, 0 to 1501\n",
      "Data columns (total 14 columns):\n",
      " #   Column       Non-Null Count  Dtype  \n",
      "---  ------       --------------  -----  \n",
      " 0   case_number  1502 non-null   object \n",
      " 1   year         1502 non-null   float64\n",
      " 2   type         1502 non-null   object \n",
      " 3   country      1502 non-null   object \n",
      " 4   area         1502 non-null   object \n",
      " 5   location     1502 non-null   object \n",
      " 6   activity     1502 non-null   object \n",
      " 7   name         1502 non-null   object \n",
      " 8   sex          1502 non-null   object \n",
      " 9   age          1502 non-null   object \n",
      " 10  time         1502 non-null   object \n",
      " 11  species      1502 non-null   object \n",
      " 12  href         1502 non-null   object \n",
      " 13  siglo        1502 non-null   object \n",
      "dtypes: float64(1), object(13)\n",
      "memory usage: 164.4+ KB\n"
     ]
    }
   ],
   "source": [
    "df.info()"
   ]
  },
  {
   "cell_type": "code",
   "execution_count": 8,
   "metadata": {},
   "outputs": [
    {
     "data": {
      "text/plain": [
       "Index(['Unnamed: 0', 'Case Number', 'Year', 'Type', 'Country', 'Area',\n",
       "       'Location', 'Activity', 'Name', 'Sex ', 'Age', 'Time', 'Species ',\n",
       "       'Investigator or Source', 'pdf', 'href formula', 'href',\n",
       "       'Case Number.1', 'Case Number.2', 'original order', 'Unnamed: 22',\n",
       "       'Unnamed: 23'],\n",
       "      dtype='object')"
      ]
     },
     "execution_count": 8,
     "metadata": {},
     "output_type": "execute_result"
    }
   ],
   "source": [
    "attacks_historico.columns"
   ]
  },
  {
   "cell_type": "code",
   "execution_count": 9,
   "metadata": {},
   "outputs": [
    {
     "data": {
      "text/plain": [
       "Index(['Unnamed: 0', 'Case Number', 'Fatal (Y/N)', 'Injury', 'Date'], dtype='object')"
      ]
     },
     "execution_count": 9,
     "metadata": {},
     "output_type": "execute_result"
    }
   ],
   "source": [
    "attacks_adicional.columns"
   ]
  },
  {
   "cell_type": "code",
   "execution_count": 10,
   "metadata": {},
   "outputs": [
    {
     "data": {
      "text/plain": [
       "(170, 22)"
      ]
     },
     "execution_count": 10,
     "metadata": {},
     "output_type": "execute_result"
    }
   ],
   "source": [
    "attacks_historico.shape"
   ]
  },
  {
   "cell_type": "code",
   "execution_count": 11,
   "metadata": {},
   "outputs": [
    {
     "name": "stdout",
     "output_type": "stream",
     "text": [
      "<class 'pandas.core.frame.DataFrame'>\n",
      "RangeIndex: 170 entries, 0 to 169\n",
      "Data columns (total 22 columns):\n",
      " #   Column                  Non-Null Count  Dtype  \n",
      "---  ------                  --------------  -----  \n",
      " 0   Unnamed: 0              170 non-null    int64  \n",
      " 1   Case Number             170 non-null    object \n",
      " 2   Year                    170 non-null    float64\n",
      " 3   Type                    170 non-null    object \n",
      " 4   Country                 160 non-null    object \n",
      " 5   Area                    124 non-null    object \n",
      " 6   Location                119 non-null    object \n",
      " 7   Activity                139 non-null    object \n",
      " 8   Name                    161 non-null    object \n",
      " 9   Sex                     156 non-null    object \n",
      " 10  Age                     16 non-null     object \n",
      " 11  Time                    10 non-null     object \n",
      " 12  Species                 44 non-null     object \n",
      " 13  Investigator or Source  169 non-null    object \n",
      " 14  pdf                     170 non-null    object \n",
      " 15  href formula            170 non-null    object \n",
      " 16  href                    170 non-null    object \n",
      " 17  Case Number.1           170 non-null    object \n",
      " 18  Case Number.2           170 non-null    object \n",
      " 19  original order          170 non-null    float64\n",
      " 20  Unnamed: 22             0 non-null      float64\n",
      " 21  Unnamed: 23             0 non-null      float64\n",
      "dtypes: float64(4), int64(1), object(17)\n",
      "memory usage: 29.3+ KB\n"
     ]
    }
   ],
   "source": [
    "attacks_historico.info()"
   ]
  },
  {
   "attachments": {},
   "cell_type": "markdown",
   "metadata": {},
   "source": [
    "2) Chequead que los nombres de las columnas ver si se llaman iguales entre dataframes . ¿Están todas en minúsculas? ¿Tienen espacios? En caso de que no sean todas iguales unificad el nombre de las columnas.\n"
   ]
  },
  {
   "cell_type": "code",
   "execution_count": 12,
   "metadata": {},
   "outputs": [],
   "source": [
    "#Modificamos nombre de columnas para el archivo attacks_historicos\n",
    "cambio_columnas = {col :  col.lower().strip().replace(' ','_') for col in attacks_historico.columns}\n",
    "attacks_historico1 = attacks_historico.rename(columns = cambio_columnas) #inplace = True"
   ]
  },
  {
   "cell_type": "code",
   "execution_count": 13,
   "metadata": {},
   "outputs": [],
   "source": [
    "#Modificamos nombre de columnas para el archivo attacks_adicional\n",
    "cambio_columnas = {col :  col.lower().strip().replace(' ','_') for col in attacks_adicional.columns}\n",
    "attacks_adicional1 = attacks_adicional.rename(columns = cambio_columnas) #inplace = True"
   ]
  },
  {
   "attachments": {},
   "cell_type": "markdown",
   "metadata": {},
   "source": [
    "3) En este momento nos habremos dado cuenta que el DataFrame que generamos en el pair programming Pandas IV es similar al DataFrame de los datos historicos. Si recordamos, eliminamos algunas columnas en la sesión III que no eran útiles, pero esas columnas están todavía en el histórico. Si no fuera por eso podríamos unir esos dataframes. Realizad los cambios que creais necesarios para que los dataframes sean iguales y luego juntadlos usando el mejor método.\n"
   ]
  },
  {
   "cell_type": "code",
   "execution_count": 14,
   "metadata": {},
   "outputs": [],
   "source": [
    "attacks_historico1.drop(['unnamed:_0', 'investigator_or_source', 'pdf', 'href_formula','case_number.1', 'case_number.2', 'original_order', 'unnamed:_22',\n",
    "       'unnamed:_23'], axis=1, inplace=True)"
   ]
  },
  {
   "cell_type": "code",
   "execution_count": 15,
   "metadata": {},
   "outputs": [
    {
     "data": {
      "text/plain": [
       "Index(['case_number', 'year', 'type', 'country', 'area', 'location',\n",
       "       'activity', 'name', 'sex', 'age', 'time', 'species', 'href'],\n",
       "      dtype='object')"
      ]
     },
     "execution_count": 15,
     "metadata": {},
     "output_type": "execute_result"
    }
   ],
   "source": [
    "attacks_historico1.columns"
   ]
  },
  {
   "cell_type": "code",
   "execution_count": 16,
   "metadata": {},
   "outputs": [
    {
     "data": {
      "text/plain": [
       "(170, 13)"
      ]
     },
     "execution_count": 16,
     "metadata": {},
     "output_type": "execute_result"
    }
   ],
   "source": [
    "attacks_historico1.shape"
   ]
  },
  {
   "cell_type": "code",
   "execution_count": 17,
   "metadata": {},
   "outputs": [
    {
     "data": {
      "text/plain": [
       "(1502, 14)"
      ]
     },
     "execution_count": 17,
     "metadata": {},
     "output_type": "execute_result"
    }
   ],
   "source": [
    "df.shape # Tenemos una columna mas que es la de 'siglo' creada en el ultimo pair"
   ]
  },
  {
   "cell_type": "code",
   "execution_count": 19,
   "metadata": {},
   "outputs": [
    {
     "data": {
      "text/plain": [
       "0.0       125\n",
       "1700.0      3\n",
       "1642.0      2\n",
       "1776.0      2\n",
       "1637.0      1\n",
       "1733.0      1\n",
       "1723.0      1\n",
       "1721.0      1\n",
       "1703.0      1\n",
       "1638.0      1\n",
       "1617.0      1\n",
       "1742.0      1\n",
       "1595.0      1\n",
       "1580.0      1\n",
       "1555.0      1\n",
       "1554.0      1\n",
       "1543.0      1\n",
       "500.0       1\n",
       "77.0        1\n",
       "5.0         1\n",
       "1738.0      1\n",
       "1800.0      1\n",
       "1797.0      1\n",
       "1755.0      1\n",
       "1792.0      1\n",
       "1791.0      1\n",
       "1788.0      1\n",
       "1787.0      1\n",
       "1786.0      1\n",
       "1785.0      1\n",
       "1784.0      1\n",
       "1783.0      1\n",
       "1780.0      1\n",
       "1779.0      1\n",
       "1771.0      1\n",
       "1767.0      1\n",
       "1764.0      1\n",
       "1758.0      1\n",
       "1753.0      1\n",
       "1751.0      1\n",
       "1749.0      1\n",
       "1748.0      1\n",
       "Name: year, dtype: int64"
      ]
     },
     "execution_count": 19,
     "metadata": {},
     "output_type": "execute_result"
    }
   ],
   "source": [
    "attacks_historico1['year'].value_counts() #Analizamos que años trae."
   ]
  },
  {
   "attachments": {},
   "cell_type": "markdown",
   "metadata": {},
   "source": [
    "4) Es el momento de unir la información de todos los ataques de tiburón que acabamos de crear con el DataFrame de información adicional. Debatid que método es el más correcto para unir toda esta información y ejecutadlo.\n",
    "📌 NOTA Cuando hagáis la unión considerad que la información que más nos interesa es la del DataFrame que creamos en el apartado anterior, lo cual determinará el tipo de unión.\n"
   ]
  },
  {
   "attachments": {},
   "cell_type": "markdown",
   "metadata": {},
   "source": [
    "Creemos que para unir nuestro archivo y el de attacks historicos tenemos que realizar un concat ya que tienen las mismas columnas, y lo que estamos haciendo es agregar filas de otros años."
   ]
  },
  {
   "cell_type": "code",
   "execution_count": 24,
   "metadata": {},
   "outputs": [],
   "source": [
    "concat_attack =pd.concat([df,attacks_historico1], axis = 0)\n"
   ]
  },
  {
   "cell_type": "code",
   "execution_count": 21,
   "metadata": {},
   "outputs": [
    {
     "data": {
      "text/html": [
       "<div>\n",
       "<style scoped>\n",
       "    .dataframe tbody tr th:only-of-type {\n",
       "        vertical-align: middle;\n",
       "    }\n",
       "\n",
       "    .dataframe tbody tr th {\n",
       "        vertical-align: top;\n",
       "    }\n",
       "\n",
       "    .dataframe thead th {\n",
       "        text-align: right;\n",
       "    }\n",
       "</style>\n",
       "<table border=\"1\" class=\"dataframe\">\n",
       "  <thead>\n",
       "    <tr style=\"text-align: right;\">\n",
       "      <th></th>\n",
       "      <th>unnamed:_0</th>\n",
       "      <th>case_number</th>\n",
       "      <th>fatal_(y/n)</th>\n",
       "      <th>injury</th>\n",
       "      <th>date</th>\n",
       "    </tr>\n",
       "  </thead>\n",
       "  <tbody>\n",
       "    <tr>\n",
       "      <th>6283</th>\n",
       "      <td>6283</td>\n",
       "      <td>ND.0003</td>\n",
       "      <td>Y</td>\n",
       "      <td>FATAL</td>\n",
       "      <td>1900-1905</td>\n",
       "    </tr>\n",
       "    <tr>\n",
       "      <th>6284</th>\n",
       "      <td>6284</td>\n",
       "      <td>ND.0002</td>\n",
       "      <td>Y</td>\n",
       "      <td>FATAL</td>\n",
       "      <td>1883-1889</td>\n",
       "    </tr>\n",
       "    <tr>\n",
       "      <th>6285</th>\n",
       "      <td>6285</td>\n",
       "      <td>ND.0001</td>\n",
       "      <td>Y</td>\n",
       "      <td>FATAL. \"Shark bit him in half, carrying away t...</td>\n",
       "      <td>1845-1853</td>\n",
       "    </tr>\n",
       "    <tr>\n",
       "      <th>6286</th>\n",
       "      <td>6286</td>\n",
       "      <td>0</td>\n",
       "      <td>NaN</td>\n",
       "      <td>NaN</td>\n",
       "      <td>NaN</td>\n",
       "    </tr>\n",
       "    <tr>\n",
       "      <th>6287</th>\n",
       "      <td>6287</td>\n",
       "      <td>xx</td>\n",
       "      <td>NaN</td>\n",
       "      <td>NaN</td>\n",
       "      <td>NaN</td>\n",
       "    </tr>\n",
       "  </tbody>\n",
       "</table>\n",
       "</div>"
      ],
      "text/plain": [
       "      unnamed:_0 case_number fatal_(y/n)  \\\n",
       "6283        6283     ND.0003           Y   \n",
       "6284        6284     ND.0002           Y   \n",
       "6285        6285     ND.0001           Y   \n",
       "6286        6286           0         NaN   \n",
       "6287        6287          xx         NaN   \n",
       "\n",
       "                                                 injury       date  \n",
       "6283                                              FATAL  1900-1905  \n",
       "6284                                              FATAL  1883-1889  \n",
       "6285  FATAL. \"Shark bit him in half, carrying away t...  1845-1853  \n",
       "6286                                                NaN        NaN  \n",
       "6287                                                NaN        NaN  "
      ]
     },
     "execution_count": 21,
     "metadata": {},
     "output_type": "execute_result"
    }
   ],
   "source": [
    "attacks_adicional1.tail() "
   ]
  },
  {
   "attachments": {},
   "cell_type": "markdown",
   "metadata": {},
   "source": [
    "Miramos el final del archivo adicional para ver que registros trae y vemos que trae registros para el archivo historico tambien.\n",
    "Definimos que haremos un .marge para unir el archivo concatenado de todos los datos y el archivo con datos adicionales."
   ]
  },
  {
   "attachments": {},
   "cell_type": "markdown",
   "metadata": {},
   "source": [
    "- Vemos que trae la columna 'unnamed:_0' y hemos decidido eliminarla."
   ]
  },
  {
   "cell_type": "code",
   "execution_count": 27,
   "metadata": {},
   "outputs": [],
   "source": [
    "attacks_adicional1.drop(['unnamed:_0'], axis=1, inplace=True)"
   ]
  },
  {
   "cell_type": "code",
   "execution_count": 28,
   "metadata": {},
   "outputs": [
    {
     "data": {
      "text/plain": [
       "Index(['case_number', 'fatal_(y/n)', 'injury', 'date'], dtype='object')"
      ]
     },
     "execution_count": 28,
     "metadata": {},
     "output_type": "execute_result"
    }
   ],
   "source": [
    "attacks_adicional1.columns"
   ]
  },
  {
   "cell_type": "code",
   "execution_count": 29,
   "metadata": {},
   "outputs": [],
   "source": [
    "attacks_total = concat_attack.merge(attacks_adicional1,  how= 'inner', on='case_number') # Realizamos el .marge para la ultima union."
   ]
  },
  {
   "cell_type": "code",
   "execution_count": 33,
   "metadata": {},
   "outputs": [
    {
     "data": {
      "text/html": [
       "<div>\n",
       "<style scoped>\n",
       "    .dataframe tbody tr th:only-of-type {\n",
       "        vertical-align: middle;\n",
       "    }\n",
       "\n",
       "    .dataframe tbody tr th {\n",
       "        vertical-align: top;\n",
       "    }\n",
       "\n",
       "    .dataframe thead th {\n",
       "        text-align: right;\n",
       "    }\n",
       "</style>\n",
       "<table border=\"1\" class=\"dataframe\">\n",
       "  <thead>\n",
       "    <tr style=\"text-align: right;\">\n",
       "      <th></th>\n",
       "      <th>case_number</th>\n",
       "      <th>year</th>\n",
       "      <th>type</th>\n",
       "      <th>country</th>\n",
       "      <th>area</th>\n",
       "      <th>location</th>\n",
       "      <th>activity</th>\n",
       "      <th>name</th>\n",
       "      <th>sex</th>\n",
       "      <th>age</th>\n",
       "      <th>time</th>\n",
       "      <th>species</th>\n",
       "      <th>href</th>\n",
       "      <th>siglo</th>\n",
       "      <th>fatal_(y/n)</th>\n",
       "      <th>injury</th>\n",
       "      <th>date</th>\n",
       "    </tr>\n",
       "  </thead>\n",
       "  <tbody>\n",
       "    <tr>\n",
       "      <th>0</th>\n",
       "      <td>2018.06.25</td>\n",
       "      <td>2018.0</td>\n",
       "      <td>Boating</td>\n",
       "      <td>USA</td>\n",
       "      <td>California</td>\n",
       "      <td>Oceanside, San Diego County</td>\n",
       "      <td>Paddling</td>\n",
       "      <td>Julie Wolfe</td>\n",
       "      <td>F</td>\n",
       "      <td>57</td>\n",
       "      <td>18h00</td>\n",
       "      <td>White shark</td>\n",
       "      <td>http://sharkattackfile.net/spreadsheets/pdf_di...</td>\n",
       "      <td>siglo-XXI</td>\n",
       "      <td>N</td>\n",
       "      <td>No injury to occupant, outrigger canoe and pad...</td>\n",
       "      <td>25-Jun-2018</td>\n",
       "    </tr>\n",
       "    <tr>\n",
       "      <th>1</th>\n",
       "      <td>2018.06.03.a</td>\n",
       "      <td>2018.0</td>\n",
       "      <td>Unprovoked</td>\n",
       "      <td>BRAZIL</td>\n",
       "      <td>Pernambuco</td>\n",
       "      <td>Piedade Beach, Recife</td>\n",
       "      <td>Swimming</td>\n",
       "      <td>Jose Ernesto da Silva</td>\n",
       "      <td>M</td>\n",
       "      <td>18</td>\n",
       "      <td>Late afternoon</td>\n",
       "      <td>Tiger shark</td>\n",
       "      <td>http://sharkattackfile.net/spreadsheets/pdf_di...</td>\n",
       "      <td>siglo-XXI</td>\n",
       "      <td>Y</td>\n",
       "      <td>FATAL</td>\n",
       "      <td>03-Jun-2018</td>\n",
       "    </tr>\n",
       "  </tbody>\n",
       "</table>\n",
       "</div>"
      ],
      "text/plain": [
       "    case_number    year        type country        area  \\\n",
       "0    2018.06.25  2018.0     Boating     USA  California   \n",
       "1  2018.06.03.a  2018.0  Unprovoked  BRAZIL  Pernambuco   \n",
       "\n",
       "                      location  activity                    name sex age  \\\n",
       "0  Oceanside, San Diego County  Paddling             Julie Wolfe   F  57   \n",
       "1        Piedade Beach, Recife  Swimming  Jose Ernesto da Silva    M  18   \n",
       "\n",
       "             time      species  \\\n",
       "0           18h00  White shark   \n",
       "1  Late afternoon  Tiger shark   \n",
       "\n",
       "                                                href      siglo fatal_(y/n)  \\\n",
       "0  http://sharkattackfile.net/spreadsheets/pdf_di...  siglo-XXI           N   \n",
       "1  http://sharkattackfile.net/spreadsheets/pdf_di...  siglo-XXI           Y   \n",
       "\n",
       "                                              injury         date  \n",
       "0  No injury to occupant, outrigger canoe and pad...  25-Jun-2018  \n",
       "1                                              FATAL  03-Jun-2018  "
      ]
     },
     "execution_count": 33,
     "metadata": {},
     "output_type": "execute_result"
    }
   ],
   "source": [
    "attacks_total.head(2) # Verificamos que se realizo la union correctamente."
   ]
  },
  {
   "attachments": {},
   "cell_type": "markdown",
   "metadata": {},
   "source": [
    "5) Guardad el dataframe nuevo en un csv que usaremos mañana en la clase de pair programming"
   ]
  },
  {
   "attachments": {},
   "cell_type": "markdown",
   "metadata": {},
   "source": [
    "- Antes de guardar como hemos creado un nuevo DataFrame vamos a colocar como indice la columna 'case_number', para que luego no nos cree la columna 'unnamed:0'"
   ]
  },
  {
   "cell_type": "code",
   "execution_count": 34,
   "metadata": {},
   "outputs": [],
   "source": [
    "attacks_total.set_index(['case_number'], inplace= True)"
   ]
  },
  {
   "cell_type": "code",
   "execution_count": 35,
   "metadata": {},
   "outputs": [],
   "source": [
    "attacks_total.to_csv('files/attacks3.csv')"
   ]
  }
 ],
 "metadata": {
  "kernelspec": {
   "display_name": "base",
   "language": "python",
   "name": "python3"
  },
  "language_info": {
   "codemirror_mode": {
    "name": "ipython",
    "version": 3
   },
   "file_extension": ".py",
   "mimetype": "text/x-python",
   "name": "python",
   "nbconvert_exporter": "python",
   "pygments_lexer": "ipython3",
   "version": "3.9.13"
  },
  "orig_nbformat": 4,
  "vscode": {
   "interpreter": {
    "hash": "a52af493819045717511545598ab2b73dabca4ca61b402315e0ef2b43666342d"
   }
  }
 },
 "nbformat": 4,
 "nbformat_minor": 2
}
