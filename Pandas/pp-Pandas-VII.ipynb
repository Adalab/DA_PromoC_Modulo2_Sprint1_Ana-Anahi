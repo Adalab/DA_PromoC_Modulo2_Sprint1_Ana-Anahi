{
 "cells": [
  {
   "attachments": {},
   "cell_type": "markdown",
   "metadata": {},
   "source": [
    "## PANDAS VII  Apply"
   ]
  },
  {
   "attachments": {},
   "cell_type": "markdown",
   "metadata": {},
   "source": [
    "En el ejercicio de ayer estuvimos viendo el groupby y pudimos observar que los datos estaban un poco sucios... 😭. En los ejercicios de hoy pondremos en práctica los apply, y nos crearemos algunas funciones que nos van a permitir limpiar un poco los datos, para que podamos extraer conclusiones de una forma más sencilla."
   ]
  },
  {
   "cell_type": "code",
   "execution_count": 52,
   "metadata": {},
   "outputs": [],
   "source": [
    "import pandas as pd\n",
    "import os\n",
    "import numpy as np\n",
    "import regex as re\n",
    "import random"
   ]
  },
  {
   "cell_type": "code",
   "execution_count": 53,
   "metadata": {},
   "outputs": [],
   "source": [
    "df=pd.read_csv('files/attacks3.csv')"
   ]
  },
  {
   "cell_type": "code",
   "execution_count": 54,
   "metadata": {},
   "outputs": [
    {
     "data": {
      "text/plain": [
       "array(['25-Jun-2018', '03-Jun-2018', '26-May-2018', ..., '1900-1905',\n",
       "       '1883-1889', '1845-1853'], dtype=object)"
      ]
     },
     "execution_count": 54,
     "metadata": {},
     "output_type": "execute_result"
    }
   ],
   "source": [
    "df['date'].unique()"
   ]
  },
  {
   "attachments": {},
   "cell_type": "markdown",
   "metadata": {},
   "source": [
    "1) Cread una columna nueva y una función que nos de el mes en el que ocurrió el ataque. Tened en cuenta que no todas las filas tienen la misma estructura y que puede que no haya la información de mes. En ese caso devolved un nulo (NaN).\n",
    "💡 Pista 💡Podéis usar regex."
   ]
  },
  {
   "cell_type": "code",
   "execution_count": 55,
   "metadata": {},
   "outputs": [],
   "source": [
    "def mes(col): #Creamos la funcion para encontrar el mes.\n",
    "    patron = '\\-(\\w*)-\\d*'\n",
    "    try:\n",
    "        mes = re.findall(patron,col)\n",
    "        return mes[0]\n",
    "        \n",
    "    except: \n",
    "        return np.nan"
   ]
  },
  {
   "cell_type": "code",
   "execution_count": 56,
   "metadata": {},
   "outputs": [
    {
     "data": {
      "text/plain": [
       "0       Jun\n",
       "1       Jun\n",
       "2       May\n",
       "3       May\n",
       "4       May\n",
       "       ... \n",
       "1667    NaN\n",
       "1668    NaN\n",
       "1669    NaN\n",
       "1670    NaN\n",
       "1671    NaN\n",
       "Name: date, Length: 1672, dtype: object"
      ]
     },
     "execution_count": 56,
     "metadata": {},
     "output_type": "execute_result"
    }
   ],
   "source": [
    "df['date'].apply(mes) # Verificamos que reconoce el patron correctamente."
   ]
  },
  {
   "cell_type": "code",
   "execution_count": 57,
   "metadata": {},
   "outputs": [],
   "source": [
    "df['mes'] = df['date'].apply(mes) # Creamos la columna nueva."
   ]
  },
  {
   "cell_type": "code",
   "execution_count": 58,
   "metadata": {},
   "outputs": [
    {
     "data": {
      "text/plain": [
       "array(['Jun', 'May', 'Apr', 'Mar', 'Feb', 'Jan', 'Dec', 'Nov', 'Oct',\n",
       "       'Sep', 'Aug', 'Jul', nan, '30', '28'], dtype=object)"
      ]
     },
     "execution_count": 58,
     "metadata": {},
     "output_type": "execute_result"
    }
   ],
   "source": [
    "df['mes'].unique() #Verificamos que se creo correctamente la columna mes."
   ]
  },
  {
   "attachments": {},
   "cell_type": "markdown",
   "metadata": {},
   "source": [
    "2) Vamos con la columna fatal_(y/n). Lo primero que tenéis que hacer es evaluar los valores únicos que hay. Esperaríamos tener solo dos valores: y y n, pero tristemente no será así 😭. Cread una columna nueva y una función que devuelva únicamente y o n y que devuelva un nulo (NaN) si no se encuentra el valor."
   ]
  },
  {
   "cell_type": "code",
   "execution_count": 59,
   "metadata": {},
   "outputs": [
    {
     "data": {
      "text/plain": [
       "array(['N', 'Y', nan, 'M', '2017', ' N', 'UNKNOWN'], dtype=object)"
      ]
     },
     "execution_count": 59,
     "metadata": {},
     "output_type": "execute_result"
    }
   ],
   "source": [
    "df['fatal_(y/n)'].unique() # Verificamos que valores unicos tiene la columna 'fatal_(y/o)'"
   ]
  },
  {
   "cell_type": "code",
   "execution_count": 60,
   "metadata": {},
   "outputs": [],
   "source": [
    "def fatal_o_no(col): # Construimos la funcion \n",
    "\n",
    "\n",
    "    if col =='M':\n",
    "        return 'N'\n",
    "    if col =='N':\n",
    "        return 'N'\n",
    "    elif col == ' N':\n",
    "        return 'N'\n",
    "    elif col == 'Y':\n",
    "        return \"Y\"\n",
    "    else:\n",
    "       return np.nan\n",
    "       "
   ]
  },
  {
   "cell_type": "code",
   "execution_count": 61,
   "metadata": {},
   "outputs": [],
   "source": [
    "df['fatal(y/n)']= df['fatal_(y/n)'].apply(fatal_o_no) # aplicamos el metodo apply \n"
   ]
  },
  {
   "cell_type": "code",
   "execution_count": 64,
   "metadata": {},
   "outputs": [
    {
     "data": {
      "text/plain": [
       "array(['N', 'Y', nan], dtype=object)"
      ]
     },
     "execution_count": 64,
     "metadata": {},
     "output_type": "execute_result"
    }
   ],
   "source": [
    "df['fatal(y/n)'].unique() # Verificamos los valores unicos de la nueva columna"
   ]
  },
  {
   "attachments": {},
   "cell_type": "markdown",
   "metadata": {},
   "source": [
    "3) Seguid la misma lógica que en el ejercicio anterior pero con la columna sex. Pero en este caso vamos a incluir un retito más: En este caso querremos tener dos valores únicos F y M. De nuevo en la columna hay otros carácteres raros como 'M ', 'lli', 'N', '.'. En esos casos, queremos que se reemplacen por M o F de forma aleatoria (tendréis que usar la librería random). En caso de que sea nulo, que la función devuelva nulo (np.nan)."
   ]
  },
  {
   "cell_type": "code",
   "execution_count": 65,
   "metadata": {},
   "outputs": [
    {
     "data": {
      "text/plain": [
       "array(['F', 'M', 'lli', nan], dtype=object)"
      ]
     },
     "execution_count": 65,
     "metadata": {},
     "output_type": "execute_result"
    }
   ],
   "source": [
    "df['sex'].unique() # Verificamos que valores unicos tiene la columna 'sex'"
   ]
  },
  {
   "cell_type": "code",
   "execution_count": 66,
   "metadata": {},
   "outputs": [],
   "source": [
    "def sex(col): # Construimos la funcion \n",
    "\n",
    "    if col == 'M':\n",
    "        return 'M'\n",
    "    elif col == 'F':\n",
    "        return 'F'\n",
    "    elif col =='lli':\n",
    "        return  random.choice(['F','M'])\n",
    "    else:\n",
    "        return np.nan\n",
    "    "
   ]
  },
  {
   "cell_type": "code",
   "execution_count": 67,
   "metadata": {},
   "outputs": [],
   "source": [
    "df['genero'] = df['sex'].apply(sex) # aplicamos el metodo apply \n"
   ]
  },
  {
   "cell_type": "code",
   "execution_count": 68,
   "metadata": {},
   "outputs": [
    {
     "data": {
      "text/plain": [
       "array(['F', 'M', nan], dtype=object)"
      ]
     },
     "execution_count": 68,
     "metadata": {},
     "output_type": "execute_result"
    }
   ],
   "source": [
    "df['genero'].unique() # Verificamos los valores unicos de la nueva columna"
   ]
  },
  {
   "attachments": {},
   "cell_type": "markdown",
   "metadata": {},
   "source": [
    "4) Una vez que hayáis terminado eliminad las columnas originales conservando las nuevas."
   ]
  },
  {
   "cell_type": "code",
   "execution_count": 70,
   "metadata": {},
   "outputs": [],
   "source": [
    "df.drop(['fatal_(y/n)', 'sex'], axis =1, inplace = True)"
   ]
  },
  {
   "cell_type": "code",
   "execution_count": 72,
   "metadata": {},
   "outputs": [
    {
     "data": {
      "text/plain": [
       "Index(['case_number', 'year', 'type', 'country', 'area', 'location',\n",
       "       'activity', 'name', 'age', 'time', 'species', 'href', 'siglo', 'injury',\n",
       "       'date', 'mes', 'fatal(y/n)', 'genero'],\n",
       "      dtype='object')"
      ]
     },
     "execution_count": 72,
     "metadata": {},
     "output_type": "execute_result"
    }
   ],
   "source": [
    "df.columns #Verificamos que se han eliminado las columnas."
   ]
  },
  {
   "attachments": {},
   "cell_type": "markdown",
   "metadata": {},
   "source": [
    "5) Guardad el dataframe en un csv que usaremos más adelante"
   ]
  },
  {
   "attachments": {},
   "cell_type": "markdown",
   "metadata": {},
   "source": [
    "- Antes de guardarlo como hemos creado un nuevo Data Frame, vamos a asignar nuevamente a la columna 'case_number' como index para que  luego no nos genere la columna 'Unnamed' al momento de cerrar y abrir el archivo"
   ]
  },
  {
   "cell_type": "code",
   "execution_count": 74,
   "metadata": {},
   "outputs": [],
   "source": [
    "df.set_index(['case_number'], inplace= True)"
   ]
  },
  {
   "cell_type": "code",
   "execution_count": 75,
   "metadata": {},
   "outputs": [],
   "source": [
    "df.to_csv('files/attacks4')"
   ]
  }
 ],
 "metadata": {
  "kernelspec": {
   "display_name": "base",
   "language": "python",
   "name": "python3"
  },
  "language_info": {
   "codemirror_mode": {
    "name": "ipython",
    "version": 3
   },
   "file_extension": ".py",
   "mimetype": "text/x-python",
   "name": "python",
   "nbconvert_exporter": "python",
   "pygments_lexer": "ipython3",
   "version": "3.9.13"
  },
  "orig_nbformat": 4,
  "vscode": {
   "interpreter": {
    "hash": "a52af493819045717511545598ab2b73dabca4ca61b402315e0ef2b43666342d"
   }
  }
 },
 "nbformat": 4,
 "nbformat_minor": 2
}
