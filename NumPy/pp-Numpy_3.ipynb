{
 "cells": [
  {
   "attachments": {},
   "cell_type": "markdown",
   "metadata": {},
   "source": [
    "## NUMPY III Funciones"
   ]
  },
  {
   "cell_type": "markdown",
   "metadata": {},
   "source": [
    "Cread un array de tres dimensiones de 2 matrices, 3 filas y 5 columnas cuyos valores solo tengan 1 decimales."
   ]
  },
  {
   "cell_type": "code",
   "execution_count": 1,
   "metadata": {},
   "outputs": [],
   "source": [
    "import numpy as np"
   ]
  },
  {
   "cell_type": "code",
   "execution_count": 2,
   "metadata": {},
   "outputs": [
    {
     "data": {
      "text/plain": [
       "array([[[1. , 0.7, 0.8, 0.7, 0. ],\n",
       "        [0.2, 0.2, 0.8, 0.1, 1. ],\n",
       "        [0.2, 0.6, 0.5, 0.6, 0.5]],\n",
       "\n",
       "       [[0.6, 0.4, 0.7, 1. , 1. ],\n",
       "        [0.9, 0.9, 0.2, 0.9, 0.8],\n",
       "        [0.4, 0.6, 0.8, 0.3, 0.7]]])"
      ]
     },
     "execution_count": 2,
     "metadata": {},
     "output_type": "execute_result"
    }
   ],
   "source": [
    "array=np.round(np.random.random_sample((2,3,5)),decimals=1)\n",
    "array"
   ]
  },
  {
   "attachments": {},
   "cell_type": "markdown",
   "metadata": {},
   "source": [
    "Sobre el array creado anteriormente, extraed:"
   ]
  },
  {
   "attachments": {},
   "cell_type": "markdown",
   "metadata": {},
   "source": [
    "Calculad la media del array y almacenarlos en una variable. Redondead a un decimal."
   ]
  },
  {
   "cell_type": "code",
   "execution_count": 3,
   "metadata": {},
   "outputs": [
    {
     "data": {
      "text/plain": [
       "0.6"
      ]
     },
     "execution_count": 3,
     "metadata": {},
     "output_type": "execute_result"
    }
   ],
   "source": [
    "array_media=np.round(np.mean(array), decimals=1)\n",
    "array_media"
   ]
  },
  {
   "attachments": {},
   "cell_type": "markdown",
   "metadata": {},
   "source": [
    "Calculad el valor máximo del array y almacenarlos en una variable. Redondead a un decimal."
   ]
  },
  {
   "cell_type": "code",
   "execution_count": 4,
   "metadata": {},
   "outputs": [
    {
     "data": {
      "text/plain": [
       "1.0"
      ]
     },
     "execution_count": 4,
     "metadata": {},
     "output_type": "execute_result"
    }
   ],
   "source": [
    "array_max=np.round(np.max(array), decimals=1)\n",
    "array_max"
   ]
  },
  {
   "attachments": {},
   "cell_type": "markdown",
   "metadata": {},
   "source": [
    "Calculad el valor mínimo del array y almacenarlos en una variable. Redondead a un decimal."
   ]
  },
  {
   "cell_type": "code",
   "execution_count": 5,
   "metadata": {},
   "outputs": [
    {
     "data": {
      "text/plain": [
       "0.0"
      ]
     },
     "execution_count": 5,
     "metadata": {},
     "output_type": "execute_result"
    }
   ],
   "source": [
    "array_min=np.round(np.min(array), decimals=1)\n",
    "array_min"
   ]
  },
  {
   "attachments": {},
   "cell_type": "markdown",
   "metadata": {},
   "source": [
    "Cread un array vacío con la misma forma y dimensiones que el array creado anteriormente.\n"
   ]
  },
  {
   "cell_type": "code",
   "execution_count": 6,
   "metadata": {},
   "outputs": [
    {
     "data": {
      "text/plain": [
       "array([[['', '', '', '', ''],\n",
       "        ['', '', '', '', ''],\n",
       "        ['', '', '', '', '']],\n",
       "\n",
       "       [['', '', '', '', ''],\n",
       "        ['', '', '', '', ''],\n",
       "        ['', '', '', '', '']]], dtype='<U1')"
      ]
     },
     "execution_count": 6,
     "metadata": {},
     "output_type": "execute_result"
    }
   ],
   "source": [
    "array_vacio_letras=np.empty_like(array, dtype=str)\n",
    "array_vacio_letras"
   ]
  },
  {
   "attachments": {},
   "cell_type": "markdown",
   "metadata": {},
   "source": [
    "Vamos a reemplazar los valores de la matriz vacía que nos acabamos de crear pero basándonos en los valores del primer array bajo las siguientes condiciones:  \n",
    "- Si el valor del array es igual que la media, se reemplaza por \"A\".  \n",
    "- Si el valor del array es mayor que la media, se reemplaza por \"B\".  \n",
    "- Si el valor del array es menor que la media, se reemplaza por \"C\".  \n",
    "- Si el valor es igual que el máximo, se reemplaza por \"D\".  \n",
    "- Si el valor es igual que el mínimo, se reemplaza por \"E\"."
   ]
  },
  {
   "attachments": {},
   "cell_type": "markdown",
   "metadata": {},
   "source": [
    "💡 Pista 💡 Tendréis que iterar por el array y cambiar los valores de la matriz vacía. Para eso tendremos que usar distintos condicionales."
   ]
  },
  {
   "cell_type": "code",
   "execution_count": 8,
   "metadata": {},
   "outputs": [
    {
     "data": {
      "text/plain": [
       "array([[['B', 'B', 'B', 'B', 'C'],\n",
       "        ['C', 'C', 'B', 'C', 'B'],\n",
       "        ['C', 'A', 'C', 'A', 'C']],\n",
       "\n",
       "       [['A', 'C', 'B', 'B', 'B'],\n",
       "        ['B', 'B', 'C', 'B', 'B'],\n",
       "        ['C', 'A', 'B', 'C', 'B']]], dtype='<U1')"
      ]
     },
     "execution_count": 8,
     "metadata": {},
     "output_type": "execute_result"
    }
   ],
   "source": [
    "for i in range(array.shape[0]):\n",
    "    for numero in range(array.shape[1]):\n",
    "        for numero2 in range(array.shape[2]):\n",
    "\n",
    "            if array[i,numero,numero2]==array_media:\n",
    "                array_vacio_letras[i,numero,numero2]='A'\n",
    "            elif array[i,numero,numero2]>array_media:\n",
    "                array_vacio_letras[i,numero,numero2]='B'\n",
    "            elif array[i,numero,numero2]<array_media:\n",
    "                array_vacio_letras[i,numero,numero2]='C'\n",
    "            elif array[i,numero,numero2]==array_max:\n",
    "                array_vacio_letras[i,numero,numero2]='D'\n",
    "            else:\n",
    "                if array[i,numero,numero2]==array_min:\n",
    "                    array_vacio_letras[i,numero,numero2]='E'\n",
    "array_vacio_letras"
   ]
  },
  {
   "attachments": {},
   "cell_type": "markdown",
   "metadata": {},
   "source": [
    "Estupendo, tenemos un array con strings.  \n",
    "Ahora realizaremos un ejercicio similar al anterior, pero en este caso nos crearemos un array vacío unidimensional de 30 elementos.  \n",
    "Al final de este ejercicio acabaremos teniendo un array de tres dimensiones con la misma forma que el primero que nos creamos."
   ]
  },
  {
   "cell_type": "code",
   "execution_count": 11,
   "metadata": {},
   "outputs": [
    {
     "data": {
      "text/plain": [
       "array([1. , 0.7, 0.8, 0.7, 0. , 0.2, 0.2, 0.8, 0.1, 1. , 0.2, 0.6, 0.5,\n",
       "       0.6, 0.5, 0.6, 0.4, 0.7, 1. , 1. , 0.9, 0.9, 0.2, 0.9, 0.8, 0.4,\n",
       "       0.6, 0.8, 0.3, 0.7])"
      ]
     },
     "execution_count": 11,
     "metadata": {},
     "output_type": "execute_result"
    }
   ],
   "source": [
    "array_vacio_numeros=np.empty(30)\n",
    "array_vacio_numeros"
   ]
  },
  {
   "attachments": {},
   "cell_type": "markdown",
   "metadata": {},
   "source": [
    "En este caso:  \n",
    "- Si el valor del array creado en el ejercicio anterior es \"A\" o \"B\" lo reemplazaremos por 1  \n",
    "- Si el valor del array creado en el ejercicio anterior es \"C\" o \"D\" lo reemplazaremos por 2  \n",
    "- Si el valor del array creado en el ejercicio anterior es \"E\" lo reemplazaremos por 3."
   ]
  },
  {
   "cell_type": "code",
   "execution_count": 12,
   "metadata": {},
   "outputs": [
    {
     "data": {
      "text/plain": [
       "(2, 3, 5)"
      ]
     },
     "execution_count": 12,
     "metadata": {},
     "output_type": "execute_result"
    }
   ],
   "source": [
    "array_vacio_letras.shape # verificamos las medidas del array de letras"
   ]
  },
  {
   "cell_type": "code",
   "execution_count": 13,
   "metadata": {},
   "outputs": [
    {
     "data": {
      "text/plain": [
       "(30,)"
      ]
     },
     "execution_count": 13,
     "metadata": {},
     "output_type": "execute_result"
    }
   ],
   "source": [
    "array_vacio_numeros.shape # Verificamos las medidas del array vacio para numeros"
   ]
  },
  {
   "cell_type": "code",
   "execution_count": 14,
   "metadata": {},
   "outputs": [],
   "source": [
    "# Modificamos la forma de nuestro array donde vamos a cargar los numeros.\n",
    "array_numeros = array_vacio_numeros.reshape(array_vacio_letras.shape)"
   ]
  },
  {
   "cell_type": "code",
   "execution_count": 15,
   "metadata": {},
   "outputs": [],
   "source": [
    "for i in range(array_vacio_letras.shape[0]):\n",
    "    for numero in range(array_vacio_letras.shape[1]):\n",
    "        for numero2 in range(array_vacio_letras.shape[2]):\n",
    "\n",
    "                    if array_vacio_letras[i,numero,numero2]==  'A': \n",
    "                        array_numeros[i,numero,numero2]=1\n",
    "\n",
    "                    elif  array_vacio_letras[i,numero,numero2]==  'B' :\n",
    "                        array_numeros[i,numero,numero2]=1\n",
    "          \n",
    "                    elif array_vacio_letras[i,numero,numero2]== 'C': \n",
    "                        array_numeros[i,numero,numero2]=2\n",
    "\n",
    "                    elif  array_vacio_letras[i,numero,numero2]==  'D' :\n",
    "                        array_numeros[i,numero,numero2]=2\n",
    "       \n",
    "                    else:\n",
    "                        array_vacio_numeros[i,numero,numero2]=3\n"
   ]
  },
  {
   "cell_type": "code",
   "execution_count": 16,
   "metadata": {},
   "outputs": [
    {
     "data": {
      "text/plain": [
       "array([[['B', 'B', 'B', 'B', 'C'],\n",
       "        ['C', 'C', 'B', 'C', 'B'],\n",
       "        ['C', 'A', 'C', 'A', 'C']],\n",
       "\n",
       "       [['A', 'C', 'B', 'B', 'B'],\n",
       "        ['B', 'B', 'C', 'B', 'B'],\n",
       "        ['C', 'A', 'B', 'C', 'B']]], dtype='<U1')"
      ]
     },
     "execution_count": 16,
     "metadata": {},
     "output_type": "execute_result"
    }
   ],
   "source": [
    "array_vacio_letras #recordamos el array de letras."
   ]
  },
  {
   "cell_type": "code",
   "execution_count": 17,
   "metadata": {},
   "outputs": [
    {
     "data": {
      "text/plain": [
       "array([[[1., 1., 1., 1., 2.],\n",
       "        [2., 2., 1., 2., 1.],\n",
       "        [2., 1., 2., 1., 2.]],\n",
       "\n",
       "       [[1., 2., 1., 1., 1.],\n",
       "        [1., 1., 2., 1., 1.],\n",
       "        [2., 1., 1., 2., 1.]]])"
      ]
     },
     "execution_count": 17,
     "metadata": {},
     "output_type": "execute_result"
    }
   ],
   "source": [
    "array_numeros # Verificamos que se modificaron los valores del array de numeros."
   ]
  }
 ],
 "metadata": {
  "kernelspec": {
   "display_name": "base",
   "language": "python",
   "name": "python3"
  },
  "language_info": {
   "codemirror_mode": {
    "name": "ipython",
    "version": 3
   },
   "file_extension": ".py",
   "mimetype": "text/x-python",
   "name": "python",
   "nbconvert_exporter": "python",
   "pygments_lexer": "ipython3",
   "version": "3.9.13"
  },
  "orig_nbformat": 4,
  "vscode": {
   "interpreter": {
    "hash": "a52af493819045717511545598ab2b73dabca4ca61b402315e0ef2b43666342d"
   }
  }
 },
 "nbformat": 4,
 "nbformat_minor": 2
}
