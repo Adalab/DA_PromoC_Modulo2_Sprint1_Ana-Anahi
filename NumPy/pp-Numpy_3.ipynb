{
 "cells": [
  {
   "attachments": {},
   "cell_type": "markdown",
   "metadata": {},
   "source": [
    "## NUMPY III Funciones"
   ]
  },
  {
   "cell_type": "markdown",
   "metadata": {},
   "source": [
    "Cread un array de tres dimensiones de 2 matrices, 3 filas y 5 columnas cuyos valores solo tengan 1 decimales."
   ]
  },
  {
   "cell_type": "code",
   "execution_count": 2,
   "metadata": {},
   "outputs": [],
   "source": [
    "import numpy as np"
   ]
  },
  {
   "cell_type": "code",
   "execution_count": 3,
   "metadata": {},
   "outputs": [
    {
     "data": {
      "text/plain": [
       "array([[[0. , 0.9, 0.2, 0.9, 1. ],\n",
       "        [0. , 0.2, 0.7, 0.9, 0.3],\n",
       "        [0.6, 0.6, 0.3, 0.1, 0.4]],\n",
       "\n",
       "       [[0.3, 0.8, 0.2, 0.2, 0.4],\n",
       "        [1. , 0.3, 0.1, 1. , 0.5],\n",
       "        [0.4, 0.2, 0.4, 1. , 0.6]]])"
      ]
     },
     "execution_count": 3,
     "metadata": {},
     "output_type": "execute_result"
    }
   ],
   "source": [
    "array=np.round(np.random.random_sample((2,3,5)),decimals=1)\n",
    "array"
   ]
  },
  {
   "attachments": {},
   "cell_type": "markdown",
   "metadata": {},
   "source": [
    "Sobre el array creado anteriormente, extraed:"
   ]
  },
  {
   "attachments": {},
   "cell_type": "markdown",
   "metadata": {},
   "source": [
    "Calculad la media del array y almacenarlos en una variable. Redondead a un decimal."
   ]
  },
  {
   "cell_type": "code",
   "execution_count": 4,
   "metadata": {},
   "outputs": [
    {
     "data": {
      "text/plain": [
       "0.5"
      ]
     },
     "execution_count": 4,
     "metadata": {},
     "output_type": "execute_result"
    }
   ],
   "source": [
    "array_media=np.round(np.mean(array), decimals=1)\n",
    "array_media"
   ]
  },
  {
   "attachments": {},
   "cell_type": "markdown",
   "metadata": {},
   "source": [
    "Calculad el valor máximo del array y almacenarlos en una variable. Redondead a un decimal."
   ]
  },
  {
   "cell_type": "code",
   "execution_count": 5,
   "metadata": {},
   "outputs": [
    {
     "data": {
      "text/plain": [
       "1.0"
      ]
     },
     "execution_count": 5,
     "metadata": {},
     "output_type": "execute_result"
    }
   ],
   "source": [
    "array_max=np.round(np.max(array), decimals=1)\n",
    "array_max"
   ]
  },
  {
   "attachments": {},
   "cell_type": "markdown",
   "metadata": {},
   "source": [
    "Calculad el valor mínimo del array y almacenarlos en una variable. Redondead a un decimal."
   ]
  },
  {
   "cell_type": "code",
   "execution_count": 6,
   "metadata": {},
   "outputs": [
    {
     "data": {
      "text/plain": [
       "0.0"
      ]
     },
     "execution_count": 6,
     "metadata": {},
     "output_type": "execute_result"
    }
   ],
   "source": [
    "array_min=np.round(np.min(array), decimals=1)\n",
    "array_min"
   ]
  },
  {
   "attachments": {},
   "cell_type": "markdown",
   "metadata": {},
   "source": [
    "Cread un array vacío con la misma forma y dimensiones que el array creado anteriormente.\n"
   ]
  },
  {
   "cell_type": "code",
   "execution_count": 7,
   "metadata": {},
   "outputs": [
    {
     "data": {
      "text/plain": [
       "array([[['', '', '', '', ''],\n",
       "        ['', '', '', '', ''],\n",
       "        ['', '', '', '', '']],\n",
       "\n",
       "       [['', '', '', '', ''],\n",
       "        ['', '', '', '', ''],\n",
       "        ['', '', '', '', '']]], dtype='<U1')"
      ]
     },
     "execution_count": 7,
     "metadata": {},
     "output_type": "execute_result"
    }
   ],
   "source": [
    "array_vacio=np.empty_like(array, dtype=str)\n",
    "array_vacio"
   ]
  },
  {
   "attachments": {},
   "cell_type": "markdown",
   "metadata": {},
   "source": [
    "Vamos a reemplazar los valores de la matriz vacía que nos acabamos de crear pero basándonos en los valores del primer array bajo las siguientes condiciones:  \n",
    "Si el valor del array es igual que la media, se reemplaza por \"A\".  \n",
    "Si el valor del array es mayor que la media, se reemplaza por \"B\".  \n",
    "Si el valor del array es menor que la media, se reemplaza por \"C\".  \n",
    "Si el valor es igual que el máximo, se reemplaza por \"D\".  \n",
    "Si el valor es igual que el mínimo, se reemplaza por \"E\"."
   ]
  },
  {
   "attachments": {},
   "cell_type": "markdown",
   "metadata": {},
   "source": [
    "💡 Pista 💡 Tendréis que iterar por el array y cambiar los valores de la matriz vacía. Para eso tendremos que usar distintos condicionales."
   ]
  },
  {
   "cell_type": "code",
   "execution_count": 8,
   "metadata": {},
   "outputs": [
    {
     "data": {
      "text/plain": [
       "array([[['C', 'B', 'C', 'B', 'B'],\n",
       "        ['C', 'C', 'B', 'B', 'C'],\n",
       "        ['B', 'B', 'C', 'C', 'C']],\n",
       "\n",
       "       [['C', 'B', 'C', 'C', 'C'],\n",
       "        ['B', 'C', 'C', 'B', 'A'],\n",
       "        ['C', 'C', 'C', 'B', 'B']]], dtype='<U1')"
      ]
     },
     "execution_count": 8,
     "metadata": {},
     "output_type": "execute_result"
    }
   ],
   "source": [
    "for i in range(array.shape[0]):\n",
    "    for numero in range(array.shape[1]):\n",
    "        for numero2 in range(array.shape[2]):\n",
    "\n",
    "            if array[i,numero,numero2]==array_media:\n",
    "                array_vacio[i,numero,numero2]='A'\n",
    "            elif array[i,numero,numero2]>array_media:\n",
    "                array_vacio[i,numero,numero2]='B'\n",
    "            elif array[i,numero,numero2]<array_media:\n",
    "                array_vacio[i,numero,numero2]='C'\n",
    "            elif array[i,numero,numero2]==array_max:\n",
    "                array_vacio[i,numero,numero2]='D'\n",
    "            else:\n",
    "                if array[i,numero,numero2]==array_min:\n",
    "                    array_vacio[i,numero,numero2]='E'\n",
    "array_vacio"
   ]
  },
  {
   "attachments": {},
   "cell_type": "markdown",
   "metadata": {},
   "source": [
    "Estupendo, tenemos un array con strings.  \n",
    "Ahora realizaremos un ejercicio similar al anterior, pero en este caso nos crearemos un array vacío unidimensional de 30 elementos.  \n",
    "Al final de este ejercicio acabaremos teniendo un array de tres dimensiones con la misma forma que el primero que nos creamos."
   ]
  },
  {
   "cell_type": "code",
   "execution_count": 9,
   "metadata": {},
   "outputs": [
    {
     "data": {
      "text/plain": [
       "array([0. , 0.9, 0.2, 0.9, 1. , 0. , 0.2, 0.7, 0.9, 0.3, 0.6, 0.6, 0.3,\n",
       "       0.1, 0.4, 0.3, 0.8, 0.2, 0.2, 0.4, 1. , 0.3, 0.1, 1. , 0.5, 0.4,\n",
       "       0.2, 0.4, 1. , 0.6])"
      ]
     },
     "execution_count": 9,
     "metadata": {},
     "output_type": "execute_result"
    }
   ],
   "source": [
    "array_vacio2=np.empty(30)\n",
    "array_vacio2"
   ]
  },
  {
   "attachments": {},
   "cell_type": "markdown",
   "metadata": {},
   "source": [
    "En este caso:  \n",
    "Si el valor del array creado en el ejercicio anterior es \"A\" o \"B\" lo reemplazaremos por 1  \n",
    "Si el valor del array creado en el ejercicio anterior es \"C\" o \"D\" lo reemplazaremos por 2  \n",
    "Si el valor del array creado en el ejercicio anterior es \"E\" lo reemplazaremos por 3."
   ]
  },
  {
   "cell_type": "code",
   "execution_count": 38,
   "metadata": {},
   "outputs": [
    {
     "name": "stdout",
     "output_type": "stream",
     "text": [
      "0\n"
     ]
    },
    {
     "ename": "AttributeError",
     "evalue": "'numpy.ndarray' object has no attribute 'loc'",
     "output_type": "error",
     "traceback": [
      "\u001b[0;31m---------------------------------------------------------------------------\u001b[0m",
      "\u001b[0;31mAttributeError\u001b[0m                            Traceback (most recent call last)",
      "\u001b[0;32m/var/folders/db/hp0l5_js4yv8br5y2tc3frpm0000gn/T/ipykernel_9649/1690192227.py\u001b[0m in \u001b[0;36m<module>\u001b[0;34m\u001b[0m\n\u001b[1;32m     12\u001b[0m                 \u001b[0;31m#for y in array_plano:\u001b[0m\u001b[0;34m\u001b[0m\u001b[0;34m\u001b[0m\u001b[0m\n\u001b[1;32m     13\u001b[0m                     \u001b[0;31m#print(y)\u001b[0m\u001b[0;34m\u001b[0m\u001b[0;34m\u001b[0m\u001b[0m\n\u001b[0;32m---> 14\u001b[0;31m             \u001b[0;32mif\u001b[0m \u001b[0marray_vacio\u001b[0m\u001b[0;34m.\u001b[0m\u001b[0mloc\u001b[0m\u001b[0;34m[\u001b[0m\u001b[0mi\u001b[0m\u001b[0;34m,\u001b[0m\u001b[0mnumero\u001b[0m\u001b[0;34m,\u001b[0m\u001b[0mnumero2\u001b[0m\u001b[0;34m]\u001b[0m\u001b[0;34m==\u001b[0m\u001b[0;34m'A'\u001b[0m\u001b[0;34m:\u001b[0m\u001b[0;34m\u001b[0m\u001b[0;34m\u001b[0m\u001b[0m\n\u001b[0m\u001b[1;32m     15\u001b[0m                      \u001b[0marray_vacio2\u001b[0m\u001b[0;34m[\u001b[0m\u001b[0mi\u001b[0m\u001b[0;34m,\u001b[0m\u001b[0mnumero\u001b[0m\u001b[0;34m,\u001b[0m\u001b[0mnumero2\u001b[0m\u001b[0;34m]\u001b[0m\u001b[0;34m=\u001b[0m\u001b[0;36m1\u001b[0m\u001b[0;34m\u001b[0m\u001b[0;34m\u001b[0m\u001b[0m\n\u001b[1;32m     16\u001b[0m                      \u001b[0;31m#print(array_vacio2)\u001b[0m\u001b[0;34m\u001b[0m\u001b[0;34m\u001b[0m\u001b[0m\n",
      "\u001b[0;31mAttributeError\u001b[0m: 'numpy.ndarray' object has no attribute 'loc'"
     ]
    }
   ],
   "source": [
    "array_plano1= []\n",
    "array_plano2= []\n",
    "array_plano3 =[]\n",
    "for i in range(array_vacio.shape[0]):\n",
    "    for numero in range(array_vacio.shape[1]):\n",
    "        for numero2 in range(array_vacio.shape[2]):\n",
    "            print(numero2)\n",
    "            #array_vacio2(array_vacio[numero2])\n",
    "            #print(array_plano)\n",
    "            #for z in array_plano:\n",
    "                #print(z)\n",
    "                #for y in array_plano:\n",
    "                    #print(y)\n",
    "            if array_vacio[i,numero,numero2]=='A': \n",
    "                     array_vacio2[i,numero,numero2]=1\n",
    "                     #print(array_vacio2)\n",
    "            elif array_vacio[numero2]=='B':\n",
    "                        array_vacio2[numero2]=1\n",
    "\n",
    "            elif array_vacio[numero2]=='C':\n",
    "                        array_vacio2[numero2]=2\n",
    "            elif array_vacio[numero2]=='D':\n",
    "                        array_vacio2[numero2]=2\n",
    "            else:\n",
    "                    array_vacio2[numero2]=3\n",
    "                \n",
    "array_vacio2\n"
   ]
  },
  {
   "cell_type": "code",
   "execution_count": 31,
   "metadata": {},
   "outputs": [
    {
     "data": {
      "text/plain": [
       "array([2. , 1. , 0.2, 0.9, 1. , 0. , 0.2, 0.7, 0.9, 0.3, 0.6, 0.6, 0.3,\n",
       "       0.1, 0.4, 0.3, 0.8, 0.2, 0.2, 0.4, 1. , 0.3, 0.1, 1. , 0.5, 0.4,\n",
       "       0.2, 0.4, 1. , 0.6])"
      ]
     },
     "execution_count": 31,
     "metadata": {},
     "output_type": "execute_result"
    }
   ],
   "source": [
    "\n",
    "for i in range(array_vacio.shape[0]):\n",
    "    for numero in range(array_vacio.shape[1]):\n",
    "        for numero2 in range(array_vacio.shape[2]):\n",
    "            if array_vacio[i,numero,numero2]== 'A':\n",
    "                array_vacio2[i]=1\n",
    "            elif array_vacio[i,numero,numero2] == 'B':\n",
    "                array_vacio2[i]=1\n",
    "            elif array_vacio[i,numero,numero2] == 'C':\n",
    "                array_vacio2[i] = 2\n",
    "            elif array_vacio[i,numero,numero2]== 'D':\n",
    "                array_vacio2[i]= 2\n",
    "            else:\n",
    "                 \n",
    "                    array_vacio2[i]= 3\n",
    "array_vacio2"
   ]
  },
  {
   "attachments": {},
   "cell_type": "markdown",
   "metadata": {},
   "source": [
    "Una vez que hayas reemplazado todos los valores cambiad la forma del array para que sea de tres dimensiones, con 2 matrices, 3 filas y 5 columnas."
   ]
  }
 ],
 "metadata": {
  "kernelspec": {
   "display_name": "base",
   "language": "python",
   "name": "python3"
  },
  "language_info": {
   "codemirror_mode": {
    "name": "ipython",
    "version": 3
   },
   "file_extension": ".py",
   "mimetype": "text/x-python",
   "name": "python",
   "nbconvert_exporter": "python",
   "pygments_lexer": "ipython3",
   "version": "3.9.13"
  },
  "orig_nbformat": 4,
  "vscode": {
   "interpreter": {
    "hash": "a52af493819045717511545598ab2b73dabca4ca61b402315e0ef2b43666342d"
   }
  }
 },
 "nbformat": 4,
 "nbformat_minor": 2
}
