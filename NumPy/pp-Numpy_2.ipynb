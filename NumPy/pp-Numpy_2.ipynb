{
 "cells": [
  {
   "cell_type": "markdown",
   "metadata": {},
   "source": [
    "##                             NumPy II Indexacion"
   ]
  },
  {
   "cell_type": "code",
   "execution_count": 1,
   "metadata": {},
   "outputs": [],
   "source": [
    "import numpy as np"
   ]
  },
  {
   "cell_type": "markdown",
   "metadata": {},
   "source": [
    "1-Cread un array de dos dimensiones de 5 filas y 3 columnas. "
   ]
  },
  {
   "cell_type": "code",
   "execution_count": 19,
   "metadata": {},
   "outputs": [
    {
     "data": {
      "text/plain": [
       "array([[0.88855315, 0.6171639 , 0.65996577],\n",
       "       [0.6634174 , 0.99832563, 0.80759309],\n",
       "       [0.29289975, 0.7907105 , 0.59749001],\n",
       "       [0.31992092, 0.00441935, 0.08730543],\n",
       "       [0.24340437, 0.56456342, 0.76856503]])"
      ]
     },
     "execution_count": 19,
     "metadata": {},
     "output_type": "execute_result"
    }
   ],
   "source": [
    "matriz = np.random.rand(5,3)\n",
    "matriz"
   ]
  },
  {
   "cell_type": "markdown",
   "metadata": {},
   "source": [
    "Sobre el array creado anteriormente, extraed:\n",
    "- El valor de la primera fila y la segunda columna.\n"
   ]
  },
  {
   "cell_type": "code",
   "execution_count": 20,
   "metadata": {},
   "outputs": [
    {
     "data": {
      "text/plain": [
       "0.6171638975994557"
      ]
     },
     "execution_count": 20,
     "metadata": {},
     "output_type": "execute_result"
    }
   ],
   "source": [
    "matriz[0,1]"
   ]
  },
  {
   "cell_type": "markdown",
   "metadata": {},
   "source": [
    "- Los valores de la segunda fila y las dos primeras columnas.\n"
   ]
  },
  {
   "cell_type": "code",
   "execution_count": 21,
   "metadata": {},
   "outputs": [
    {
     "data": {
      "text/plain": [
       "array([0.6634174 , 0.99832563])"
      ]
     },
     "execution_count": 21,
     "metadata": {},
     "output_type": "execute_result"
    }
   ],
   "source": [
    "matriz[1,0:2]"
   ]
  },
  {
   "cell_type": "markdown",
   "metadata": {},
   "source": [
    "- Extraed las filas pares (incluyendo la 0) y todas las columnas.\n"
   ]
  },
  {
   "cell_type": "code",
   "execution_count": 23,
   "metadata": {},
   "outputs": [
    {
     "data": {
      "text/plain": [
       "array([[0.6634174 , 0.99832563, 0.80759309],\n",
       "       [0.31992092, 0.00441935, 0.08730543]])"
      ]
     },
     "execution_count": 23,
     "metadata": {},
     "output_type": "execute_result"
    }
   ],
   "source": [
    "matriz[1::2,:] #reveerlo!"
   ]
  },
  {
   "cell_type": "markdown",
   "metadata": {},
   "source": [
    "- Extraed los valores que sean mayores que 0.5.\n"
   ]
  },
  {
   "cell_type": "code",
   "execution_count": 24,
   "metadata": {},
   "outputs": [
    {
     "data": {
      "text/plain": [
       "array([0.88855315, 0.6171639 , 0.65996577, 0.6634174 , 0.99832563,\n",
       "       0.80759309, 0.7907105 , 0.59749001, 0.56456342, 0.76856503])"
      ]
     },
     "execution_count": 24,
     "metadata": {},
     "output_type": "execute_result"
    }
   ],
   "source": [
    "matriz [matriz >0.5]"
   ]
  },
  {
   "cell_type": "markdown",
   "metadata": {},
   "source": [
    "- Extraed los valores menores que 0.2 o mayores que 0.5"
   ]
  },
  {
   "cell_type": "code",
   "execution_count": 25,
   "metadata": {},
   "outputs": [
    {
     "data": {
      "text/plain": [
       "array([0.88855315, 0.6171639 , 0.65996577, 0.6634174 , 0.99832563,\n",
       "       0.80759309, 0.7907105 , 0.59749001, 0.00441935, 0.08730543,\n",
       "       0.56456342, 0.76856503])"
      ]
     },
     "execution_count": 25,
     "metadata": {},
     "output_type": "execute_result"
    }
   ],
   "source": [
    "matriz [(matriz < 0.2) | (matriz > 0.5)]"
   ]
  },
  {
   "cell_type": "markdown",
   "metadata": {},
   "source": [
    "2- Cread dos array de tres dimensiones:\n",
    "\n",
    "El primero de 2 matrices, 5 filas y 3 columnas.\n",
    "\n",
    "\n"
   ]
  },
  {
   "cell_type": "code",
   "execution_count": 27,
   "metadata": {},
   "outputs": [
    {
     "data": {
      "text/plain": [
       "array([[[0.48233594, 0.78682439, 0.71064661],\n",
       "        [0.21039272, 0.85781627, 0.14273615],\n",
       "        [0.29427296, 0.16278695, 0.66803981],\n",
       "        [0.45102792, 0.3210061 , 0.97845575],\n",
       "        [0.65068711, 0.14188833, 0.03518194]],\n",
       "\n",
       "       [[0.9462709 , 0.69473481, 0.98756436],\n",
       "        [0.79403704, 0.52903522, 0.75090665],\n",
       "        [0.02747404, 0.06384143, 0.38576564],\n",
       "        [0.45377559, 0.43974941, 0.92948384],\n",
       "        [0.102307  , 0.36913464, 0.40442778]]])"
      ]
     },
     "execution_count": 27,
     "metadata": {},
     "output_type": "execute_result"
    }
   ],
   "source": [
    "array1 = np.random.rand(2,5,3)\n",
    "array1"
   ]
  },
  {
   "cell_type": "markdown",
   "metadata": {},
   "source": [
    "El segundo de 3 matrices, 2 filas y 5 columnas."
   ]
  },
  {
   "cell_type": "code",
   "execution_count": 30,
   "metadata": {},
   "outputs": [
    {
     "data": {
      "text/plain": [
       "array([[[1., 1., 1., 1., 1.],\n",
       "        [1., 1., 1., 1., 1.]],\n",
       "\n",
       "       [[1., 1., 1., 1., 1.],\n",
       "        [1., 1., 1., 1., 1.]],\n",
       "\n",
       "       [[1., 1., 1., 1., 1.],\n",
       "        [1., 1., 1., 1., 1.]]])"
      ]
     },
     "execution_count": 30,
     "metadata": {},
     "output_type": "execute_result"
    }
   ],
   "source": [
    "array2 = np.ones((3,2,5))\n",
    "array2"
   ]
  },
  {
   "cell_type": "markdown",
   "metadata": {},
   "source": [
    "- Haced un análisis exploratorio de los array creados. Recordad que en el ejercicio de ayer nos creamos una función para esto.\n"
   ]
  },
  {
   "cell_type": "code",
   "execution_count": 67,
   "metadata": {},
   "outputs": [],
   "source": [
    "def propiedades_array(array):\n",
    "    tipo=f'Los elementos son de tipo {array.dtype}'\n",
    "    tamaño=f'Tiene {array.size} elementos'\n",
    "    forma=f'Su forma es: {array.shape}'\n",
    "    dimension=f'Es de {array.ndim} dimensiones'\n",
    "    return tipo,tamaño,forma,dimension"
   ]
  },
  {
   "cell_type": "code",
   "execution_count": 68,
   "metadata": {},
   "outputs": [
    {
     "data": {
      "text/plain": [
       "('Los elementos son de tipo float64',\n",
       " 'Tiene 30 elementos',\n",
       " 'Su forma es: (2, 5, 3)',\n",
       " 'Es de 3 dimensiones')"
      ]
     },
     "execution_count": 68,
     "metadata": {},
     "output_type": "execute_result"
    }
   ],
   "source": [
    "propiedades_array(array1)"
   ]
  },
  {
   "cell_type": "code",
   "execution_count": 34,
   "metadata": {},
   "outputs": [
    {
     "data": {
      "text/plain": [
       "(dtype('float64'), 30, (3, 2, 5), 3)"
      ]
     },
     "execution_count": 34,
     "metadata": {},
     "output_type": "execute_result"
    }
   ],
   "source": [
    "propiedades_array(array2)"
   ]
  },
  {
   "cell_type": "markdown",
   "metadata": {},
   "source": [
    "- Sumad los dos arrays. ¿Podéis? ¿Por qué?\n"
   ]
  },
  {
   "cell_type": "code",
   "execution_count": 36,
   "metadata": {},
   "outputs": [
    {
     "ename": "ValueError",
     "evalue": "operands could not be broadcast together with shapes (2,5,3) (3,2,5) ",
     "output_type": "error",
     "traceback": [
      "\u001b[0;31m---------------------------------------------------------------------------\u001b[0m",
      "\u001b[0;31mValueError\u001b[0m                                Traceback (most recent call last)",
      "\u001b[0;32m/var/folders/db/hp0l5_js4yv8br5y2tc3frpm0000gn/T/ipykernel_29188/3462878902.py\u001b[0m in \u001b[0;36m<module>\u001b[0;34m\u001b[0m\n\u001b[0;32m----> 1\u001b[0;31m \u001b[0mnp\u001b[0m\u001b[0;34m.\u001b[0m\u001b[0madd\u001b[0m\u001b[0;34m(\u001b[0m\u001b[0marray1\u001b[0m\u001b[0;34m,\u001b[0m\u001b[0marray2\u001b[0m\u001b[0;34m)\u001b[0m\u001b[0;34m\u001b[0m\u001b[0;34m\u001b[0m\u001b[0m\n\u001b[0m",
      "\u001b[0;31mValueError\u001b[0m: operands could not be broadcast together with shapes (2,5,3) (3,2,5) "
     ]
    }
   ],
   "source": [
    "np.add(array1,array2)"
   ]
  },
  {
   "cell_type": "markdown",
   "metadata": {},
   "source": [
    "`No podemos sumarlos porque tienen distinta forma.`"
   ]
  },
  {
   "cell_type": "markdown",
   "metadata": {},
   "source": [
    "- Para cambiar la forma de un array y poder hacer operaciones entre arrays que tienen distintas formas hemos aprendido dos métodos:\n",
    ".reshape()\n",
    ".transpose()\n",
    "Utiliza estas dos funciones para cambiar la forma de los array y hacer operaciones entre ellos."
   ]
  },
  {
   "cell_type": "markdown",
   "metadata": {},
   "source": [
    "Vamos a modificar solamente el array 1 con ambos metodos, convirtiendolo en la forma del array2."
   ]
  },
  {
   "cell_type": "code",
   "execution_count": 40,
   "metadata": {},
   "outputs": [],
   "source": [
    "array11 =array1.transpose(2,0,1) #Necesito definir una nueva variable para que queden los cambios, porque el metodo transpose() NO sobreescribe."
   ]
  },
  {
   "cell_type": "markdown",
   "metadata": {},
   "source": [
    "`Al metodo  transpose() lo aplicamos directamente sobre nuestro array y  vamos a especificar el indice donde se encuentra ubicado el valor que necesitamos en esa posicion.`"
   ]
  },
  {
   "cell_type": "code",
   "execution_count": 42,
   "metadata": {},
   "outputs": [
    {
     "data": {
      "text/plain": [
       "array([[[1.48233594, 1.21039272, 1.29427296, 1.45102792, 1.65068711],\n",
       "        [1.9462709 , 1.79403704, 1.02747404, 1.45377559, 1.102307  ]],\n",
       "\n",
       "       [[1.78682439, 1.85781627, 1.16278695, 1.3210061 , 1.14188833],\n",
       "        [1.69473481, 1.52903522, 1.06384143, 1.43974941, 1.36913464]],\n",
       "\n",
       "       [[1.71064661, 1.14273615, 1.66803981, 1.97845575, 1.03518194],\n",
       "        [1.98756436, 1.75090665, 1.38576564, 1.92948384, 1.40442778]]])"
      ]
     },
     "execution_count": 42,
     "metadata": {},
     "output_type": "execute_result"
    }
   ],
   "source": [
    "np.add(array11,array2) #Realizamos la suma de ambos array."
   ]
  },
  {
   "cell_type": "code",
   "execution_count": 45,
   "metadata": {},
   "outputs": [
    {
     "data": {
      "text/plain": [
       "array([[[0.48233594, 0.78682439, 0.71064661, 0.21039272, 0.85781627],\n",
       "        [0.14273615, 0.29427296, 0.16278695, 0.66803981, 0.45102792]],\n",
       "\n",
       "       [[0.3210061 , 0.97845575, 0.65068711, 0.14188833, 0.03518194],\n",
       "        [0.9462709 , 0.69473481, 0.98756436, 0.79403704, 0.52903522]],\n",
       "\n",
       "       [[0.75090665, 0.02747404, 0.06384143, 0.38576564, 0.45377559],\n",
       "        [0.43974941, 0.92948384, 0.102307  , 0.36913464, 0.40442778]]])"
      ]
     },
     "execution_count": 45,
     "metadata": {},
     "output_type": "execute_result"
    }
   ],
   "source": [
    "array111 = np.reshape(array1, (3,2,5))\n",
    "array111"
   ]
  },
  {
   "cell_type": "markdown",
   "metadata": {},
   "source": [
    "`Para el metodo reshape  tenemos que llamar a np y luego especifica sobre que array trabajamos y lo que especificamos es directamente la forma que queremos tenga nuestro array.`"
   ]
  },
  {
   "cell_type": "code",
   "execution_count": 46,
   "metadata": {},
   "outputs": [
    {
     "data": {
      "text/plain": [
       "array([[[0.51766406, 0.21317561, 0.28935339, 0.78960728, 0.14218373],\n",
       "        [0.85726385, 0.70572704, 0.83721305, 0.33196019, 0.54897208]],\n",
       "\n",
       "       [[0.6789939 , 0.02154425, 0.34931289, 0.85811167, 0.96481806],\n",
       "        [0.0537291 , 0.30526519, 0.01243564, 0.20596296, 0.47096478]],\n",
       "\n",
       "       [[0.24909335, 0.97252596, 0.93615857, 0.61423436, 0.54622441],\n",
       "        [0.56025059, 0.07051616, 0.897693  , 0.63086536, 0.59557222]]])"
      ]
     },
     "execution_count": 46,
     "metadata": {},
     "output_type": "execute_result"
    }
   ],
   "source": [
    "np.subtract(array2, array111)# Realizamos la resta de ambos array."
   ]
  }
 ],
 "metadata": {
  "kernelspec": {
   "display_name": "Python 3.9.13 ('base')",
   "language": "python",
   "name": "python3"
  },
  "language_info": {
   "codemirror_mode": {
    "name": "ipython",
    "version": 3
   },
   "file_extension": ".py",
   "mimetype": "text/x-python",
   "name": "python",
   "nbconvert_exporter": "python",
   "pygments_lexer": "ipython3",
   "version": "3.9.13"
  },
  "orig_nbformat": 4,
  "vscode": {
   "interpreter": {
    "hash": "a52af493819045717511545598ab2b73dabca4ca61b402315e0ef2b43666342d"
   }
  }
 },
 "nbformat": 4,
 "nbformat_minor": 2
}
