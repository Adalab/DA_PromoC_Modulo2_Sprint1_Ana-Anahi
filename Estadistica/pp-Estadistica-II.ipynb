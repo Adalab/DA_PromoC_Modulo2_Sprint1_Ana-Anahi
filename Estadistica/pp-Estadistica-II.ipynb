{
 "cells": [
  {
   "attachments": {},
   "cell_type": "markdown",
   "metadata": {},
   "source": [
    "## ESTADISTICA II"
   ]
  },
  {
   "attachments": {},
   "cell_type": "markdown",
   "metadata": {},
   "source": [
    "Happy coding 📊📈📉"
   ]
  },
  {
   "cell_type": "code",
   "execution_count": 1,
   "metadata": {},
   "outputs": [],
   "source": [
    "import numpy as np\n",
    "from scipy import stats\n",
    "import seaborn as sns\n",
    "import pandas as pd\n",
    "import matplotlib.pyplot as plt"
   ]
  },
  {
   "cell_type": "code",
   "execution_count": 2,
   "metadata": {},
   "outputs": [
    {
     "data": {
      "text/html": [
       "<div>\n",
       "<style scoped>\n",
       "    .dataframe tbody tr th:only-of-type {\n",
       "        vertical-align: middle;\n",
       "    }\n",
       "\n",
       "    .dataframe tbody tr th {\n",
       "        vertical-align: top;\n",
       "    }\n",
       "\n",
       "    .dataframe thead th {\n",
       "        text-align: right;\n",
       "    }\n",
       "</style>\n",
       "<table border=\"1\" class=\"dataframe\">\n",
       "  <thead>\n",
       "    <tr style=\"text-align: right;\">\n",
       "      <th></th>\n",
       "      <th>rank</th>\n",
       "      <th>account</th>\n",
       "      <th>title</th>\n",
       "      <th>link</th>\n",
       "      <th>category</th>\n",
       "      <th>followers</th>\n",
       "      <th>audience_country</th>\n",
       "      <th>authentic_engagement</th>\n",
       "      <th>engagement_avg</th>\n",
       "      <th>scraped</th>\n",
       "    </tr>\n",
       "  </thead>\n",
       "  <tbody>\n",
       "    <tr>\n",
       "      <th>998</th>\n",
       "      <td>999</td>\n",
       "      <td>mohanshakti</td>\n",
       "      <td>Shakti Mohan</td>\n",
       "      <td>https://www.instagram.com/mohanshakti/</td>\n",
       "      <td>Art|Artists|Cinema|Actors/actresses</td>\n",
       "      <td>13700000.0</td>\n",
       "      <td>India</td>\n",
       "      <td>146400.0</td>\n",
       "      <td>175500.0</td>\n",
       "      <td>2022-02-07 16:50:24.798803</td>\n",
       "    </tr>\n",
       "    <tr>\n",
       "      <th>999</th>\n",
       "      <td>1000</td>\n",
       "      <td>eduincaz</td>\n",
       "      <td>Eduin Caz</td>\n",
       "      <td>https://www.instagram.com/eduincaz/</td>\n",
       "      <td>Lifestyle</td>\n",
       "      <td>6200000.0</td>\n",
       "      <td>Mexico</td>\n",
       "      <td>305600.0</td>\n",
       "      <td>391900.0</td>\n",
       "      <td>2022-02-07 16:50:24.798803</td>\n",
       "    </tr>\n",
       "  </tbody>\n",
       "</table>\n",
       "</div>"
      ],
      "text/plain": [
       "     rank      account         title                                    link  \\\n",
       "998   999  mohanshakti  Shakti Mohan  https://www.instagram.com/mohanshakti/   \n",
       "999  1000     eduincaz     Eduin Caz     https://www.instagram.com/eduincaz/   \n",
       "\n",
       "                                category   followers audience_country  \\\n",
       "998  Art|Artists|Cinema|Actors/actresses  13700000.0            India   \n",
       "999                            Lifestyle   6200000.0           Mexico   \n",
       "\n",
       "     authentic_engagement  engagement_avg                     scraped  \n",
       "998              146400.0        175500.0  2022-02-07 16:50:24.798803  \n",
       "999              305600.0        391900.0  2022-02-07 16:50:24.798803  "
      ]
     },
     "execution_count": 2,
     "metadata": {},
     "output_type": "execute_result"
    }
   ],
   "source": [
    "df=pd.read_csv('instagram_global_top_1000.csv')\n",
    "df.tail(2)"
   ]
  },
  {
   "attachments": {},
   "cell_type": "markdown",
   "metadata": {},
   "source": [
    "### 1. Extraer los siguentes estadísiticos del conjunto de datos para varias de las varibles disponibles:"
   ]
  },
  {
   "attachments": {},
   "cell_type": "markdown",
   "metadata": {},
   "source": [
    " Utilizando métodos de pandas: media, mediana, moda, máximo y mínimo"
   ]
  },
  {
   "attachments": {},
   "cell_type": "markdown",
   "metadata": {},
   "source": [
    "`Como en el pair de Estadistica I hacemos analisis de variables numéricas, en este pair analizaremos las categóricas. Vamos a analizar los seguidores por pais, valorando seguimientos e interacciones en la app, es decir Nos generamos una consulta de variables numéricas enfrentadas por paises.`"
   ]
  },
  {
   "cell_type": "code",
   "execution_count": 3,
   "metadata": {},
   "outputs": [
    {
     "data": {
      "text/plain": [
       "array(['India', 'United States', 'Argentina', 'Brazil', 'Indonesia',\n",
       "       'Iran', nan, 'France', 'Mexico', 'Russia', 'South Korea', 'Egypt',\n",
       "       'Turkey', 'Spain', 'Italy', 'China', 'Colombia', 'United Kingdom',\n",
       "       'Poland', 'Nigeria', 'Thailand', 'Philippines', 'Saudi Arabia',\n",
       "       'Morocco', 'United Arab Emirates', 'Iraq', 'Germany', 'Algeria',\n",
       "       'Syria', 'Kazakhstan', 'Japan', 'Chile'], dtype=object)"
      ]
     },
     "execution_count": 3,
     "metadata": {},
     "output_type": "execute_result"
    }
   ],
   "source": [
    "df['audience_country'].unique()# Vemos los valores unicos de la columna de paises."
   ]
  },
  {
   "cell_type": "code",
   "execution_count": 30,
   "metadata": {},
   "outputs": [
    {
     "name": "stderr",
     "output_type": "stream",
     "text": [
      "/var/folders/db/hp0l5_js4yv8br5y2tc3frpm0000gn/T/ipykernel_54594/911784312.py:1: FutureWarning: Indexing with multiple keys (implicitly converted to a tuple of keys) will be deprecated, use a list instead.\n",
      "  df2=df.groupby(['audience_country'])['followers','authentic_engagement','engagement_avg'].sum()\n"
     ]
    },
    {
     "data": {
      "text/html": [
       "<div>\n",
       "<style scoped>\n",
       "    .dataframe tbody tr th:only-of-type {\n",
       "        vertical-align: middle;\n",
       "    }\n",
       "\n",
       "    .dataframe tbody tr th {\n",
       "        vertical-align: top;\n",
       "    }\n",
       "\n",
       "    .dataframe thead th {\n",
       "        text-align: right;\n",
       "    }\n",
       "</style>\n",
       "<table border=\"1\" class=\"dataframe\">\n",
       "  <thead>\n",
       "    <tr style=\"text-align: right;\">\n",
       "      <th></th>\n",
       "      <th>followers</th>\n",
       "      <th>authentic_engagement</th>\n",
       "      <th>engagement_avg</th>\n",
       "    </tr>\n",
       "    <tr>\n",
       "      <th>audience_country</th>\n",
       "      <th></th>\n",
       "      <th></th>\n",
       "      <th></th>\n",
       "    </tr>\n",
       "  </thead>\n",
       "  <tbody>\n",
       "    <tr>\n",
       "      <th>Algeria</th>\n",
       "      <td>8.200000e+06</td>\n",
       "      <td>419200.0</td>\n",
       "      <td>539900.0</td>\n",
       "    </tr>\n",
       "    <tr>\n",
       "      <th>Argentina</th>\n",
       "      <td>6.365000e+08</td>\n",
       "      <td>16238000.0</td>\n",
       "      <td>24583200.0</td>\n",
       "    </tr>\n",
       "    <tr>\n",
       "      <th>Brazil</th>\n",
       "      <td>3.588600e+09</td>\n",
       "      <td>69293300.0</td>\n",
       "      <td>105269300.0</td>\n",
       "    </tr>\n",
       "    <tr>\n",
       "      <th>Chile</th>\n",
       "      <td>1.310000e+07</td>\n",
       "      <td>156600.0</td>\n",
       "      <td>257900.0</td>\n",
       "    </tr>\n",
       "    <tr>\n",
       "      <th>China</th>\n",
       "      <td>2.700000e+07</td>\n",
       "      <td>934200.0</td>\n",
       "      <td>1100000.0</td>\n",
       "    </tr>\n",
       "    <tr>\n",
       "      <th>Colombia</th>\n",
       "      <td>1.778000e+08</td>\n",
       "      <td>2676300.0</td>\n",
       "      <td>3677000.0</td>\n",
       "    </tr>\n",
       "    <tr>\n",
       "      <th>Egypt</th>\n",
       "      <td>1.388000e+08</td>\n",
       "      <td>1964000.0</td>\n",
       "      <td>2721200.0</td>\n",
       "    </tr>\n",
       "    <tr>\n",
       "      <th>France</th>\n",
       "      <td>1.428000e+08</td>\n",
       "      <td>4050700.0</td>\n",
       "      <td>5443800.0</td>\n",
       "    </tr>\n",
       "    <tr>\n",
       "      <th>Germany</th>\n",
       "      <td>9.220000e+07</td>\n",
       "      <td>890700.0</td>\n",
       "      <td>1166600.0</td>\n",
       "    </tr>\n",
       "    <tr>\n",
       "      <th>India</th>\n",
       "      <td>4.936000e+09</td>\n",
       "      <td>94945500.0</td>\n",
       "      <td>118007300.0</td>\n",
       "    </tr>\n",
       "    <tr>\n",
       "      <th>Indonesia</th>\n",
       "      <td>2.201500e+09</td>\n",
       "      <td>125343800.0</td>\n",
       "      <td>156001700.0</td>\n",
       "    </tr>\n",
       "    <tr>\n",
       "      <th>Iran</th>\n",
       "      <td>2.947000e+08</td>\n",
       "      <td>10532800.0</td>\n",
       "      <td>15197900.0</td>\n",
       "    </tr>\n",
       "    <tr>\n",
       "      <th>Iraq</th>\n",
       "      <td>6.520000e+07</td>\n",
       "      <td>924000.0</td>\n",
       "      <td>1198100.0</td>\n",
       "    </tr>\n",
       "    <tr>\n",
       "      <th>Italy</th>\n",
       "      <td>2.587000e+08</td>\n",
       "      <td>5835600.0</td>\n",
       "      <td>8519500.0</td>\n",
       "    </tr>\n",
       "    <tr>\n",
       "      <th>Japan</th>\n",
       "      <td>1.440000e+07</td>\n",
       "      <td>864100.0</td>\n",
       "      <td>970100.0</td>\n",
       "    </tr>\n",
       "    <tr>\n",
       "      <th>Kazakhstan</th>\n",
       "      <td>1.400000e+07</td>\n",
       "      <td>735300.0</td>\n",
       "      <td>993700.0</td>\n",
       "    </tr>\n",
       "    <tr>\n",
       "      <th>Mexico</th>\n",
       "      <td>8.295000e+08</td>\n",
       "      <td>30662600.0</td>\n",
       "      <td>39109600.0</td>\n",
       "    </tr>\n",
       "    <tr>\n",
       "      <th>Morocco</th>\n",
       "      <td>2.050000e+07</td>\n",
       "      <td>1253200.0</td>\n",
       "      <td>1776800.0</td>\n",
       "    </tr>\n",
       "    <tr>\n",
       "      <th>Nigeria</th>\n",
       "      <td>6.000000e+07</td>\n",
       "      <td>893700.0</td>\n",
       "      <td>1425000.0</td>\n",
       "    </tr>\n",
       "    <tr>\n",
       "      <th>Philippines</th>\n",
       "      <td>8.790000e+07</td>\n",
       "      <td>2497400.0</td>\n",
       "      <td>2853200.0</td>\n",
       "    </tr>\n",
       "    <tr>\n",
       "      <th>Poland</th>\n",
       "      <td>2.420000e+07</td>\n",
       "      <td>478300.0</td>\n",
       "      <td>607000.0</td>\n",
       "    </tr>\n",
       "    <tr>\n",
       "      <th>Russia</th>\n",
       "      <td>4.074000e+08</td>\n",
       "      <td>14936400.0</td>\n",
       "      <td>19766300.0</td>\n",
       "    </tr>\n",
       "    <tr>\n",
       "      <th>Saudi Arabia</th>\n",
       "      <td>2.480000e+07</td>\n",
       "      <td>635400.0</td>\n",
       "      <td>815400.0</td>\n",
       "    </tr>\n",
       "    <tr>\n",
       "      <th>South Korea</th>\n",
       "      <td>1.424000e+08</td>\n",
       "      <td>14731500.0</td>\n",
       "      <td>17792800.0</td>\n",
       "    </tr>\n",
       "    <tr>\n",
       "      <th>Spain</th>\n",
       "      <td>7.868000e+08</td>\n",
       "      <td>13203000.0</td>\n",
       "      <td>19254500.0</td>\n",
       "    </tr>\n",
       "    <tr>\n",
       "      <th>Syria</th>\n",
       "      <td>8.200000e+06</td>\n",
       "      <td>392100.0</td>\n",
       "      <td>478100.0</td>\n",
       "    </tr>\n",
       "    <tr>\n",
       "      <th>Thailand</th>\n",
       "      <td>4.450000e+07</td>\n",
       "      <td>1789700.0</td>\n",
       "      <td>2293800.0</td>\n",
       "    </tr>\n",
       "    <tr>\n",
       "      <th>Turkey</th>\n",
       "      <td>2.594000e+08</td>\n",
       "      <td>8214100.0</td>\n",
       "      <td>10778300.0</td>\n",
       "    </tr>\n",
       "    <tr>\n",
       "      <th>United Arab Emirates</th>\n",
       "      <td>1.370000e+07</td>\n",
       "      <td>396200.0</td>\n",
       "      <td>523300.0</td>\n",
       "    </tr>\n",
       "    <tr>\n",
       "      <th>United Kingdom</th>\n",
       "      <td>2.831000e+08</td>\n",
       "      <td>4754300.0</td>\n",
       "      <td>7039000.0</td>\n",
       "    </tr>\n",
       "    <tr>\n",
       "      <th>United States</th>\n",
       "      <td>9.116200e+09</td>\n",
       "      <td>188580800.0</td>\n",
       "      <td>262233200.0</td>\n",
       "    </tr>\n",
       "  </tbody>\n",
       "</table>\n",
       "</div>"
      ],
      "text/plain": [
       "                         followers  authentic_engagement  engagement_avg\n",
       "audience_country                                                        \n",
       "Algeria               8.200000e+06              419200.0        539900.0\n",
       "Argentina             6.365000e+08            16238000.0      24583200.0\n",
       "Brazil                3.588600e+09            69293300.0     105269300.0\n",
       "Chile                 1.310000e+07              156600.0        257900.0\n",
       "China                 2.700000e+07              934200.0       1100000.0\n",
       "Colombia              1.778000e+08             2676300.0       3677000.0\n",
       "Egypt                 1.388000e+08             1964000.0       2721200.0\n",
       "France                1.428000e+08             4050700.0       5443800.0\n",
       "Germany               9.220000e+07              890700.0       1166600.0\n",
       "India                 4.936000e+09            94945500.0     118007300.0\n",
       "Indonesia             2.201500e+09           125343800.0     156001700.0\n",
       "Iran                  2.947000e+08            10532800.0      15197900.0\n",
       "Iraq                  6.520000e+07              924000.0       1198100.0\n",
       "Italy                 2.587000e+08             5835600.0       8519500.0\n",
       "Japan                 1.440000e+07              864100.0        970100.0\n",
       "Kazakhstan            1.400000e+07              735300.0        993700.0\n",
       "Mexico                8.295000e+08            30662600.0      39109600.0\n",
       "Morocco               2.050000e+07             1253200.0       1776800.0\n",
       "Nigeria               6.000000e+07              893700.0       1425000.0\n",
       "Philippines           8.790000e+07             2497400.0       2853200.0\n",
       "Poland                2.420000e+07              478300.0        607000.0\n",
       "Russia                4.074000e+08            14936400.0      19766300.0\n",
       "Saudi Arabia          2.480000e+07              635400.0        815400.0\n",
       "South Korea           1.424000e+08            14731500.0      17792800.0\n",
       "Spain                 7.868000e+08            13203000.0      19254500.0\n",
       "Syria                 8.200000e+06              392100.0        478100.0\n",
       "Thailand              4.450000e+07             1789700.0       2293800.0\n",
       "Turkey                2.594000e+08             8214100.0      10778300.0\n",
       "United Arab Emirates  1.370000e+07              396200.0        523300.0\n",
       "United Kingdom        2.831000e+08             4754300.0       7039000.0\n",
       "United States         9.116200e+09           188580800.0     262233200.0"
      ]
     },
     "execution_count": 30,
     "metadata": {},
     "output_type": "execute_result"
    }
   ],
   "source": [
    "df2=df.groupby(['audience_country'])['followers','authentic_engagement','engagement_avg'].sum()\n",
    "df2 # Generamos un nuevo DataFrame con la agrupacion de los datos por paises."
   ]
  },
  {
   "attachments": {},
   "cell_type": "markdown",
   "metadata": {},
   "source": [
    "`La moda no nos da resultado, por la gran amplitud de valores, y lo elevados que son.`"
   ]
  },
  {
   "cell_type": "code",
   "execution_count": 5,
   "metadata": {},
   "outputs": [
    {
     "data": {
      "text/plain": [
       "797358064.516129"
      ]
     },
     "execution_count": 5,
     "metadata": {},
     "output_type": "execute_result"
    }
   ],
   "source": [
    "media_seguidores=df2['followers'].mean() # Calculamos la media de los datos para la columna followers.\n",
    "media_seguidores"
   ]
  },
  {
   "cell_type": "code",
   "execution_count": 6,
   "metadata": {},
   "outputs": [
    {
     "data": {
      "text/plain": [
       "138800000.0"
      ]
     },
     "execution_count": 6,
     "metadata": {},
     "output_type": "execute_result"
    }
   ],
   "source": [
    "mediana_seguidores=df2['followers'].median()# La mediana de los datos para la columna followers.\n",
    "mediana_seguidores"
   ]
  },
  {
   "cell_type": "code",
   "execution_count": 7,
   "metadata": {},
   "outputs": [
    {
     "data": {
      "text/html": [
       "<div>\n",
       "<style scoped>\n",
       "    .dataframe tbody tr th:only-of-type {\n",
       "        vertical-align: middle;\n",
       "    }\n",
       "\n",
       "    .dataframe tbody tr th {\n",
       "        vertical-align: top;\n",
       "    }\n",
       "\n",
       "    .dataframe thead th {\n",
       "        text-align: right;\n",
       "    }\n",
       "</style>\n",
       "<table border=\"1\" class=\"dataframe\">\n",
       "  <thead>\n",
       "    <tr style=\"text-align: right;\">\n",
       "      <th></th>\n",
       "      <th>followers</th>\n",
       "      <th>authentic_engagement</th>\n",
       "      <th>engagement_avg</th>\n",
       "    </tr>\n",
       "    <tr>\n",
       "      <th>audience_country</th>\n",
       "      <th></th>\n",
       "      <th></th>\n",
       "      <th></th>\n",
       "    </tr>\n",
       "  </thead>\n",
       "  <tbody>\n",
       "    <tr>\n",
       "      <th>United States</th>\n",
       "      <td>9.116200e+09</td>\n",
       "      <td>188580800.0</td>\n",
       "      <td>262233200.0</td>\n",
       "    </tr>\n",
       "  </tbody>\n",
       "</table>\n",
       "</div>"
      ],
      "text/plain": [
       "                     followers  authentic_engagement  engagement_avg\n",
       "audience_country                                                    \n",
       "United States     9.116200e+09           188580800.0     262233200.0"
      ]
     },
     "execution_count": 7,
     "metadata": {},
     "output_type": "execute_result"
    }
   ],
   "source": [
    "df2.loc[(df2.followers==df2['followers'].max())] # Buscamos el pais que mas seguidores tiene."
   ]
  },
  {
   "cell_type": "code",
   "execution_count": 8,
   "metadata": {},
   "outputs": [
    {
     "data": {
      "text/html": [
       "<div>\n",
       "<style scoped>\n",
       "    .dataframe tbody tr th:only-of-type {\n",
       "        vertical-align: middle;\n",
       "    }\n",
       "\n",
       "    .dataframe tbody tr th {\n",
       "        vertical-align: top;\n",
       "    }\n",
       "\n",
       "    .dataframe thead th {\n",
       "        text-align: right;\n",
       "    }\n",
       "</style>\n",
       "<table border=\"1\" class=\"dataframe\">\n",
       "  <thead>\n",
       "    <tr style=\"text-align: right;\">\n",
       "      <th></th>\n",
       "      <th>followers</th>\n",
       "      <th>authentic_engagement</th>\n",
       "      <th>engagement_avg</th>\n",
       "    </tr>\n",
       "    <tr>\n",
       "      <th>audience_country</th>\n",
       "      <th></th>\n",
       "      <th></th>\n",
       "      <th></th>\n",
       "    </tr>\n",
       "  </thead>\n",
       "  <tbody>\n",
       "    <tr>\n",
       "      <th>Algeria</th>\n",
       "      <td>8200000.0</td>\n",
       "      <td>419200.0</td>\n",
       "      <td>539900.0</td>\n",
       "    </tr>\n",
       "    <tr>\n",
       "      <th>Syria</th>\n",
       "      <td>8200000.0</td>\n",
       "      <td>392100.0</td>\n",
       "      <td>478100.0</td>\n",
       "    </tr>\n",
       "  </tbody>\n",
       "</table>\n",
       "</div>"
      ],
      "text/plain": [
       "                  followers  authentic_engagement  engagement_avg\n",
       "audience_country                                                 \n",
       "Algeria           8200000.0              419200.0        539900.0\n",
       "Syria             8200000.0              392100.0        478100.0"
      ]
     },
     "execution_count": 8,
     "metadata": {},
     "output_type": "execute_result"
    }
   ],
   "source": [
    "df2.loc[(df2.followers==df2['followers'].min())] # Buscamos el pais que menos seguidores tiene."
   ]
  },
  {
   "cell_type": "code",
   "execution_count": 10,
   "metadata": {},
   "outputs": [
    {
     "data": {
      "text/plain": [
       "0    8200000.0\n",
       "Name: followers, dtype: float64"
      ]
     },
     "execution_count": 10,
     "metadata": {},
     "output_type": "execute_result"
    }
   ],
   "source": [
    "df2['followers'].mode() # Calculamos la moda para followers.\n",
    "#aunque en este caso, no es un dato muy representativo"
   ]
  },
  {
   "cell_type": "code",
   "execution_count": 11,
   "metadata": {},
   "outputs": [
    {
     "data": {
      "text/plain": [
       "19974929.032258064"
      ]
     },
     "execution_count": 11,
     "metadata": {},
     "output_type": "execute_result"
    }
   ],
   "source": [
    "media_actividad=df2['authentic_engagement'].mean() # Calculamos la media para la variable de reacciones.\n",
    "media_actividad"
   ]
  },
  {
   "cell_type": "code",
   "execution_count": 28,
   "metadata": {},
   "outputs": [
    {
     "data": {
      "text/plain": [
       "2497400.0"
      ]
     },
     "execution_count": 28,
     "metadata": {},
     "output_type": "execute_result"
    }
   ],
   "source": [
    "mediana_actividad=df2['authentic_engagement'].median() # Calculamos la mediana para la variable de reacciones.\n",
    "mediana_actividad"
   ]
  },
  {
   "cell_type": "code",
   "execution_count": 12,
   "metadata": {},
   "outputs": [
    {
     "data": {
      "text/html": [
       "<div>\n",
       "<style scoped>\n",
       "    .dataframe tbody tr th:only-of-type {\n",
       "        vertical-align: middle;\n",
       "    }\n",
       "\n",
       "    .dataframe tbody tr th {\n",
       "        vertical-align: top;\n",
       "    }\n",
       "\n",
       "    .dataframe thead th {\n",
       "        text-align: right;\n",
       "    }\n",
       "</style>\n",
       "<table border=\"1\" class=\"dataframe\">\n",
       "  <thead>\n",
       "    <tr style=\"text-align: right;\">\n",
       "      <th></th>\n",
       "      <th>followers</th>\n",
       "      <th>authentic_engagement</th>\n",
       "      <th>engagement_avg</th>\n",
       "    </tr>\n",
       "    <tr>\n",
       "      <th>audience_country</th>\n",
       "      <th></th>\n",
       "      <th></th>\n",
       "      <th></th>\n",
       "    </tr>\n",
       "  </thead>\n",
       "  <tbody>\n",
       "    <tr>\n",
       "      <th>United States</th>\n",
       "      <td>9.116200e+09</td>\n",
       "      <td>188580800.0</td>\n",
       "      <td>262233200.0</td>\n",
       "    </tr>\n",
       "  </tbody>\n",
       "</table>\n",
       "</div>"
      ],
      "text/plain": [
       "                     followers  authentic_engagement  engagement_avg\n",
       "audience_country                                                    \n",
       "United States     9.116200e+09           188580800.0     262233200.0"
      ]
     },
     "execution_count": 12,
     "metadata": {},
     "output_type": "execute_result"
    }
   ],
   "source": [
    "df2.loc[(df2.authentic_engagement==df2['authentic_engagement'].max())] # Buscamos el pais que mas seguidores interacciones/reacciones dio."
   ]
  },
  {
   "cell_type": "code",
   "execution_count": 13,
   "metadata": {},
   "outputs": [
    {
     "data": {
      "text/html": [
       "<div>\n",
       "<style scoped>\n",
       "    .dataframe tbody tr th:only-of-type {\n",
       "        vertical-align: middle;\n",
       "    }\n",
       "\n",
       "    .dataframe tbody tr th {\n",
       "        vertical-align: top;\n",
       "    }\n",
       "\n",
       "    .dataframe thead th {\n",
       "        text-align: right;\n",
       "    }\n",
       "</style>\n",
       "<table border=\"1\" class=\"dataframe\">\n",
       "  <thead>\n",
       "    <tr style=\"text-align: right;\">\n",
       "      <th></th>\n",
       "      <th>followers</th>\n",
       "      <th>authentic_engagement</th>\n",
       "      <th>engagement_avg</th>\n",
       "    </tr>\n",
       "    <tr>\n",
       "      <th>audience_country</th>\n",
       "      <th></th>\n",
       "      <th></th>\n",
       "      <th></th>\n",
       "    </tr>\n",
       "  </thead>\n",
       "  <tbody>\n",
       "    <tr>\n",
       "      <th>Chile</th>\n",
       "      <td>13100000.0</td>\n",
       "      <td>156600.0</td>\n",
       "      <td>257900.0</td>\n",
       "    </tr>\n",
       "  </tbody>\n",
       "</table>\n",
       "</div>"
      ],
      "text/plain": [
       "                   followers  authentic_engagement  engagement_avg\n",
       "audience_country                                                  \n",
       "Chile             13100000.0              156600.0        257900.0"
      ]
     },
     "execution_count": 13,
     "metadata": {},
     "output_type": "execute_result"
    }
   ],
   "source": [
    "df2.loc[(df2.authentic_engagement==df2['authentic_engagement'].min())]# Buscamos el pais que menos seguidores interacciones/reacciones dio."
   ]
  },
  {
   "cell_type": "code",
   "execution_count": 14,
   "metadata": {},
   "outputs": [
    {
     "data": {
      "text/plain": [
       "0    1100000.0\n",
       "Name: authentic_engagement, dtype: float64"
      ]
     },
     "execution_count": 14,
     "metadata": {},
     "output_type": "execute_result"
    }
   ],
   "source": [
    "df['authentic_engagement'].mode()"
   ]
  },
  {
   "cell_type": "code",
   "execution_count": 15,
   "metadata": {},
   "outputs": [
    {
     "data": {
      "text/plain": [
       "38721434.58455885"
      ]
     },
     "execution_count": 15,
     "metadata": {},
     "output_type": "execute_result"
    }
   ],
   "source": [
    "std_seguidores=df['followers'].std() #Calculamos la desviacion tipica de seguidores.\n",
    "std_seguidores"
   ]
  },
  {
   "cell_type": "code",
   "execution_count": 16,
   "metadata": {},
   "outputs": [
    {
     "data": {
      "text/plain": [
       "1098803.506458703"
      ]
     },
     "execution_count": 16,
     "metadata": {},
     "output_type": "execute_result"
    }
   ],
   "source": [
    "std_reacciones=df['authentic_engagement'].std()  #Calculamos la desviacion tipica de reacciones.\n",
    "std_reacciones"
   ]
  },
  {
   "attachments": {},
   "cell_type": "markdown",
   "metadata": {},
   "source": [
    "Percentiles 25, 75"
   ]
  },
  {
   "cell_type": "code",
   "execution_count": 18,
   "metadata": {},
   "outputs": [
    {
     "name": "stdout",
     "output_type": "stream",
     "text": [
      "El valor de nuestro primer percentil  en seguidores es Q1= 24500000.0\n"
     ]
    }
   ],
   "source": [
    "percentil_25_followers=np.nanpercentile(df2['followers'],25)\n",
    "print(f'El valor de nuestro primer percentil  en seguidores es Q1= {percentil_25_followers}')\n"
   ]
  },
  {
   "cell_type": "code",
   "execution_count": 34,
   "metadata": {},
   "outputs": [],
   "source": [
    "#nuestra desviacion estandar en followers, es mayor al percentil 25, datos bastante heterogeneos"
   ]
  },
  {
   "cell_type": "code",
   "execution_count": 19,
   "metadata": {},
   "outputs": [
    {
     "name": "stdout",
     "output_type": "stream",
     "text": [
      "El valor de nuestro tercer percentil en seguidores es Q3 = 351050000.0\n"
     ]
    }
   ],
   "source": [
    "percentil_75_followers= np.nanpercentile(df2['followers'],75)\n",
    "print(f'El valor de nuestro tercer percentil en seguidores es Q3 = {percentil_75_followers}')"
   ]
  },
  {
   "cell_type": "code",
   "execution_count": 20,
   "metadata": {},
   "outputs": [
    {
     "name": "stdout",
     "output_type": "stream",
     "text": [
      "El valor de nuestro primer percentil  en reacciones es Q1= 877400.0\n"
     ]
    }
   ],
   "source": [
    "percentil_25_actividad=np.nanpercentile(df2['authentic_engagement'],25)\n",
    "print(f'El valor de nuestro primer percentil  en reacciones es Q1= {percentil_25_actividad}')\n"
   ]
  },
  {
   "cell_type": "code",
   "execution_count": 21,
   "metadata": {},
   "outputs": [
    {
     "name": "stdout",
     "output_type": "stream",
     "text": [
      "El valor de nuestro tercer percentil en reacciones es Q3 = 13967250.0\n"
     ]
    }
   ],
   "source": [
    "percentil_75_actividad=np.nanpercentile(df2['authentic_engagement'],75)\n",
    "print(f'El valor de nuestro tercer percentil en reacciones es Q3 = {percentil_75_actividad}')\n",
    "\n",
    "#el 75% de paises tiene una actividad menor a unos 14 millones, valor inferior a la media del total"
   ]
  },
  {
   "attachments": {},
   "cell_type": "markdown",
   "metadata": {},
   "source": [
    "- Rango Intercualtílico Seguidores"
   ]
  },
  {
   "cell_type": "code",
   "execution_count": 38,
   "metadata": {},
   "outputs": [
    {
     "data": {
      "text/plain": [
       "326550000.0"
      ]
     },
     "execution_count": 38,
     "metadata": {},
     "output_type": "execute_result"
    }
   ],
   "source": [
    "IQR_followers=percentil_75_followers-percentil_25_followers \n",
    "IQR_followers"
   ]
  },
  {
   "attachments": {},
   "cell_type": "markdown",
   "metadata": {},
   "source": [
    "- Rango Intercualtílico Reacciones/Interacciones"
   ]
  },
  {
   "cell_type": "code",
   "execution_count": 39,
   "metadata": {},
   "outputs": [
    {
     "data": {
      "text/plain": [
       "13089850.0"
      ]
     },
     "execution_count": 39,
     "metadata": {},
     "output_type": "execute_result"
    }
   ],
   "source": [
    "IQR_actividad=percentil_75_actividad-percentil_25_actividad\n",
    "IQR_actividad"
   ]
  },
  {
   "attachments": {},
   "cell_type": "markdown",
   "metadata": {},
   "source": [
    "`Observamos que IQR o lo que seria el percentil 50, es mucho más cercano a los percentiles 75 que a los 25, nos indica que hay una gran dispersion de datos, acumulándose hacia los valores mas altos, lo que nos indica que en nuestro dataset la mayoria de los paises presentan bajos valores de actividad y número de followers. La mayoria de followers y actividad se concentrarian en pocos paises.`"
   ]
  },
  {
   "attachments": {},
   "cell_type": "markdown",
   "metadata": {},
   "source": [
    "Boxplot de algunas variables"
   ]
  },
  {
   "attachments": {},
   "cell_type": "markdown",
   "metadata": {},
   "source": [
    "- VARIABLE SEGUIDORES(FOLLOWERS)"
   ]
  },
  {
   "cell_type": "code",
   "execution_count": 34,
   "metadata": {},
   "outputs": [],
   "source": [
    "df2.reset_index(inplace=True)"
   ]
  },
  {
   "cell_type": "code",
   "execution_count": 35,
   "metadata": {},
   "outputs": [
    {
     "data": {
      "text/plain": [
       "Index(['audience_country', 'followers', 'authentic_engagement',\n",
       "       'engagement_avg'],\n",
       "      dtype='object')"
      ]
     },
     "execution_count": 35,
     "metadata": {},
     "output_type": "execute_result"
    }
   ],
   "source": [
    "df2.columns"
   ]
  },
  {
   "cell_type": "code",
   "execution_count": 22,
   "metadata": {},
   "outputs": [
    {
     "data": {
      "image/png": "[encoded data removed]",
      "text/plain": [
       "<Figure size 2000x1000 with 2 Axes>"
      ]
     },
     "metadata": {},
     "output_type": "display_data"
    }
   ],
   "source": [
    "fig,ax=plt.subplots(1,2, figsize=(20,10))\n",
    "sns.histplot(x='followers', data=df2, ax=ax[0], bins='auto')\n",
    "sns.boxplot(y='followers', data=df2, ax=ax[1])\n",
    "plt.show()\n",
    "\n"
   ]
  },
  {
   "cell_type": "code",
   "execution_count": 68,
   "metadata": {},
   "outputs": [
    {
     "data": {
      "text/plain": [
       "<matplotlib.lines.Line2D at 0x7f90c9e8d2e0>"
      ]
     },
     "execution_count": 68,
     "metadata": {},
     "output_type": "execute_result"
    },
    {
     "data": {
      "image/png": "[encoded data removed]",
      "text/plain": [
       "<Figure size 432x288 with 1 Axes>"
      ]
     },
     "metadata": {
      "needs_background": "light"
     },
     "output_type": "display_data"
    }
   ],
   "source": [
    "sns.histplot(x='followers', data=df2, bins='auto')\n",
    "plt.axvline(media_seguidores, color='orange')\n",
    "plt.axvline(mediana_seguidores, color='green')\n",
    "plt.axvline(std_seguidores, color='red')\n"
   ]
  },
  {
   "attachments": {},
   "cell_type": "markdown",
   "metadata": {},
   "source": [
    "- VARIABLE REACCIONES/INTERACCIONES"
   ]
  },
  {
   "cell_type": "code",
   "execution_count": 63,
   "metadata": {},
   "outputs": [
    {
     "data": {
      "image/png": "[encoded data removed]",
      "text/plain": [
       "<Figure size 1440x720 with 2 Axes>"
      ]
     },
     "metadata": {
      "needs_background": "light"
     },
     "output_type": "display_data"
    }
   ],
   "source": [
    "fig,ax=plt.subplots(1,2, figsize=(20,10))\n",
    "sns.histplot(x='authentic_engagement', data=df2, ax=ax[0], bins='auto')\n",
    "plt.axvline(media_actividad, color='orange')\n",
    "plt.axvline(mediana_actividad, color='green')\n",
    "sns.boxplot(y='authentic_engagement', data=df2, ax=ax[1])\n",
    "plt.show()"
   ]
  },
  {
   "cell_type": "code",
   "execution_count": 70,
   "metadata": {},
   "outputs": [
    {
     "data": {
      "text/plain": [
       "<matplotlib.lines.Line2D at 0x7f90ca6a5d30>"
      ]
     },
     "execution_count": 70,
     "metadata": {},
     "output_type": "execute_result"
    },
    {
     "data": {
      "image/png": "[encoded data removed]",
      "text/plain": [
       "<Figure size 432x288 with 1 Axes>"
      ]
     },
     "metadata": {
      "needs_background": "light"
     },
     "output_type": "display_data"
    }
   ],
   "source": [
    "sns.histplot(x='authentic_engagement', data=df2, bins='auto')\n",
    "plt.axvline(media_actividad, color='orange')\n",
    "plt.axvline(mediana_actividad, color='green')\n",
    "plt.axvline(std_reacciones, color='red')"
   ]
  },
  {
   "attachments": {},
   "cell_type": "markdown",
   "metadata": {},
   "source": [
    "`Las gráficas apoyan nuestras observaciones anteriores, tenemos valores fuera de rango altísimos(sobre todo USA), y la mayoria de nuestros datos se concentran en paises con bajo número de seguidores y bajo número de actividad en la app.\n",
    "Dibujamos el histograma para que nos ayude en la interpretación de la grafica boxplot.`"
   ]
  },
  {
   "attachments": {},
   "cell_type": "markdown",
   "metadata": {},
   "source": [
    "Tabla de frecuencias"
   ]
  },
  {
   "attachments": {},
   "cell_type": "markdown",
   "metadata": {},
   "source": [
    "`Como nuestros datos no son a nivel mundial para cada cuenta, hemos decidido trabajar ahora con el numero de followers, dandoles categoria en vez de valor numérico,aunque seguimos teniendo muestra muy heterogénea de datos aparentemente, porque no sabemos en base a que se han seleccionado determinados paises para cada cuenta.`"
   ]
  },
  {
   "cell_type": "code",
   "execution_count": 52,
   "metadata": {},
   "outputs": [],
   "source": [
    "def cambiar_followers(col): # Creamos la funcion para categorizar la variable 'followers'\n",
    "    if col<=24500000.0:\n",
    "        return 'baja'\n",
    "    elif col >24500000.0 and col<=351050000.0:\n",
    "        return 'medio'\n",
    "    else:\n",
    "        return 'alto'"
   ]
  },
  {
   "cell_type": "code",
   "execution_count": 54,
   "metadata": {},
   "outputs": [],
   "source": [
    "df['seguidores']=df['followers'].apply(cambiar_followers) # Creamos la nueva columna con la categorizacion."
   ]
  },
  {
   "cell_type": "code",
   "execution_count": 55,
   "metadata": {},
   "outputs": [
    {
     "data": {
      "text/plain": [
       "baja     739\n",
       "medio    259\n",
       "alto       2\n",
       "Name: seguidores, dtype: int64"
      ]
     },
     "execution_count": 55,
     "metadata": {},
     "output_type": "execute_result"
    }
   ],
   "source": [
    "df['seguidores'].value_counts()"
   ]
  },
  {
   "attachments": {},
   "cell_type": "markdown",
   "metadata": {},
   "source": [
    "a) Variables cualitativas"
   ]
  },
  {
   "cell_type": "code",
   "execution_count": 56,
   "metadata": {},
   "outputs": [
    {
     "data": {
      "text/html": [
       "<div>\n",
       "<style scoped>\n",
       "    .dataframe tbody tr th:only-of-type {\n",
       "        vertical-align: middle;\n",
       "    }\n",
       "\n",
       "    .dataframe tbody tr th {\n",
       "        vertical-align: top;\n",
       "    }\n",
       "\n",
       "    .dataframe thead th {\n",
       "        text-align: right;\n",
       "    }\n",
       "</style>\n",
       "<table border=\"1\" class=\"dataframe\">\n",
       "  <thead>\n",
       "    <tr style=\"text-align: right;\">\n",
       "      <th></th>\n",
       "      <th>seguidores</th>\n",
       "      <th>rank</th>\n",
       "      <th>account</th>\n",
       "      <th>title</th>\n",
       "      <th>link</th>\n",
       "      <th>category</th>\n",
       "      <th>followers</th>\n",
       "      <th>audience_country</th>\n",
       "      <th>authentic_engagement</th>\n",
       "      <th>engagement_avg</th>\n",
       "      <th>scraped</th>\n",
       "    </tr>\n",
       "  </thead>\n",
       "  <tbody>\n",
       "    <tr>\n",
       "      <th>0</th>\n",
       "      <td>alto</td>\n",
       "      <td>2</td>\n",
       "      <td>2</td>\n",
       "      <td>2</td>\n",
       "      <td>2</td>\n",
       "      <td>2</td>\n",
       "      <td>2</td>\n",
       "      <td>2</td>\n",
       "      <td>2</td>\n",
       "      <td>2</td>\n",
       "      <td>2</td>\n",
       "    </tr>\n",
       "    <tr>\n",
       "      <th>1</th>\n",
       "      <td>baja</td>\n",
       "      <td>739</td>\n",
       "      <td>739</td>\n",
       "      <td>726</td>\n",
       "      <td>739</td>\n",
       "      <td>655</td>\n",
       "      <td>739</td>\n",
       "      <td>735</td>\n",
       "      <td>739</td>\n",
       "      <td>739</td>\n",
       "      <td>739</td>\n",
       "    </tr>\n",
       "    <tr>\n",
       "      <th>2</th>\n",
       "      <td>medio</td>\n",
       "      <td>259</td>\n",
       "      <td>259</td>\n",
       "      <td>255</td>\n",
       "      <td>259</td>\n",
       "      <td>252</td>\n",
       "      <td>259</td>\n",
       "      <td>256</td>\n",
       "      <td>259</td>\n",
       "      <td>259</td>\n",
       "      <td>259</td>\n",
       "    </tr>\n",
       "  </tbody>\n",
       "</table>\n",
       "</div>"
      ],
      "text/plain": [
       "  seguidores  rank  account  title  link  category  followers  \\\n",
       "0       alto     2        2      2     2         2          2   \n",
       "1       baja   739      739    726   739       655        739   \n",
       "2      medio   259      259    255   259       252        259   \n",
       "\n",
       "   audience_country  authentic_engagement  engagement_avg  scraped  \n",
       "0                 2                     2               2        2  \n",
       "1               735                   739             739      739  \n",
       "2               256                   259             259      259  "
      ]
     },
     "execution_count": 56,
     "metadata": {},
     "output_type": "execute_result"
    }
   ],
   "source": [
    "df_seguidores=df.groupby('seguidores').count().reset_index()\n",
    "df_seguidores"
   ]
  },
  {
   "attachments": {},
   "cell_type": "markdown",
   "metadata": {},
   "source": [
    "`Vemos que coincide con el vale_counts como esperabamos, tenemos 2 filas, o cuentas de instagram en el rango alto de seguidores, 259 en el rango medio(que hemos fijado entre los percentiles 25 y 75), y 739 en el rango bajo de seguidores(que hemos fijado en el percentil 25)`"
   ]
  },
  {
   "attachments": {},
   "cell_type": "markdown",
   "metadata": {},
   "source": [
    "b) Variables cuantitativas"
   ]
  },
  {
   "cell_type": "code",
   "execution_count": 57,
   "metadata": {},
   "outputs": [
    {
     "data": {
      "text/html": [
       "<div>\n",
       "<style scoped>\n",
       "    .dataframe tbody tr th:only-of-type {\n",
       "        vertical-align: middle;\n",
       "    }\n",
       "\n",
       "    .dataframe tbody tr th {\n",
       "        vertical-align: top;\n",
       "    }\n",
       "\n",
       "    .dataframe thead th {\n",
       "        text-align: right;\n",
       "    }\n",
       "</style>\n",
       "<table border=\"1\" class=\"dataframe\">\n",
       "  <thead>\n",
       "    <tr style=\"text-align: right;\">\n",
       "      <th></th>\n",
       "      <th>authentic_engagement</th>\n",
       "      <th>rank</th>\n",
       "      <th>account</th>\n",
       "      <th>title</th>\n",
       "      <th>link</th>\n",
       "      <th>category</th>\n",
       "      <th>followers</th>\n",
       "      <th>audience_country</th>\n",
       "      <th>engagement_avg</th>\n",
       "      <th>scraped</th>\n",
       "      <th>seguidores</th>\n",
       "    </tr>\n",
       "  </thead>\n",
       "  <tbody>\n",
       "    <tr>\n",
       "      <th>0</th>\n",
       "      <td>0.0</td>\n",
       "      <td>4</td>\n",
       "      <td>4</td>\n",
       "      <td>4</td>\n",
       "      <td>4</td>\n",
       "      <td>3</td>\n",
       "      <td>4</td>\n",
       "      <td>0</td>\n",
       "      <td>4</td>\n",
       "      <td>4</td>\n",
       "      <td>4</td>\n",
       "    </tr>\n",
       "    <tr>\n",
       "      <th>1</th>\n",
       "      <td>38300.0</td>\n",
       "      <td>1</td>\n",
       "      <td>1</td>\n",
       "      <td>1</td>\n",
       "      <td>1</td>\n",
       "      <td>1</td>\n",
       "      <td>1</td>\n",
       "      <td>1</td>\n",
       "      <td>1</td>\n",
       "      <td>1</td>\n",
       "      <td>1</td>\n",
       "    </tr>\n",
       "    <tr>\n",
       "      <th>2</th>\n",
       "      <td>38600.0</td>\n",
       "      <td>1</td>\n",
       "      <td>1</td>\n",
       "      <td>1</td>\n",
       "      <td>1</td>\n",
       "      <td>1</td>\n",
       "      <td>1</td>\n",
       "      <td>1</td>\n",
       "      <td>1</td>\n",
       "      <td>1</td>\n",
       "      <td>1</td>\n",
       "    </tr>\n",
       "    <tr>\n",
       "      <th>3</th>\n",
       "      <td>39200.0</td>\n",
       "      <td>1</td>\n",
       "      <td>1</td>\n",
       "      <td>1</td>\n",
       "      <td>1</td>\n",
       "      <td>1</td>\n",
       "      <td>1</td>\n",
       "      <td>1</td>\n",
       "      <td>1</td>\n",
       "      <td>1</td>\n",
       "      <td>1</td>\n",
       "    </tr>\n",
       "    <tr>\n",
       "      <th>4</th>\n",
       "      <td>46600.0</td>\n",
       "      <td>1</td>\n",
       "      <td>1</td>\n",
       "      <td>1</td>\n",
       "      <td>1</td>\n",
       "      <td>1</td>\n",
       "      <td>1</td>\n",
       "      <td>1</td>\n",
       "      <td>1</td>\n",
       "      <td>1</td>\n",
       "      <td>1</td>\n",
       "    </tr>\n",
       "    <tr>\n",
       "      <th>...</th>\n",
       "      <td>...</td>\n",
       "      <td>...</td>\n",
       "      <td>...</td>\n",
       "      <td>...</td>\n",
       "      <td>...</td>\n",
       "      <td>...</td>\n",
       "      <td>...</td>\n",
       "      <td>...</td>\n",
       "      <td>...</td>\n",
       "      <td>...</td>\n",
       "      <td>...</td>\n",
       "    </tr>\n",
       "    <tr>\n",
       "      <th>849</th>\n",
       "      <td>8900000.0</td>\n",
       "      <td>1</td>\n",
       "      <td>1</td>\n",
       "      <td>1</td>\n",
       "      <td>1</td>\n",
       "      <td>0</td>\n",
       "      <td>1</td>\n",
       "      <td>0</td>\n",
       "      <td>1</td>\n",
       "      <td>1</td>\n",
       "      <td>1</td>\n",
       "    </tr>\n",
       "    <tr>\n",
       "      <th>850</th>\n",
       "      <td>10400000.0</td>\n",
       "      <td>1</td>\n",
       "      <td>1</td>\n",
       "      <td>1</td>\n",
       "      <td>1</td>\n",
       "      <td>0</td>\n",
       "      <td>1</td>\n",
       "      <td>0</td>\n",
       "      <td>1</td>\n",
       "      <td>1</td>\n",
       "      <td>1</td>\n",
       "    </tr>\n",
       "    <tr>\n",
       "      <th>851</th>\n",
       "      <td>10600000.0</td>\n",
       "      <td>1</td>\n",
       "      <td>1</td>\n",
       "      <td>1</td>\n",
       "      <td>1</td>\n",
       "      <td>0</td>\n",
       "      <td>1</td>\n",
       "      <td>0</td>\n",
       "      <td>1</td>\n",
       "      <td>1</td>\n",
       "      <td>1</td>\n",
       "    </tr>\n",
       "    <tr>\n",
       "      <th>852</th>\n",
       "      <td>11100000.0</td>\n",
       "      <td>1</td>\n",
       "      <td>1</td>\n",
       "      <td>1</td>\n",
       "      <td>1</td>\n",
       "      <td>0</td>\n",
       "      <td>1</td>\n",
       "      <td>1</td>\n",
       "      <td>1</td>\n",
       "      <td>1</td>\n",
       "      <td>1</td>\n",
       "    </tr>\n",
       "    <tr>\n",
       "      <th>853</th>\n",
       "      <td>13400000.0</td>\n",
       "      <td>1</td>\n",
       "      <td>1</td>\n",
       "      <td>1</td>\n",
       "      <td>1</td>\n",
       "      <td>0</td>\n",
       "      <td>1</td>\n",
       "      <td>1</td>\n",
       "      <td>1</td>\n",
       "      <td>1</td>\n",
       "      <td>1</td>\n",
       "    </tr>\n",
       "  </tbody>\n",
       "</table>\n",
       "<p>854 rows × 11 columns</p>\n",
       "</div>"
      ],
      "text/plain": [
       "     authentic_engagement  rank  account  title  link  category  followers  \\\n",
       "0                     0.0     4        4      4     4         3          4   \n",
       "1                 38300.0     1        1      1     1         1          1   \n",
       "2                 38600.0     1        1      1     1         1          1   \n",
       "3                 39200.0     1        1      1     1         1          1   \n",
       "4                 46600.0     1        1      1     1         1          1   \n",
       "..                    ...   ...      ...    ...   ...       ...        ...   \n",
       "849             8900000.0     1        1      1     1         0          1   \n",
       "850            10400000.0     1        1      1     1         0          1   \n",
       "851            10600000.0     1        1      1     1         0          1   \n",
       "852            11100000.0     1        1      1     1         0          1   \n",
       "853            13400000.0     1        1      1     1         0          1   \n",
       "\n",
       "     audience_country  engagement_avg  scraped  seguidores  \n",
       "0                   0               4        4           4  \n",
       "1                   1               1        1           1  \n",
       "2                   1               1        1           1  \n",
       "3                   1               1        1           1  \n",
       "4                   1               1        1           1  \n",
       "..                ...             ...      ...         ...  \n",
       "849                 0               1        1           1  \n",
       "850                 0               1        1           1  \n",
       "851                 0               1        1           1  \n",
       "852                 1               1        1           1  \n",
       "853                 1               1        1           1  \n",
       "\n",
       "[854 rows x 11 columns]"
      ]
     },
     "execution_count": 57,
     "metadata": {},
     "output_type": "execute_result"
    }
   ],
   "source": [
    "df_seguidores2=df.groupby('authentic_engagement').count().reset_index() # Agrupamos por la columna de reacciones.\n",
    "df_seguidores2"
   ]
  },
  {
   "cell_type": "code",
   "execution_count": 51,
   "metadata": {},
   "outputs": [
    {
     "data": {
      "text/html": [
       "<div>\n",
       "<style scoped>\n",
       "    .dataframe tbody tr th:only-of-type {\n",
       "        vertical-align: middle;\n",
       "    }\n",
       "\n",
       "    .dataframe tbody tr th {\n",
       "        vertical-align: top;\n",
       "    }\n",
       "\n",
       "    .dataframe thead th {\n",
       "        text-align: right;\n",
       "    }\n",
       "</style>\n",
       "<table border=\"1\" class=\"dataframe\">\n",
       "  <thead>\n",
       "    <tr style=\"text-align: right;\">\n",
       "      <th></th>\n",
       "      <th>followers</th>\n",
       "      <th>rank</th>\n",
       "      <th>account</th>\n",
       "      <th>title</th>\n",
       "      <th>link</th>\n",
       "      <th>category</th>\n",
       "      <th>audience_country</th>\n",
       "      <th>authentic_engagement</th>\n",
       "      <th>engagement_avg</th>\n",
       "      <th>scraped</th>\n",
       "      <th>seguidores</th>\n",
       "    </tr>\n",
       "  </thead>\n",
       "  <tbody>\n",
       "    <tr>\n",
       "      <th>0</th>\n",
       "      <td>2800000.0</td>\n",
       "      <td>1</td>\n",
       "      <td>1</td>\n",
       "      <td>1</td>\n",
       "      <td>1</td>\n",
       "      <td>0</td>\n",
       "      <td>1</td>\n",
       "      <td>1</td>\n",
       "      <td>1</td>\n",
       "      <td>1</td>\n",
       "      <td>1</td>\n",
       "    </tr>\n",
       "    <tr>\n",
       "      <th>1</th>\n",
       "      <td>3100000.0</td>\n",
       "      <td>1</td>\n",
       "      <td>1</td>\n",
       "      <td>1</td>\n",
       "      <td>1</td>\n",
       "      <td>0</td>\n",
       "      <td>1</td>\n",
       "      <td>1</td>\n",
       "      <td>1</td>\n",
       "      <td>1</td>\n",
       "      <td>1</td>\n",
       "    </tr>\n",
       "    <tr>\n",
       "      <th>2</th>\n",
       "      <td>3200000.0</td>\n",
       "      <td>3</td>\n",
       "      <td>3</td>\n",
       "      <td>3</td>\n",
       "      <td>3</td>\n",
       "      <td>1</td>\n",
       "      <td>3</td>\n",
       "      <td>3</td>\n",
       "      <td>3</td>\n",
       "      <td>3</td>\n",
       "      <td>3</td>\n",
       "    </tr>\n",
       "    <tr>\n",
       "      <th>3</th>\n",
       "      <td>3400000.0</td>\n",
       "      <td>1</td>\n",
       "      <td>1</td>\n",
       "      <td>0</td>\n",
       "      <td>1</td>\n",
       "      <td>1</td>\n",
       "      <td>1</td>\n",
       "      <td>1</td>\n",
       "      <td>1</td>\n",
       "      <td>1</td>\n",
       "      <td>1</td>\n",
       "    </tr>\n",
       "    <tr>\n",
       "      <th>4</th>\n",
       "      <td>3500000.0</td>\n",
       "      <td>3</td>\n",
       "      <td>3</td>\n",
       "      <td>3</td>\n",
       "      <td>3</td>\n",
       "      <td>0</td>\n",
       "      <td>2</td>\n",
       "      <td>3</td>\n",
       "      <td>3</td>\n",
       "      <td>3</td>\n",
       "      <td>3</td>\n",
       "    </tr>\n",
       "    <tr>\n",
       "      <th>...</th>\n",
       "      <td>...</td>\n",
       "      <td>...</td>\n",
       "      <td>...</td>\n",
       "      <td>...</td>\n",
       "      <td>...</td>\n",
       "      <td>...</td>\n",
       "      <td>...</td>\n",
       "      <td>...</td>\n",
       "      <td>...</td>\n",
       "      <td>...</td>\n",
       "      <td>...</td>\n",
       "    </tr>\n",
       "    <tr>\n",
       "      <th>394</th>\n",
       "      <td>295800000.0</td>\n",
       "      <td>2</td>\n",
       "      <td>2</td>\n",
       "      <td>2</td>\n",
       "      <td>2</td>\n",
       "      <td>2</td>\n",
       "      <td>2</td>\n",
       "      <td>2</td>\n",
       "      <td>2</td>\n",
       "      <td>2</td>\n",
       "      <td>2</td>\n",
       "    </tr>\n",
       "    <tr>\n",
       "      <th>395</th>\n",
       "      <td>306300000.0</td>\n",
       "      <td>1</td>\n",
       "      <td>1</td>\n",
       "      <td>1</td>\n",
       "      <td>1</td>\n",
       "      <td>1</td>\n",
       "      <td>1</td>\n",
       "      <td>1</td>\n",
       "      <td>1</td>\n",
       "      <td>1</td>\n",
       "      <td>1</td>\n",
       "    </tr>\n",
       "    <tr>\n",
       "      <th>396</th>\n",
       "      <td>308800000.0</td>\n",
       "      <td>1</td>\n",
       "      <td>1</td>\n",
       "      <td>1</td>\n",
       "      <td>1</td>\n",
       "      <td>1</td>\n",
       "      <td>1</td>\n",
       "      <td>1</td>\n",
       "      <td>1</td>\n",
       "      <td>1</td>\n",
       "      <td>1</td>\n",
       "    </tr>\n",
       "    <tr>\n",
       "      <th>397</th>\n",
       "      <td>400100000.0</td>\n",
       "      <td>1</td>\n",
       "      <td>1</td>\n",
       "      <td>1</td>\n",
       "      <td>1</td>\n",
       "      <td>1</td>\n",
       "      <td>1</td>\n",
       "      <td>1</td>\n",
       "      <td>1</td>\n",
       "      <td>1</td>\n",
       "      <td>1</td>\n",
       "    </tr>\n",
       "    <tr>\n",
       "      <th>398</th>\n",
       "      <td>469600000.0</td>\n",
       "      <td>1</td>\n",
       "      <td>1</td>\n",
       "      <td>1</td>\n",
       "      <td>1</td>\n",
       "      <td>1</td>\n",
       "      <td>1</td>\n",
       "      <td>1</td>\n",
       "      <td>1</td>\n",
       "      <td>1</td>\n",
       "      <td>1</td>\n",
       "    </tr>\n",
       "  </tbody>\n",
       "</table>\n",
       "<p>399 rows × 11 columns</p>\n",
       "</div>"
      ],
      "text/plain": [
       "       followers  rank  account  title  link  category  audience_country  \\\n",
       "0      2800000.0     1        1      1     1         0                 1   \n",
       "1      3100000.0     1        1      1     1         0                 1   \n",
       "2      3200000.0     3        3      3     3         1                 3   \n",
       "3      3400000.0     1        1      0     1         1                 1   \n",
       "4      3500000.0     3        3      3     3         0                 2   \n",
       "..           ...   ...      ...    ...   ...       ...               ...   \n",
       "394  295800000.0     2        2      2     2         2                 2   \n",
       "395  306300000.0     1        1      1     1         1                 1   \n",
       "396  308800000.0     1        1      1     1         1                 1   \n",
       "397  400100000.0     1        1      1     1         1                 1   \n",
       "398  469600000.0     1        1      1     1         1                 1   \n",
       "\n",
       "     authentic_engagement  engagement_avg  scraped  seguidores  \n",
       "0                       1               1        1           1  \n",
       "1                       1               1        1           1  \n",
       "2                       3               3        3           3  \n",
       "3                       1               1        1           1  \n",
       "4                       3               3        3           3  \n",
       "..                    ...             ...      ...         ...  \n",
       "394                     2               2        2           2  \n",
       "395                     1               1        1           1  \n",
       "396                     1               1        1           1  \n",
       "397                     1               1        1           1  \n",
       "398                     1               1        1           1  \n",
       "\n",
       "[399 rows x 11 columns]"
      ]
     },
     "execution_count": 51,
     "metadata": {},
     "output_type": "execute_result"
    }
   ],
   "source": [
    "df_actividad_frec2=df.groupby('followers').count().reset_index() # Agrupamos por la columna de followers.\n",
    "df_actividad_frec2"
   ]
  },
  {
   "attachments": {},
   "cell_type": "markdown",
   "metadata": {},
   "source": [
    "c) Frecuencia acumulada"
   ]
  },
  {
   "cell_type": "code",
   "execution_count": 58,
   "metadata": {},
   "outputs": [
    {
     "data": {
      "text/plain": [
       "3"
      ]
     },
     "execution_count": 58,
     "metadata": {},
     "output_type": "execute_result"
    }
   ],
   "source": [
    "df_seguidores.shape[0] # Calculamos cuantas filas tiene nuestra columna de seguidores"
   ]
  },
  {
   "cell_type": "code",
   "execution_count": 65,
   "metadata": {},
   "outputs": [
    {
     "data": {
      "text/html": [
       "<div>\n",
       "<style scoped>\n",
       "    .dataframe tbody tr th:only-of-type {\n",
       "        vertical-align: middle;\n",
       "    }\n",
       "\n",
       "    .dataframe tbody tr th {\n",
       "        vertical-align: top;\n",
       "    }\n",
       "\n",
       "    .dataframe thead th {\n",
       "        text-align: right;\n",
       "    }\n",
       "</style>\n",
       "<table border=\"1\" class=\"dataframe\">\n",
       "  <thead>\n",
       "    <tr style=\"text-align: right;\">\n",
       "      <th></th>\n",
       "      <th>seguidores</th>\n",
       "      <th>rank</th>\n",
       "      <th>account</th>\n",
       "      <th>title</th>\n",
       "      <th>link</th>\n",
       "      <th>category</th>\n",
       "      <th>followers</th>\n",
       "      <th>audience_country</th>\n",
       "      <th>authentic_engagement</th>\n",
       "      <th>engagement_avg</th>\n",
       "      <th>scraped</th>\n",
       "    </tr>\n",
       "  </thead>\n",
       "  <tbody>\n",
       "    <tr>\n",
       "      <th>0</th>\n",
       "      <td>alto</td>\n",
       "      <td>2</td>\n",
       "      <td>2</td>\n",
       "      <td>2</td>\n",
       "      <td>2</td>\n",
       "      <td>2</td>\n",
       "      <td>2</td>\n",
       "      <td>2</td>\n",
       "      <td>2</td>\n",
       "      <td>2</td>\n",
       "      <td>2</td>\n",
       "    </tr>\n",
       "    <tr>\n",
       "      <th>1</th>\n",
       "      <td>baja</td>\n",
       "      <td>739</td>\n",
       "      <td>739</td>\n",
       "      <td>726</td>\n",
       "      <td>739</td>\n",
       "      <td>655</td>\n",
       "      <td>739</td>\n",
       "      <td>735</td>\n",
       "      <td>739</td>\n",
       "      <td>739</td>\n",
       "      <td>739</td>\n",
       "    </tr>\n",
       "    <tr>\n",
       "      <th>2</th>\n",
       "      <td>medio</td>\n",
       "      <td>259</td>\n",
       "      <td>259</td>\n",
       "      <td>255</td>\n",
       "      <td>259</td>\n",
       "      <td>252</td>\n",
       "      <td>259</td>\n",
       "      <td>256</td>\n",
       "      <td>259</td>\n",
       "      <td>259</td>\n",
       "      <td>259</td>\n",
       "    </tr>\n",
       "  </tbody>\n",
       "</table>\n",
       "</div>"
      ],
      "text/plain": [
       "  seguidores  rank  account  title  link  category  followers  \\\n",
       "0       alto     2        2      2     2         2          2   \n",
       "1       baja   739      739    726   739       655        739   \n",
       "2      medio   259      259    255   259       252        259   \n",
       "\n",
       "   audience_country  authentic_engagement  engagement_avg  scraped  \n",
       "0                 2                     2               2        2  \n",
       "1               735                   739             739      739  \n",
       "2               256                   259             259      259  "
      ]
     },
     "execution_count": 65,
     "metadata": {},
     "output_type": "execute_result"
    }
   ],
   "source": [
    "df_seguidores"
   ]
  },
  {
   "attachments": {},
   "cell_type": "markdown",
   "metadata": {},
   "source": [
    "`Vamos a eliminar la columna que nos indica la categorizacion ( Ya que es de tipo string) para poder trabajar la tabla de frecuencias. \n",
    "Por lo que  el indice 0 = alta / 1 = baja / 2 = media`"
   ]
  },
  {
   "cell_type": "code",
   "execution_count": 62,
   "metadata": {},
   "outputs": [
    {
     "data": {
      "text/html": [
       "<div>\n",
       "<style scoped>\n",
       "    .dataframe tbody tr th:only-of-type {\n",
       "        vertical-align: middle;\n",
       "    }\n",
       "\n",
       "    .dataframe tbody tr th {\n",
       "        vertical-align: top;\n",
       "    }\n",
       "\n",
       "    .dataframe thead th {\n",
       "        text-align: right;\n",
       "    }\n",
       "</style>\n",
       "<table border=\"1\" class=\"dataframe\">\n",
       "  <thead>\n",
       "    <tr style=\"text-align: right;\">\n",
       "      <th></th>\n",
       "      <th>rank</th>\n",
       "      <th>account</th>\n",
       "      <th>title</th>\n",
       "      <th>link</th>\n",
       "      <th>category</th>\n",
       "      <th>followers</th>\n",
       "      <th>audience_country</th>\n",
       "      <th>authentic_engagement</th>\n",
       "      <th>engagement_avg</th>\n",
       "      <th>scraped</th>\n",
       "    </tr>\n",
       "  </thead>\n",
       "  <tbody>\n",
       "    <tr>\n",
       "      <th>0</th>\n",
       "      <td>2</td>\n",
       "      <td>2</td>\n",
       "      <td>2</td>\n",
       "      <td>2</td>\n",
       "      <td>2</td>\n",
       "      <td>2</td>\n",
       "      <td>2</td>\n",
       "      <td>2</td>\n",
       "      <td>2</td>\n",
       "      <td>2</td>\n",
       "    </tr>\n",
       "    <tr>\n",
       "      <th>1</th>\n",
       "      <td>739</td>\n",
       "      <td>739</td>\n",
       "      <td>726</td>\n",
       "      <td>739</td>\n",
       "      <td>655</td>\n",
       "      <td>739</td>\n",
       "      <td>735</td>\n",
       "      <td>739</td>\n",
       "      <td>739</td>\n",
       "      <td>739</td>\n",
       "    </tr>\n",
       "    <tr>\n",
       "      <th>2</th>\n",
       "      <td>259</td>\n",
       "      <td>259</td>\n",
       "      <td>255</td>\n",
       "      <td>259</td>\n",
       "      <td>252</td>\n",
       "      <td>259</td>\n",
       "      <td>256</td>\n",
       "      <td>259</td>\n",
       "      <td>259</td>\n",
       "      <td>259</td>\n",
       "    </tr>\n",
       "  </tbody>\n",
       "</table>\n",
       "</div>"
      ],
      "text/plain": [
       "   rank  account  title  link  category  followers  audience_country  \\\n",
       "0     2        2      2     2         2          2                 2   \n",
       "1   739      739    726   739       655        739               735   \n",
       "2   259      259    255   259       252        259               256   \n",
       "\n",
       "   authentic_engagement  engagement_avg  scraped  \n",
       "0                     2               2        2  \n",
       "1                   739             739      739  \n",
       "2                   259             259      259  "
      ]
     },
     "execution_count": 62,
     "metadata": {},
     "output_type": "execute_result"
    }
   ],
   "source": [
    "df_seguidores_sin_strings=df_seguidores.drop('seguidores',axis=1) # Quitamos la columna de categorizacion que es tipo string.\n",
    "df_seguidores_sin_strings"
   ]
  },
  {
   "cell_type": "code",
   "execution_count": 66,
   "metadata": {},
   "outputs": [
    {
     "data": {
      "text/html": [
       "<div>\n",
       "<style scoped>\n",
       "    .dataframe tbody tr th:only-of-type {\n",
       "        vertical-align: middle;\n",
       "    }\n",
       "\n",
       "    .dataframe tbody tr th {\n",
       "        vertical-align: top;\n",
       "    }\n",
       "\n",
       "    .dataframe thead th {\n",
       "        text-align: right;\n",
       "    }\n",
       "</style>\n",
       "<table border=\"1\" class=\"dataframe\">\n",
       "  <thead>\n",
       "    <tr style=\"text-align: right;\">\n",
       "      <th></th>\n",
       "      <th>rank</th>\n",
       "      <th>account</th>\n",
       "      <th>title</th>\n",
       "      <th>link</th>\n",
       "      <th>category</th>\n",
       "      <th>followers</th>\n",
       "      <th>audience_country</th>\n",
       "      <th>authentic_engagement</th>\n",
       "      <th>engagement_avg</th>\n",
       "      <th>scraped</th>\n",
       "    </tr>\n",
       "  </thead>\n",
       "  <tbody>\n",
       "    <tr>\n",
       "      <th>0</th>\n",
       "      <td>0.2</td>\n",
       "      <td>0.2</td>\n",
       "      <td>0.2</td>\n",
       "      <td>0.2</td>\n",
       "      <td>0.2</td>\n",
       "      <td>0.2</td>\n",
       "      <td>0.2</td>\n",
       "      <td>0.2</td>\n",
       "      <td>0.2</td>\n",
       "      <td>0.2</td>\n",
       "    </tr>\n",
       "    <tr>\n",
       "      <th>1</th>\n",
       "      <td>73.9</td>\n",
       "      <td>73.9</td>\n",
       "      <td>72.6</td>\n",
       "      <td>73.9</td>\n",
       "      <td>65.5</td>\n",
       "      <td>73.9</td>\n",
       "      <td>73.5</td>\n",
       "      <td>73.9</td>\n",
       "      <td>73.9</td>\n",
       "      <td>73.9</td>\n",
       "    </tr>\n",
       "    <tr>\n",
       "      <th>2</th>\n",
       "      <td>25.9</td>\n",
       "      <td>25.9</td>\n",
       "      <td>25.5</td>\n",
       "      <td>25.9</td>\n",
       "      <td>25.2</td>\n",
       "      <td>25.9</td>\n",
       "      <td>25.6</td>\n",
       "      <td>25.9</td>\n",
       "      <td>25.9</td>\n",
       "      <td>25.9</td>\n",
       "    </tr>\n",
       "  </tbody>\n",
       "</table>\n",
       "</div>"
      ],
      "text/plain": [
       "   rank  account  title  link  category  followers  audience_country  \\\n",
       "0   0.2      0.2    0.2   0.2       0.2        0.2               0.2   \n",
       "1  73.9     73.9   72.6  73.9      65.5       73.9              73.5   \n",
       "2  25.9     25.9   25.5  25.9      25.2       25.9              25.6   \n",
       "\n",
       "   authentic_engagement  engagement_avg  scraped  \n",
       "0                   0.2             0.2      0.2  \n",
       "1                  73.9            73.9     73.9  \n",
       "2                  25.9            25.9     25.9  "
      ]
     },
     "execution_count": 66,
     "metadata": {},
     "output_type": "execute_result"
    }
   ],
   "source": [
    "frec_relativa_acum_cuali=(df_seguidores_sin_strings/df.shape[0])*100 #Creamos nuestra tabla de correlacion.\n",
    "frec_relativa_acum_cuali"
   ]
  },
  {
   "attachments": {},
   "cell_type": "markdown",
   "metadata": {},
   "source": [
    "d) Representación de al menos una tabla de frecuencias"
   ]
  },
  {
   "cell_type": "code",
   "execution_count": 79,
   "metadata": {},
   "outputs": [
    {
     "data": {
      "text/plain": [
       "<Figure size 640x480 with 0 Axes>"
      ]
     },
     "metadata": {},
     "output_type": "display_data"
    },
    {
     "data": {
      "image/png": "[encoded data removed]",
      "text/plain": [
       "<Figure size 2000x1000 with 1 Axes>"
      ]
     },
     "metadata": {},
     "output_type": "display_data"
    }
   ],
   "source": [
    "plt.figure()\n",
    "plt.figure(figsize=(20,10))\n",
    "\n",
    "desfase=(0.1,0.1,0.1)\n",
    "colores =(\"#EE6055\",\"#60D394\",\"#AAF683\")\n",
    "figure=plt.pie(frec_relativa_acum_cuali['rank'], labels=df_seguidores['seguidores'], autopct= '%1.2f%%', explode=desfase, colors=colores)\n",
    "plt.title('Porcentaje por categorizacion de seguidores')\n",
    "plt.show()"
   ]
  },
  {
   "attachments": {},
   "cell_type": "markdown",
   "metadata": {},
   "source": [
    "### 2.Interpretación de los resultados"
   ]
  },
  {
   "attachments": {},
   "cell_type": "markdown",
   "metadata": {},
   "source": [
    "`Nuestros resultados, gráficos y estadísticos, siempre nos llevan a la baja homogeneidad de datos. Nuestras desviaciones estándar están alejadas de las medias, que a su vez, se alejan de las medianas.`\n",
    "`Tenemos valores maximos que nos desplazan mucho los datos, haciendo que casi cualquier dato estadístico sea poco representativo para poder hacer predicciones en base a ellos.`"
   ]
  },
  {
   "cell_type": "code",
   "execution_count": 83,
   "metadata": {},
   "outputs": [
    {
     "data": {
      "text/plain": [
       "<seaborn.axisgrid.FacetGrid at 0x7fcd426ae970>"
      ]
     },
     "execution_count": 83,
     "metadata": {},
     "output_type": "execute_result"
    },
    {
     "data": {
      "text/plain": [
       "<Figure size 800x300 with 0 Axes>"
      ]
     },
     "metadata": {},
     "output_type": "display_data"
    },
    {
     "data": {
      "image/png": "[encoded data removed]",
      "text/plain": [
       "<Figure size 500x500 with 1 Axes>"
      ]
     },
     "metadata": {},
     "output_type": "display_data"
    }
   ],
   "source": [
    "#Creamos un catplot para ver la comparativa de seguidores por pais\n",
    "plt.figure (figsize = (8, 3))\n",
    "sns.catplot(data = df2, x = \"followers\", y = 'audience_country')"
   ]
  },
  {
   "cell_type": "code",
   "execution_count": 84,
   "metadata": {},
   "outputs": [
    {
     "data": {
      "text/plain": [
       "<seaborn.axisgrid.FacetGrid at 0x7fcd91d58130>"
      ]
     },
     "execution_count": 84,
     "metadata": {},
     "output_type": "execute_result"
    },
    {
     "data": {
      "text/plain": [
       "<Figure size 800x300 with 0 Axes>"
      ]
     },
     "metadata": {},
     "output_type": "display_data"
    },
    {
     "data": {
      "image/png": "[encoded data removed]",
      "text/plain": [
       "<Figure size 500x500 with 1 Axes>"
      ]
     },
     "metadata": {},
     "output_type": "display_data"
    }
   ],
   "source": [
    "#Creamos un catplot para ver la comparativa de reacciones por pais\n",
    "plt.figure (figsize = (8, 3))\n",
    "sns.catplot(data = df2, x = \"authentic_engagement\", y = 'audience_country')"
   ]
  },
  {
   "cell_type": "code",
   "execution_count": 101,
   "metadata": {},
   "outputs": [
    {
     "data": {
      "text/html": [
       "<div>\n",
       "<style scoped>\n",
       "    .dataframe tbody tr th:only-of-type {\n",
       "        vertical-align: middle;\n",
       "    }\n",
       "\n",
       "    .dataframe tbody tr th {\n",
       "        vertical-align: top;\n",
       "    }\n",
       "\n",
       "    .dataframe thead th {\n",
       "        text-align: right;\n",
       "    }\n",
       "</style>\n",
       "<table border=\"1\" class=\"dataframe\">\n",
       "  <thead>\n",
       "    <tr style=\"text-align: right;\">\n",
       "      <th></th>\n",
       "      <th>audience_country</th>\n",
       "      <th>followers</th>\n",
       "      <th>authentic_engagement</th>\n",
       "      <th>engagement_avg</th>\n",
       "    </tr>\n",
       "  </thead>\n",
       "  <tbody>\n",
       "    <tr>\n",
       "      <th>9</th>\n",
       "      <td>India</td>\n",
       "      <td>4.936000e+09</td>\n",
       "      <td>94945500.0</td>\n",
       "      <td>118007300.0</td>\n",
       "    </tr>\n",
       "    <tr>\n",
       "      <th>10</th>\n",
       "      <td>Indonesia</td>\n",
       "      <td>2.201500e+09</td>\n",
       "      <td>125343800.0</td>\n",
       "      <td>156001700.0</td>\n",
       "    </tr>\n",
       "  </tbody>\n",
       "</table>\n",
       "</div>"
      ],
      "text/plain": [
       "   audience_country     followers  authentic_engagement  engagement_avg\n",
       "9             India  4.936000e+09            94945500.0     118007300.0\n",
       "10        Indonesia  2.201500e+09           125343800.0     156001700.0"
      ]
     },
     "execution_count": 101,
     "metadata": {},
     "output_type": "execute_result"
    }
   ],
   "source": [
    "df2[(df2['audience_country']=='India')|(df2['audience_country']=='Indonesia')]\n"
   ]
  },
  {
   "attachments": {},
   "cell_type": "markdown",
   "metadata": {},
   "source": [
    "`Por otro lado si analizamos por paises los seguidores y las reacciones, podemos observar que USA lidera en cantidad de seguidores y por lo tanto tambien en cantidad de reacciones.`\n",
    "\n",
    "` En el caso de India podemos ver que aunque tiene gran numero de seguidores, sus reacciones son menos que en Indonesia donde tienen menos seguidores pero mas reacciones que India.`\n",
    "\n"
   ]
  }
 ],
 "metadata": {
  "kernelspec": {
   "display_name": "base",
   "language": "python",
   "name": "python3"
  },
  "language_info": {
   "codemirror_mode": {
    "name": "ipython",
    "version": 3
   },
   "file_extension": ".py",
   "mimetype": "text/x-python",
   "name": "python",
   "nbconvert_exporter": "python",
   "pygments_lexer": "ipython3",
   "version": "3.9.13"
  },
  "orig_nbformat": 4,
  "vscode": {
   "interpreter": {
    "hash": "a52af493819045717511545598ab2b73dabca4ca61b402315e0ef2b43666342d"
   }
  }
 },
 "nbformat": 4,
 "nbformat_minor": 2
}
