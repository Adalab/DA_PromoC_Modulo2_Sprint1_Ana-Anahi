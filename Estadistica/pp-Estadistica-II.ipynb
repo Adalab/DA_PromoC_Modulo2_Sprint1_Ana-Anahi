{
 "cells": [
  {
   "attachments": {},
   "cell_type": "markdown",
   "metadata": {},
   "source": [
    "Happy coding 📊📈📉"
   ]
  },
  {
   "cell_type": "code",
   "execution_count": 1,
   "metadata": {},
   "outputs": [],
   "source": [
    "import numpy as np\n",
    "from scipy import stats\n",
    "import seaborn as sns\n",
    "import pandas as pd\n",
    "import matplotlib.pyplot as plt"
   ]
  },
  {
   "cell_type": "code",
   "execution_count": null,
   "metadata": {},
   "outputs": [],
   "source": [
    "df=pd.read_csv('instagram_global_top_1000.csv')\n",
    "df.tail(3)"
   ]
  },
  {
   "attachments": {},
   "cell_type": "markdown",
   "metadata": {},
   "source": [
    "### 1. Extraer los siguentes estadísiticos del conjunto de datos para varias de las varibles disponibles:"
   ]
  },
  {
   "attachments": {},
   "cell_type": "markdown",
   "metadata": {},
   "source": [
    " Utilizando métodos de pandas: media, mediana, moda, máximo y mínimo"
   ]
  },
  {
   "cell_type": "code",
   "execution_count": null,
   "metadata": {},
   "outputs": [],
   "source": [
    "#Como en I hacemos analisis de variables numéricas, en este pair, analizaremos las categóricas, \n",
    "# que no sean definitoras de cada registro. Vamos a analizar, los seguidores más activos por pais."
   ]
  },
  {
   "cell_type": "code",
   "execution_count": 8,
   "metadata": {},
   "outputs": [
    {
     "data": {
      "text/plain": [
       "array(['India', 'United States', 'Argentina', 'Brazil', 'Indonesia',\n",
       "       'Iran', nan, 'France', 'Mexico', 'Russia', 'South Korea', 'Egypt',\n",
       "       'Turkey', 'Spain', 'Italy', 'China', 'Colombia', 'United Kingdom',\n",
       "       'Poland', 'Nigeria', 'Thailand', 'Philippines', 'Saudi Arabia',\n",
       "       'Morocco', 'United Arab Emirates', 'Iraq', 'Germany', 'Algeria',\n",
       "       'Syria', 'Kazakhstan', 'Japan', 'Chile'], dtype=object)"
      ]
     },
     "execution_count": 8,
     "metadata": {},
     "output_type": "execute_result"
    }
   ],
   "source": [
    "df['audience_country'].unique()"
   ]
  },
  {
   "cell_type": "code",
   "execution_count": 30,
   "metadata": {},
   "outputs": [
    {
     "name": "stderr",
     "output_type": "stream",
     "text": [
      "/tmp/ipykernel_773/2232583574.py:1: FutureWarning: Indexing with multiple keys (implicitly converted to a tuple of keys) will be deprecated, use a list instead.\n",
      "  df2=df.groupby(['audience_country'])['followers','authentic_engagement','engagement_avg'].sum()\n"
     ]
    },
    {
     "data": {
      "text/html": [
       "<div>\n",
       "<style scoped>\n",
       "    .dataframe tbody tr th:only-of-type {\n",
       "        vertical-align: middle;\n",
       "    }\n",
       "\n",
       "    .dataframe tbody tr th {\n",
       "        vertical-align: top;\n",
       "    }\n",
       "\n",
       "    .dataframe thead th {\n",
       "        text-align: right;\n",
       "    }\n",
       "</style>\n",
       "<table border=\"1\" class=\"dataframe\">\n",
       "  <thead>\n",
       "    <tr style=\"text-align: right;\">\n",
       "      <th></th>\n",
       "      <th>followers</th>\n",
       "      <th>authentic_engagement</th>\n",
       "      <th>engagement_avg</th>\n",
       "    </tr>\n",
       "    <tr>\n",
       "      <th>audience_country</th>\n",
       "      <th></th>\n",
       "      <th></th>\n",
       "      <th></th>\n",
       "    </tr>\n",
       "  </thead>\n",
       "  <tbody>\n",
       "    <tr>\n",
       "      <th>Algeria</th>\n",
       "      <td>8.200000e+06</td>\n",
       "      <td>419200.0</td>\n",
       "      <td>539900.0</td>\n",
       "    </tr>\n",
       "    <tr>\n",
       "      <th>Argentina</th>\n",
       "      <td>6.365000e+08</td>\n",
       "      <td>16238000.0</td>\n",
       "      <td>24583200.0</td>\n",
       "    </tr>\n",
       "    <tr>\n",
       "      <th>Brazil</th>\n",
       "      <td>3.588600e+09</td>\n",
       "      <td>69293300.0</td>\n",
       "      <td>105269300.0</td>\n",
       "    </tr>\n",
       "    <tr>\n",
       "      <th>Chile</th>\n",
       "      <td>1.310000e+07</td>\n",
       "      <td>156600.0</td>\n",
       "      <td>257900.0</td>\n",
       "    </tr>\n",
       "    <tr>\n",
       "      <th>China</th>\n",
       "      <td>2.700000e+07</td>\n",
       "      <td>934200.0</td>\n",
       "      <td>1100000.0</td>\n",
       "    </tr>\n",
       "    <tr>\n",
       "      <th>Colombia</th>\n",
       "      <td>1.778000e+08</td>\n",
       "      <td>2676300.0</td>\n",
       "      <td>3677000.0</td>\n",
       "    </tr>\n",
       "    <tr>\n",
       "      <th>Egypt</th>\n",
       "      <td>1.388000e+08</td>\n",
       "      <td>1964000.0</td>\n",
       "      <td>2721200.0</td>\n",
       "    </tr>\n",
       "    <tr>\n",
       "      <th>France</th>\n",
       "      <td>1.428000e+08</td>\n",
       "      <td>4050700.0</td>\n",
       "      <td>5443800.0</td>\n",
       "    </tr>\n",
       "    <tr>\n",
       "      <th>Germany</th>\n",
       "      <td>9.220000e+07</td>\n",
       "      <td>890700.0</td>\n",
       "      <td>1166600.0</td>\n",
       "    </tr>\n",
       "    <tr>\n",
       "      <th>India</th>\n",
       "      <td>4.936000e+09</td>\n",
       "      <td>94945500.0</td>\n",
       "      <td>118007300.0</td>\n",
       "    </tr>\n",
       "    <tr>\n",
       "      <th>Indonesia</th>\n",
       "      <td>2.201500e+09</td>\n",
       "      <td>125343800.0</td>\n",
       "      <td>156001700.0</td>\n",
       "    </tr>\n",
       "    <tr>\n",
       "      <th>Iran</th>\n",
       "      <td>2.947000e+08</td>\n",
       "      <td>10532800.0</td>\n",
       "      <td>15197900.0</td>\n",
       "    </tr>\n",
       "    <tr>\n",
       "      <th>Iraq</th>\n",
       "      <td>6.520000e+07</td>\n",
       "      <td>924000.0</td>\n",
       "      <td>1198100.0</td>\n",
       "    </tr>\n",
       "    <tr>\n",
       "      <th>Italy</th>\n",
       "      <td>2.587000e+08</td>\n",
       "      <td>5835600.0</td>\n",
       "      <td>8519500.0</td>\n",
       "    </tr>\n",
       "    <tr>\n",
       "      <th>Japan</th>\n",
       "      <td>1.440000e+07</td>\n",
       "      <td>864100.0</td>\n",
       "      <td>970100.0</td>\n",
       "    </tr>\n",
       "    <tr>\n",
       "      <th>Kazakhstan</th>\n",
       "      <td>1.400000e+07</td>\n",
       "      <td>735300.0</td>\n",
       "      <td>993700.0</td>\n",
       "    </tr>\n",
       "    <tr>\n",
       "      <th>Mexico</th>\n",
       "      <td>8.295000e+08</td>\n",
       "      <td>30662600.0</td>\n",
       "      <td>39109600.0</td>\n",
       "    </tr>\n",
       "    <tr>\n",
       "      <th>Morocco</th>\n",
       "      <td>2.050000e+07</td>\n",
       "      <td>1253200.0</td>\n",
       "      <td>1776800.0</td>\n",
       "    </tr>\n",
       "    <tr>\n",
       "      <th>Nigeria</th>\n",
       "      <td>6.000000e+07</td>\n",
       "      <td>893700.0</td>\n",
       "      <td>1425000.0</td>\n",
       "    </tr>\n",
       "    <tr>\n",
       "      <th>Philippines</th>\n",
       "      <td>8.790000e+07</td>\n",
       "      <td>2497400.0</td>\n",
       "      <td>2853200.0</td>\n",
       "    </tr>\n",
       "    <tr>\n",
       "      <th>Poland</th>\n",
       "      <td>2.420000e+07</td>\n",
       "      <td>478300.0</td>\n",
       "      <td>607000.0</td>\n",
       "    </tr>\n",
       "    <tr>\n",
       "      <th>Russia</th>\n",
       "      <td>4.074000e+08</td>\n",
       "      <td>14936400.0</td>\n",
       "      <td>19766300.0</td>\n",
       "    </tr>\n",
       "    <tr>\n",
       "      <th>Saudi Arabia</th>\n",
       "      <td>2.480000e+07</td>\n",
       "      <td>635400.0</td>\n",
       "      <td>815400.0</td>\n",
       "    </tr>\n",
       "    <tr>\n",
       "      <th>South Korea</th>\n",
       "      <td>1.424000e+08</td>\n",
       "      <td>14731500.0</td>\n",
       "      <td>17792800.0</td>\n",
       "    </tr>\n",
       "    <tr>\n",
       "      <th>Spain</th>\n",
       "      <td>7.868000e+08</td>\n",
       "      <td>13203000.0</td>\n",
       "      <td>19254500.0</td>\n",
       "    </tr>\n",
       "    <tr>\n",
       "      <th>Syria</th>\n",
       "      <td>8.200000e+06</td>\n",
       "      <td>392100.0</td>\n",
       "      <td>478100.0</td>\n",
       "    </tr>\n",
       "    <tr>\n",
       "      <th>Thailand</th>\n",
       "      <td>4.450000e+07</td>\n",
       "      <td>1789700.0</td>\n",
       "      <td>2293800.0</td>\n",
       "    </tr>\n",
       "    <tr>\n",
       "      <th>Turkey</th>\n",
       "      <td>2.594000e+08</td>\n",
       "      <td>8214100.0</td>\n",
       "      <td>10778300.0</td>\n",
       "    </tr>\n",
       "    <tr>\n",
       "      <th>United Arab Emirates</th>\n",
       "      <td>1.370000e+07</td>\n",
       "      <td>396200.0</td>\n",
       "      <td>523300.0</td>\n",
       "    </tr>\n",
       "    <tr>\n",
       "      <th>United Kingdom</th>\n",
       "      <td>2.831000e+08</td>\n",
       "      <td>4754300.0</td>\n",
       "      <td>7039000.0</td>\n",
       "    </tr>\n",
       "    <tr>\n",
       "      <th>United States</th>\n",
       "      <td>9.116200e+09</td>\n",
       "      <td>188580800.0</td>\n",
       "      <td>262233200.0</td>\n",
       "    </tr>\n",
       "  </tbody>\n",
       "</table>\n",
       "</div>"
      ],
      "text/plain": [
       "                         followers  authentic_engagement  engagement_avg\n",
       "audience_country                                                        \n",
       "Algeria               8.200000e+06              419200.0        539900.0\n",
       "Argentina             6.365000e+08            16238000.0      24583200.0\n",
       "Brazil                3.588600e+09            69293300.0     105269300.0\n",
       "Chile                 1.310000e+07              156600.0        257900.0\n",
       "China                 2.700000e+07              934200.0       1100000.0\n",
       "Colombia              1.778000e+08             2676300.0       3677000.0\n",
       "Egypt                 1.388000e+08             1964000.0       2721200.0\n",
       "France                1.428000e+08             4050700.0       5443800.0\n",
       "Germany               9.220000e+07              890700.0       1166600.0\n",
       "India                 4.936000e+09            94945500.0     118007300.0\n",
       "Indonesia             2.201500e+09           125343800.0     156001700.0\n",
       "Iran                  2.947000e+08            10532800.0      15197900.0\n",
       "Iraq                  6.520000e+07              924000.0       1198100.0\n",
       "Italy                 2.587000e+08             5835600.0       8519500.0\n",
       "Japan                 1.440000e+07              864100.0        970100.0\n",
       "Kazakhstan            1.400000e+07              735300.0        993700.0\n",
       "Mexico                8.295000e+08            30662600.0      39109600.0\n",
       "Morocco               2.050000e+07             1253200.0       1776800.0\n",
       "Nigeria               6.000000e+07              893700.0       1425000.0\n",
       "Philippines           8.790000e+07             2497400.0       2853200.0\n",
       "Poland                2.420000e+07              478300.0        607000.0\n",
       "Russia                4.074000e+08            14936400.0      19766300.0\n",
       "Saudi Arabia          2.480000e+07              635400.0        815400.0\n",
       "South Korea           1.424000e+08            14731500.0      17792800.0\n",
       "Spain                 7.868000e+08            13203000.0      19254500.0\n",
       "Syria                 8.200000e+06              392100.0        478100.0\n",
       "Thailand              4.450000e+07             1789700.0       2293800.0\n",
       "Turkey                2.594000e+08             8214100.0      10778300.0\n",
       "United Arab Emirates  1.370000e+07              396200.0        523300.0\n",
       "United Kingdom        2.831000e+08             4754300.0       7039000.0\n",
       "United States         9.116200e+09           188580800.0     262233200.0"
      ]
     },
     "execution_count": 30,
     "metadata": {},
     "output_type": "execute_result"
    }
   ],
   "source": [
    "df2=df.groupby(['audience_country'])['followers','authentic_engagement','engagement_avg'].sum()\n",
    "df2"
   ]
  },
  {
   "cell_type": "code",
   "execution_count": null,
   "metadata": {},
   "outputs": [],
   "source": [
    "#la moda no nos da resultado, por la gran amplitud de valores, y lo elevados que son."
   ]
  },
  {
   "attachments": {},
   "cell_type": "markdown",
   "metadata": {},
   "source": [
    "Percentiles 25, 75"
   ]
  },
  {
   "cell_type": "code",
   "execution_count": null,
   "metadata": {},
   "outputs": [],
   "source": []
  },
  {
   "attachments": {},
   "cell_type": "markdown",
   "metadata": {},
   "source": [
    "Rango Intercualtílico"
   ]
  },
  {
   "cell_type": "code",
   "execution_count": null,
   "metadata": {},
   "outputs": [],
   "source": []
  },
  {
   "attachments": {},
   "cell_type": "markdown",
   "metadata": {},
   "source": [
    "Boxplot de algunas variables"
   ]
  },
  {
   "cell_type": "code",
   "execution_count": null,
   "metadata": {},
   "outputs": [],
   "source": []
  },
  {
   "attachments": {},
   "cell_type": "markdown",
   "metadata": {},
   "source": [
    "Tabla de frecuencias"
   ]
  },
  {
   "attachments": {},
   "cell_type": "markdown",
   "metadata": {},
   "source": [
    "a) Variables cualitativas"
   ]
  },
  {
   "cell_type": "code",
   "execution_count": null,
   "metadata": {},
   "outputs": [],
   "source": []
  },
  {
   "attachments": {},
   "cell_type": "markdown",
   "metadata": {},
   "source": [
    "b) Variables cuantitativas"
   ]
  },
  {
   "cell_type": "code",
   "execution_count": null,
   "metadata": {},
   "outputs": [],
   "source": []
  },
  {
   "attachments": {},
   "cell_type": "markdown",
   "metadata": {},
   "source": [
    "c) Frecuencia acumulada"
   ]
  },
  {
   "cell_type": "code",
   "execution_count": null,
   "metadata": {},
   "outputs": [],
   "source": []
  },
  {
   "attachments": {},
   "cell_type": "markdown",
   "metadata": {},
   "source": [
    "d) Representación de al menos una tabla de frecuencias"
   ]
  },
  {
   "cell_type": "code",
   "execution_count": null,
   "metadata": {},
   "outputs": [],
   "source": []
  },
  {
   "attachments": {},
   "cell_type": "markdown",
   "metadata": {},
   "source": [
    "### 2.Interpretación de los resultados"
   ]
  }
 ],
 "metadata": {
  "kernelspec": {
   "display_name": "Python 3",
   "language": "python",
   "name": "python3"
  },
  "language_info": {
   "codemirror_mode": {
    "name": "ipython",
    "version": 3
   },
   "file_extension": ".py",
   "mimetype": "text/x-python",
   "name": "python",
   "nbconvert_exporter": "python",
   "pygments_lexer": "ipython3",
   "version": "3.9.7"
  },
  "orig_nbformat": 4,
  "vscode": {
   "interpreter": {
    "hash": "235f9155b0abc8f1580e75acf7c6712d847a3598ded282a80a21bb1bc6aba73f"
   }
  }
 },
 "nbformat": 4,
 "nbformat_minor": 2
}
