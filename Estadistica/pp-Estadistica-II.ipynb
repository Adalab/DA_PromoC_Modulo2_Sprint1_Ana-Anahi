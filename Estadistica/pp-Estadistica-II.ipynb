{
 "cells": [
  {
   "attachments": {},
   "cell_type": "markdown",
   "metadata": {},
   "source": [
    "Happy coding 📊📈📉"
   ]
  },
  {
   "cell_type": "code",
   "execution_count": 2,
   "metadata": {},
   "outputs": [],
   "source": [
    "import numpy as np\n",
    "from scipy import stats\n",
    "import seaborn as sns\n",
    "import pandas as pd\n",
    "import matplotlib.pyplot as plt"
   ]
  },
  {
   "cell_type": "code",
   "execution_count": 65,
   "metadata": {},
   "outputs": [
    {
     "data": {
      "text/html": [
       "<div>\n",
       "<style scoped>\n",
       "    .dataframe tbody tr th:only-of-type {\n",
       "        vertical-align: middle;\n",
       "    }\n",
       "\n",
       "    .dataframe tbody tr th {\n",
       "        vertical-align: top;\n",
       "    }\n",
       "\n",
       "    .dataframe thead th {\n",
       "        text-align: right;\n",
       "    }\n",
       "</style>\n",
       "<table border=\"1\" class=\"dataframe\">\n",
       "  <thead>\n",
       "    <tr style=\"text-align: right;\">\n",
       "      <th></th>\n",
       "      <th>rank</th>\n",
       "      <th>account</th>\n",
       "      <th>title</th>\n",
       "      <th>link</th>\n",
       "      <th>category</th>\n",
       "      <th>followers</th>\n",
       "      <th>audience_country</th>\n",
       "      <th>authentic_engagement</th>\n",
       "      <th>engagement_avg</th>\n",
       "      <th>scraped</th>\n",
       "    </tr>\n",
       "  </thead>\n",
       "  <tbody>\n",
       "    <tr>\n",
       "      <th>980</th>\n",
       "      <td>981</td>\n",
       "      <td>meekmill</td>\n",
       "      <td>Meek Mill</td>\n",
       "      <td>https://www.instagram.com/meekmill/</td>\n",
       "      <td>Music</td>\n",
       "      <td>22100000.0</td>\n",
       "      <td>United States</td>\n",
       "      <td>59200.0</td>\n",
       "      <td>112700.0</td>\n",
       "      <td>2022-02-07 16:50:24.798803</td>\n",
       "    </tr>\n",
       "    <tr>\n",
       "      <th>981</th>\n",
       "      <td>982</td>\n",
       "      <td>viking.barbie</td>\n",
       "      <td>Viking Barbie⚔</td>\n",
       "      <td>https://www.instagram.com/viking.barbie/</td>\n",
       "      <td>Adult content</td>\n",
       "      <td>11000000.0</td>\n",
       "      <td>United States</td>\n",
       "      <td>149100.0</td>\n",
       "      <td>227800.0</td>\n",
       "      <td>2022-02-07 16:50:24.798803</td>\n",
       "    </tr>\n",
       "    <tr>\n",
       "      <th>982</th>\n",
       "      <td>983</td>\n",
       "      <td>lala</td>\n",
       "      <td>ℒᎯ ℒᎯ</td>\n",
       "      <td>https://www.instagram.com/lala/</td>\n",
       "      <td>Lifestyle</td>\n",
       "      <td>12700000.0</td>\n",
       "      <td>United States</td>\n",
       "      <td>121200.0</td>\n",
       "      <td>194600.0</td>\n",
       "      <td>2022-02-07 16:50:24.798803</td>\n",
       "    </tr>\n",
       "    <tr>\n",
       "      <th>983</th>\n",
       "      <td>984</td>\n",
       "      <td>casemiro</td>\n",
       "      <td>Casemiro</td>\n",
       "      <td>https://www.instagram.com/casemiro/</td>\n",
       "      <td>Sports with a ball</td>\n",
       "      <td>13600000.0</td>\n",
       "      <td>Spain</td>\n",
       "      <td>120400.0</td>\n",
       "      <td>180700.0</td>\n",
       "      <td>2022-02-07 16:50:24.798803</td>\n",
       "    </tr>\n",
       "    <tr>\n",
       "      <th>984</th>\n",
       "      <td>985</td>\n",
       "      <td>elt6i</td>\n",
       "      <td>Elmira Tolegenova</td>\n",
       "      <td>https://www.instagram.com/elt6i/</td>\n",
       "      <td>Family</td>\n",
       "      <td>7200000.0</td>\n",
       "      <td>Russia</td>\n",
       "      <td>285100.0</td>\n",
       "      <td>348600.0</td>\n",
       "      <td>2022-02-07 16:50:24.798803</td>\n",
       "    </tr>\n",
       "    <tr>\n",
       "      <th>985</th>\n",
       "      <td>986</td>\n",
       "      <td>natalee.007</td>\n",
       "      <td>Natalie Lee</td>\n",
       "      <td>https://www.instagram.com/natalee.007/</td>\n",
       "      <td>Modeling|Music</td>\n",
       "      <td>6800000.0</td>\n",
       "      <td>United States</td>\n",
       "      <td>286900.0</td>\n",
       "      <td>366600.0</td>\n",
       "      <td>2022-02-07 16:50:24.798803</td>\n",
       "    </tr>\n",
       "    <tr>\n",
       "      <th>986</th>\n",
       "      <td>987</td>\n",
       "      <td>rishabpant</td>\n",
       "      <td>Rishabh Pant</td>\n",
       "      <td>https://www.instagram.com/rishabpant/</td>\n",
       "      <td>Sports with a ball</td>\n",
       "      <td>5700000.0</td>\n",
       "      <td>India</td>\n",
       "      <td>365300.0</td>\n",
       "      <td>433800.0</td>\n",
       "      <td>2022-02-07 16:50:24.798803</td>\n",
       "    </tr>\n",
       "    <tr>\n",
       "      <th>987</th>\n",
       "      <td>988</td>\n",
       "      <td>jeffreestar</td>\n",
       "      <td>Jeffree Star</td>\n",
       "      <td>https://www.instagram.com/jeffreestar/</td>\n",
       "      <td>Beauty|Art|Artists|Modeling</td>\n",
       "      <td>13600000.0</td>\n",
       "      <td>United States</td>\n",
       "      <td>123600.0</td>\n",
       "      <td>180600.0</td>\n",
       "      <td>2022-02-07 16:50:24.798803</td>\n",
       "    </tr>\n",
       "    <tr>\n",
       "      <th>988</th>\n",
       "      <td>989</td>\n",
       "      <td>emiliovmartinez</td>\n",
       "      <td>Emilio</td>\n",
       "      <td>https://www.instagram.com/emiliovmartinez/</td>\n",
       "      <td>Music</td>\n",
       "      <td>13600000.0</td>\n",
       "      <td>Mexico</td>\n",
       "      <td>139200.0</td>\n",
       "      <td>179700.0</td>\n",
       "      <td>2022-02-07 16:50:24.798803</td>\n",
       "    </tr>\n",
       "    <tr>\n",
       "      <th>989</th>\n",
       "      <td>990</td>\n",
       "      <td>farruko</td>\n",
       "      <td>⛽️167💽🏁🔜</td>\n",
       "      <td>https://www.instagram.com/farruko/</td>\n",
       "      <td>Music</td>\n",
       "      <td>19800000.0</td>\n",
       "      <td>United States</td>\n",
       "      <td>92900.0</td>\n",
       "      <td>123300.0</td>\n",
       "      <td>2022-02-07 16:50:24.798803</td>\n",
       "    </tr>\n",
       "    <tr>\n",
       "      <th>990</th>\n",
       "      <td>991</td>\n",
       "      <td>gemmastyles</td>\n",
       "      <td>Gemma Styles</td>\n",
       "      <td>https://www.instagram.com/gemmastyles/</td>\n",
       "      <td>Literature|Journalism</td>\n",
       "      <td>8100000.0</td>\n",
       "      <td>United States</td>\n",
       "      <td>200400.0</td>\n",
       "      <td>304900.0</td>\n",
       "      <td>2022-02-07 16:50:24.798803</td>\n",
       "    </tr>\n",
       "    <tr>\n",
       "      <th>991</th>\n",
       "      <td>992</td>\n",
       "      <td>manelyk_oficial</td>\n",
       "      <td>Manelyk Gonzalez</td>\n",
       "      <td>https://www.instagram.com/manelyk_oficial/</td>\n",
       "      <td>Music</td>\n",
       "      <td>13800000.0</td>\n",
       "      <td>Mexico</td>\n",
       "      <td>131500.0</td>\n",
       "      <td>176300.0</td>\n",
       "      <td>2022-02-07 16:50:24.798803</td>\n",
       "    </tr>\n",
       "    <tr>\n",
       "      <th>992</th>\n",
       "      <td>993</td>\n",
       "      <td>giovannaantonelli</td>\n",
       "      <td>Giovanna Antonelli</td>\n",
       "      <td>https://www.instagram.com/giovannaantonelli/</td>\n",
       "      <td>Humor|Fun|Happiness|Shows|Art|Artists</td>\n",
       "      <td>15700000.0</td>\n",
       "      <td>Brazil</td>\n",
       "      <td>113500.0</td>\n",
       "      <td>155300.0</td>\n",
       "      <td>2022-02-07 16:50:24.798803</td>\n",
       "    </tr>\n",
       "    <tr>\n",
       "      <th>993</th>\n",
       "      <td>994</td>\n",
       "      <td>lunay</td>\n",
       "      <td>EL NIÑO 👶🏻</td>\n",
       "      <td>https://www.instagram.com/lunay/</td>\n",
       "      <td>Music</td>\n",
       "      <td>10200000.0</td>\n",
       "      <td>Mexico</td>\n",
       "      <td>162800.0</td>\n",
       "      <td>238800.0</td>\n",
       "      <td>2022-02-07 16:50:24.798803</td>\n",
       "    </tr>\n",
       "    <tr>\n",
       "      <th>994</th>\n",
       "      <td>995</td>\n",
       "      <td>najwashihab</td>\n",
       "      <td>Najwa Shihab</td>\n",
       "      <td>https://www.instagram.com/najwashihab/</td>\n",
       "      <td>Shows</td>\n",
       "      <td>21100000.0</td>\n",
       "      <td>Indonesia</td>\n",
       "      <td>82900.0</td>\n",
       "      <td>114800.0</td>\n",
       "      <td>2022-02-07 16:50:24.798803</td>\n",
       "    </tr>\n",
       "    <tr>\n",
       "      <th>995</th>\n",
       "      <td>996</td>\n",
       "      <td>senoritasaeva</td>\n",
       "      <td>Dina Saeva</td>\n",
       "      <td>https://www.instagram.com/senoritasaeva/</td>\n",
       "      <td>Lifestyle|Music|Modeling</td>\n",
       "      <td>7700000.0</td>\n",
       "      <td>Russia</td>\n",
       "      <td>246600.0</td>\n",
       "      <td>318200.0</td>\n",
       "      <td>2022-02-07 16:50:24.798803</td>\n",
       "    </tr>\n",
       "    <tr>\n",
       "      <th>996</th>\n",
       "      <td>997</td>\n",
       "      <td>manuelneuer</td>\n",
       "      <td>Manuel Neuer</td>\n",
       "      <td>https://www.instagram.com/manuelneuer/</td>\n",
       "      <td>Sports with a ball</td>\n",
       "      <td>11500000.0</td>\n",
       "      <td>Germany</td>\n",
       "      <td>146500.0</td>\n",
       "      <td>210200.0</td>\n",
       "      <td>2022-02-07 16:50:24.798803</td>\n",
       "    </tr>\n",
       "    <tr>\n",
       "      <th>997</th>\n",
       "      <td>998</td>\n",
       "      <td>sahilkhan</td>\n",
       "      <td>India’s Youth &amp; Fitness IC⭕️N®</td>\n",
       "      <td>https://www.instagram.com/sahilkhan/</td>\n",
       "      <td>Fitness|Gym</td>\n",
       "      <td>10100000.0</td>\n",
       "      <td>India</td>\n",
       "      <td>176500.0</td>\n",
       "      <td>239800.0</td>\n",
       "      <td>2022-02-07 16:50:24.798803</td>\n",
       "    </tr>\n",
       "    <tr>\n",
       "      <th>998</th>\n",
       "      <td>999</td>\n",
       "      <td>mohanshakti</td>\n",
       "      <td>Shakti Mohan</td>\n",
       "      <td>https://www.instagram.com/mohanshakti/</td>\n",
       "      <td>Art|Artists|Cinema|Actors/actresses</td>\n",
       "      <td>13700000.0</td>\n",
       "      <td>India</td>\n",
       "      <td>146400.0</td>\n",
       "      <td>175500.0</td>\n",
       "      <td>2022-02-07 16:50:24.798803</td>\n",
       "    </tr>\n",
       "    <tr>\n",
       "      <th>999</th>\n",
       "      <td>1000</td>\n",
       "      <td>eduincaz</td>\n",
       "      <td>Eduin Caz</td>\n",
       "      <td>https://www.instagram.com/eduincaz/</td>\n",
       "      <td>Lifestyle</td>\n",
       "      <td>6200000.0</td>\n",
       "      <td>Mexico</td>\n",
       "      <td>305600.0</td>\n",
       "      <td>391900.0</td>\n",
       "      <td>2022-02-07 16:50:24.798803</td>\n",
       "    </tr>\n",
       "  </tbody>\n",
       "</table>\n",
       "</div>"
      ],
      "text/plain": [
       "     rank            account                           title  \\\n",
       "980   981           meekmill                       Meek Mill   \n",
       "981   982      viking.barbie                  Viking Barbie⚔   \n",
       "982   983               lala                           ℒᎯ ℒᎯ   \n",
       "983   984           casemiro                        Casemiro   \n",
       "984   985              elt6i               Elmira Tolegenova   \n",
       "985   986        natalee.007                     Natalie Lee   \n",
       "986   987         rishabpant                    Rishabh Pant   \n",
       "987   988        jeffreestar                    Jeffree Star   \n",
       "988   989    emiliovmartinez                          Emilio   \n",
       "989   990            farruko                        ⛽️167💽🏁🔜   \n",
       "990   991        gemmastyles                    Gemma Styles   \n",
       "991   992    manelyk_oficial                Manelyk Gonzalez   \n",
       "992   993  giovannaantonelli              Giovanna Antonelli   \n",
       "993   994              lunay                     EL NIÑO 👶🏻   \n",
       "994   995        najwashihab                    Najwa Shihab   \n",
       "995   996      senoritasaeva                      Dina Saeva   \n",
       "996   997        manuelneuer                    Manuel Neuer   \n",
       "997   998          sahilkhan  India’s Youth & Fitness IC⭕️N®   \n",
       "998   999        mohanshakti                    Shakti Mohan   \n",
       "999  1000           eduincaz                       Eduin Caz   \n",
       "\n",
       "                                             link  \\\n",
       "980           https://www.instagram.com/meekmill/   \n",
       "981      https://www.instagram.com/viking.barbie/   \n",
       "982               https://www.instagram.com/lala/   \n",
       "983           https://www.instagram.com/casemiro/   \n",
       "984              https://www.instagram.com/elt6i/   \n",
       "985        https://www.instagram.com/natalee.007/   \n",
       "986         https://www.instagram.com/rishabpant/   \n",
       "987        https://www.instagram.com/jeffreestar/   \n",
       "988    https://www.instagram.com/emiliovmartinez/   \n",
       "989            https://www.instagram.com/farruko/   \n",
       "990        https://www.instagram.com/gemmastyles/   \n",
       "991    https://www.instagram.com/manelyk_oficial/   \n",
       "992  https://www.instagram.com/giovannaantonelli/   \n",
       "993              https://www.instagram.com/lunay/   \n",
       "994        https://www.instagram.com/najwashihab/   \n",
       "995      https://www.instagram.com/senoritasaeva/   \n",
       "996        https://www.instagram.com/manuelneuer/   \n",
       "997          https://www.instagram.com/sahilkhan/   \n",
       "998        https://www.instagram.com/mohanshakti/   \n",
       "999           https://www.instagram.com/eduincaz/   \n",
       "\n",
       "                                  category   followers audience_country  \\\n",
       "980                                  Music  22100000.0    United States   \n",
       "981                          Adult content  11000000.0    United States   \n",
       "982                              Lifestyle  12700000.0    United States   \n",
       "983                     Sports with a ball  13600000.0            Spain   \n",
       "984                                 Family   7200000.0           Russia   \n",
       "985                         Modeling|Music   6800000.0    United States   \n",
       "986                     Sports with a ball   5700000.0            India   \n",
       "987            Beauty|Art|Artists|Modeling  13600000.0    United States   \n",
       "988                                  Music  13600000.0           Mexico   \n",
       "989                                  Music  19800000.0    United States   \n",
       "990                  Literature|Journalism   8100000.0    United States   \n",
       "991                                  Music  13800000.0           Mexico   \n",
       "992  Humor|Fun|Happiness|Shows|Art|Artists  15700000.0           Brazil   \n",
       "993                                  Music  10200000.0           Mexico   \n",
       "994                                  Shows  21100000.0        Indonesia   \n",
       "995               Lifestyle|Music|Modeling   7700000.0           Russia   \n",
       "996                     Sports with a ball  11500000.0          Germany   \n",
       "997                            Fitness|Gym  10100000.0            India   \n",
       "998    Art|Artists|Cinema|Actors/actresses  13700000.0            India   \n",
       "999                              Lifestyle   6200000.0           Mexico   \n",
       "\n",
       "     authentic_engagement  engagement_avg                     scraped  \n",
       "980               59200.0        112700.0  2022-02-07 16:50:24.798803  \n",
       "981              149100.0        227800.0  2022-02-07 16:50:24.798803  \n",
       "982              121200.0        194600.0  2022-02-07 16:50:24.798803  \n",
       "983              120400.0        180700.0  2022-02-07 16:50:24.798803  \n",
       "984              285100.0        348600.0  2022-02-07 16:50:24.798803  \n",
       "985              286900.0        366600.0  2022-02-07 16:50:24.798803  \n",
       "986              365300.0        433800.0  2022-02-07 16:50:24.798803  \n",
       "987              123600.0        180600.0  2022-02-07 16:50:24.798803  \n",
       "988              139200.0        179700.0  2022-02-07 16:50:24.798803  \n",
       "989               92900.0        123300.0  2022-02-07 16:50:24.798803  \n",
       "990              200400.0        304900.0  2022-02-07 16:50:24.798803  \n",
       "991              131500.0        176300.0  2022-02-07 16:50:24.798803  \n",
       "992              113500.0        155300.0  2022-02-07 16:50:24.798803  \n",
       "993              162800.0        238800.0  2022-02-07 16:50:24.798803  \n",
       "994               82900.0        114800.0  2022-02-07 16:50:24.798803  \n",
       "995              246600.0        318200.0  2022-02-07 16:50:24.798803  \n",
       "996              146500.0        210200.0  2022-02-07 16:50:24.798803  \n",
       "997              176500.0        239800.0  2022-02-07 16:50:24.798803  \n",
       "998              146400.0        175500.0  2022-02-07 16:50:24.798803  \n",
       "999              305600.0        391900.0  2022-02-07 16:50:24.798803  "
      ]
     },
     "execution_count": 65,
     "metadata": {},
     "output_type": "execute_result"
    }
   ],
   "source": [
    "df=pd.read_csv('instagram_global_top_1000.csv')\n",
    "df.tail(20)"
   ]
  },
  {
   "attachments": {},
   "cell_type": "markdown",
   "metadata": {},
   "source": [
    "### 1. Extraer los siguentes estadísiticos del conjunto de datos para varias de las varibles disponibles:"
   ]
  },
  {
   "attachments": {},
   "cell_type": "markdown",
   "metadata": {},
   "source": [
    " Utilizando métodos de pandas: media, mediana, moda, máximo y mínimo"
   ]
  },
  {
   "cell_type": "code",
   "execution_count": null,
   "metadata": {},
   "outputs": [],
   "source": [
    "#Como en I hacemos analisis de variables numéricas, en este pair, analizaremos las categóricas, \n",
    "# que no sean definitoras de cada registro. Vamos a analizar, los seguidores por pais, valorando seguimientos e interacciones en la app.\n",
    "#Nos generamos una consulta de variables numéricas enfrentadas por paises."
   ]
  },
  {
   "cell_type": "code",
   "execution_count": 4,
   "metadata": {},
   "outputs": [
    {
     "data": {
      "text/plain": [
       "array(['India', 'United States', 'Argentina', 'Brazil', 'Indonesia',\n",
       "       'Iran', nan, 'France', 'Mexico', 'Russia', 'South Korea', 'Egypt',\n",
       "       'Turkey', 'Spain', 'Italy', 'China', 'Colombia', 'United Kingdom',\n",
       "       'Poland', 'Nigeria', 'Thailand', 'Philippines', 'Saudi Arabia',\n",
       "       'Morocco', 'United Arab Emirates', 'Iraq', 'Germany', 'Algeria',\n",
       "       'Syria', 'Kazakhstan', 'Japan', 'Chile'], dtype=object)"
      ]
     },
     "execution_count": 4,
     "metadata": {},
     "output_type": "execute_result"
    }
   ],
   "source": [
    "df['audience_country'].unique()"
   ]
  },
  {
   "cell_type": "code",
   "execution_count": 5,
   "metadata": {},
   "outputs": [
    {
     "name": "stderr",
     "output_type": "stream",
     "text": [
      "/tmp/ipykernel_2926/2232583574.py:1: FutureWarning: Indexing with multiple keys (implicitly converted to a tuple of keys) will be deprecated, use a list instead.\n",
      "  df2=df.groupby(['audience_country'])['followers','authentic_engagement','engagement_avg'].sum()\n"
     ]
    },
    {
     "data": {
      "text/html": [
       "<div>\n",
       "<style scoped>\n",
       "    .dataframe tbody tr th:only-of-type {\n",
       "        vertical-align: middle;\n",
       "    }\n",
       "\n",
       "    .dataframe tbody tr th {\n",
       "        vertical-align: top;\n",
       "    }\n",
       "\n",
       "    .dataframe thead th {\n",
       "        text-align: right;\n",
       "    }\n",
       "</style>\n",
       "<table border=\"1\" class=\"dataframe\">\n",
       "  <thead>\n",
       "    <tr style=\"text-align: right;\">\n",
       "      <th></th>\n",
       "      <th>followers</th>\n",
       "      <th>authentic_engagement</th>\n",
       "      <th>engagement_avg</th>\n",
       "    </tr>\n",
       "    <tr>\n",
       "      <th>audience_country</th>\n",
       "      <th></th>\n",
       "      <th></th>\n",
       "      <th></th>\n",
       "    </tr>\n",
       "  </thead>\n",
       "  <tbody>\n",
       "    <tr>\n",
       "      <th>Algeria</th>\n",
       "      <td>8.200000e+06</td>\n",
       "      <td>419200.0</td>\n",
       "      <td>539900.0</td>\n",
       "    </tr>\n",
       "    <tr>\n",
       "      <th>Argentina</th>\n",
       "      <td>6.365000e+08</td>\n",
       "      <td>16238000.0</td>\n",
       "      <td>24583200.0</td>\n",
       "    </tr>\n",
       "    <tr>\n",
       "      <th>Brazil</th>\n",
       "      <td>3.588600e+09</td>\n",
       "      <td>69293300.0</td>\n",
       "      <td>105269300.0</td>\n",
       "    </tr>\n",
       "    <tr>\n",
       "      <th>Chile</th>\n",
       "      <td>1.310000e+07</td>\n",
       "      <td>156600.0</td>\n",
       "      <td>257900.0</td>\n",
       "    </tr>\n",
       "    <tr>\n",
       "      <th>China</th>\n",
       "      <td>2.700000e+07</td>\n",
       "      <td>934200.0</td>\n",
       "      <td>1100000.0</td>\n",
       "    </tr>\n",
       "    <tr>\n",
       "      <th>Colombia</th>\n",
       "      <td>1.778000e+08</td>\n",
       "      <td>2676300.0</td>\n",
       "      <td>3677000.0</td>\n",
       "    </tr>\n",
       "    <tr>\n",
       "      <th>Egypt</th>\n",
       "      <td>1.388000e+08</td>\n",
       "      <td>1964000.0</td>\n",
       "      <td>2721200.0</td>\n",
       "    </tr>\n",
       "    <tr>\n",
       "      <th>France</th>\n",
       "      <td>1.428000e+08</td>\n",
       "      <td>4050700.0</td>\n",
       "      <td>5443800.0</td>\n",
       "    </tr>\n",
       "    <tr>\n",
       "      <th>Germany</th>\n",
       "      <td>9.220000e+07</td>\n",
       "      <td>890700.0</td>\n",
       "      <td>1166600.0</td>\n",
       "    </tr>\n",
       "    <tr>\n",
       "      <th>India</th>\n",
       "      <td>4.936000e+09</td>\n",
       "      <td>94945500.0</td>\n",
       "      <td>118007300.0</td>\n",
       "    </tr>\n",
       "    <tr>\n",
       "      <th>Indonesia</th>\n",
       "      <td>2.201500e+09</td>\n",
       "      <td>125343800.0</td>\n",
       "      <td>156001700.0</td>\n",
       "    </tr>\n",
       "    <tr>\n",
       "      <th>Iran</th>\n",
       "      <td>2.947000e+08</td>\n",
       "      <td>10532800.0</td>\n",
       "      <td>15197900.0</td>\n",
       "    </tr>\n",
       "    <tr>\n",
       "      <th>Iraq</th>\n",
       "      <td>6.520000e+07</td>\n",
       "      <td>924000.0</td>\n",
       "      <td>1198100.0</td>\n",
       "    </tr>\n",
       "    <tr>\n",
       "      <th>Italy</th>\n",
       "      <td>2.587000e+08</td>\n",
       "      <td>5835600.0</td>\n",
       "      <td>8519500.0</td>\n",
       "    </tr>\n",
       "    <tr>\n",
       "      <th>Japan</th>\n",
       "      <td>1.440000e+07</td>\n",
       "      <td>864100.0</td>\n",
       "      <td>970100.0</td>\n",
       "    </tr>\n",
       "    <tr>\n",
       "      <th>Kazakhstan</th>\n",
       "      <td>1.400000e+07</td>\n",
       "      <td>735300.0</td>\n",
       "      <td>993700.0</td>\n",
       "    </tr>\n",
       "    <tr>\n",
       "      <th>Mexico</th>\n",
       "      <td>8.295000e+08</td>\n",
       "      <td>30662600.0</td>\n",
       "      <td>39109600.0</td>\n",
       "    </tr>\n",
       "    <tr>\n",
       "      <th>Morocco</th>\n",
       "      <td>2.050000e+07</td>\n",
       "      <td>1253200.0</td>\n",
       "      <td>1776800.0</td>\n",
       "    </tr>\n",
       "    <tr>\n",
       "      <th>Nigeria</th>\n",
       "      <td>6.000000e+07</td>\n",
       "      <td>893700.0</td>\n",
       "      <td>1425000.0</td>\n",
       "    </tr>\n",
       "    <tr>\n",
       "      <th>Philippines</th>\n",
       "      <td>8.790000e+07</td>\n",
       "      <td>2497400.0</td>\n",
       "      <td>2853200.0</td>\n",
       "    </tr>\n",
       "    <tr>\n",
       "      <th>Poland</th>\n",
       "      <td>2.420000e+07</td>\n",
       "      <td>478300.0</td>\n",
       "      <td>607000.0</td>\n",
       "    </tr>\n",
       "    <tr>\n",
       "      <th>Russia</th>\n",
       "      <td>4.074000e+08</td>\n",
       "      <td>14936400.0</td>\n",
       "      <td>19766300.0</td>\n",
       "    </tr>\n",
       "    <tr>\n",
       "      <th>Saudi Arabia</th>\n",
       "      <td>2.480000e+07</td>\n",
       "      <td>635400.0</td>\n",
       "      <td>815400.0</td>\n",
       "    </tr>\n",
       "    <tr>\n",
       "      <th>South Korea</th>\n",
       "      <td>1.424000e+08</td>\n",
       "      <td>14731500.0</td>\n",
       "      <td>17792800.0</td>\n",
       "    </tr>\n",
       "    <tr>\n",
       "      <th>Spain</th>\n",
       "      <td>7.868000e+08</td>\n",
       "      <td>13203000.0</td>\n",
       "      <td>19254500.0</td>\n",
       "    </tr>\n",
       "    <tr>\n",
       "      <th>Syria</th>\n",
       "      <td>8.200000e+06</td>\n",
       "      <td>392100.0</td>\n",
       "      <td>478100.0</td>\n",
       "    </tr>\n",
       "    <tr>\n",
       "      <th>Thailand</th>\n",
       "      <td>4.450000e+07</td>\n",
       "      <td>1789700.0</td>\n",
       "      <td>2293800.0</td>\n",
       "    </tr>\n",
       "    <tr>\n",
       "      <th>Turkey</th>\n",
       "      <td>2.594000e+08</td>\n",
       "      <td>8214100.0</td>\n",
       "      <td>10778300.0</td>\n",
       "    </tr>\n",
       "    <tr>\n",
       "      <th>United Arab Emirates</th>\n",
       "      <td>1.370000e+07</td>\n",
       "      <td>396200.0</td>\n",
       "      <td>523300.0</td>\n",
       "    </tr>\n",
       "    <tr>\n",
       "      <th>United Kingdom</th>\n",
       "      <td>2.831000e+08</td>\n",
       "      <td>4754300.0</td>\n",
       "      <td>7039000.0</td>\n",
       "    </tr>\n",
       "    <tr>\n",
       "      <th>United States</th>\n",
       "      <td>9.116200e+09</td>\n",
       "      <td>188580800.0</td>\n",
       "      <td>262233200.0</td>\n",
       "    </tr>\n",
       "  </tbody>\n",
       "</table>\n",
       "</div>"
      ],
      "text/plain": [
       "                         followers  authentic_engagement  engagement_avg\n",
       "audience_country                                                        \n",
       "Algeria               8.200000e+06              419200.0        539900.0\n",
       "Argentina             6.365000e+08            16238000.0      24583200.0\n",
       "Brazil                3.588600e+09            69293300.0     105269300.0\n",
       "Chile                 1.310000e+07              156600.0        257900.0\n",
       "China                 2.700000e+07              934200.0       1100000.0\n",
       "Colombia              1.778000e+08             2676300.0       3677000.0\n",
       "Egypt                 1.388000e+08             1964000.0       2721200.0\n",
       "France                1.428000e+08             4050700.0       5443800.0\n",
       "Germany               9.220000e+07              890700.0       1166600.0\n",
       "India                 4.936000e+09            94945500.0     118007300.0\n",
       "Indonesia             2.201500e+09           125343800.0     156001700.0\n",
       "Iran                  2.947000e+08            10532800.0      15197900.0\n",
       "Iraq                  6.520000e+07              924000.0       1198100.0\n",
       "Italy                 2.587000e+08             5835600.0       8519500.0\n",
       "Japan                 1.440000e+07              864100.0        970100.0\n",
       "Kazakhstan            1.400000e+07              735300.0        993700.0\n",
       "Mexico                8.295000e+08            30662600.0      39109600.0\n",
       "Morocco               2.050000e+07             1253200.0       1776800.0\n",
       "Nigeria               6.000000e+07              893700.0       1425000.0\n",
       "Philippines           8.790000e+07             2497400.0       2853200.0\n",
       "Poland                2.420000e+07              478300.0        607000.0\n",
       "Russia                4.074000e+08            14936400.0      19766300.0\n",
       "Saudi Arabia          2.480000e+07              635400.0        815400.0\n",
       "South Korea           1.424000e+08            14731500.0      17792800.0\n",
       "Spain                 7.868000e+08            13203000.0      19254500.0\n",
       "Syria                 8.200000e+06              392100.0        478100.0\n",
       "Thailand              4.450000e+07             1789700.0       2293800.0\n",
       "Turkey                2.594000e+08             8214100.0      10778300.0\n",
       "United Arab Emirates  1.370000e+07              396200.0        523300.0\n",
       "United Kingdom        2.831000e+08             4754300.0       7039000.0\n",
       "United States         9.116200e+09           188580800.0     262233200.0"
      ]
     },
     "execution_count": 5,
     "metadata": {},
     "output_type": "execute_result"
    }
   ],
   "source": [
    "df2=df.groupby(['audience_country'])['followers','authentic_engagement','engagement_avg'].sum()\n",
    "df2"
   ]
  },
  {
   "cell_type": "code",
   "execution_count": null,
   "metadata": {},
   "outputs": [],
   "source": [
    "#la moda no nos da resultado, por la gran amplitud de valores, y lo elevados que son."
   ]
  },
  {
   "cell_type": "code",
   "execution_count": 37,
   "metadata": {},
   "outputs": [
    {
     "data": {
      "text/plain": [
       "median    1.388000e+08\n",
       "mean      7.973581e+08\n",
       "Name: followers, dtype: float64"
      ]
     },
     "execution_count": 37,
     "metadata": {},
     "output_type": "execute_result"
    }
   ],
   "source": [
    "df2['followers'].agg(['median', 'mean'])"
   ]
  },
  {
   "cell_type": "code",
   "execution_count": 27,
   "metadata": {},
   "outputs": [
    {
     "data": {
      "text/html": [
       "<div>\n",
       "<style scoped>\n",
       "    .dataframe tbody tr th:only-of-type {\n",
       "        vertical-align: middle;\n",
       "    }\n",
       "\n",
       "    .dataframe tbody tr th {\n",
       "        vertical-align: top;\n",
       "    }\n",
       "\n",
       "    .dataframe thead th {\n",
       "        text-align: right;\n",
       "    }\n",
       "</style>\n",
       "<table border=\"1\" class=\"dataframe\">\n",
       "  <thead>\n",
       "    <tr style=\"text-align: right;\">\n",
       "      <th></th>\n",
       "      <th>followers</th>\n",
       "      <th>authentic_engagement</th>\n",
       "      <th>engagement_avg</th>\n",
       "    </tr>\n",
       "    <tr>\n",
       "      <th>audience_country</th>\n",
       "      <th></th>\n",
       "      <th></th>\n",
       "      <th></th>\n",
       "    </tr>\n",
       "  </thead>\n",
       "  <tbody>\n",
       "    <tr>\n",
       "      <th>United States</th>\n",
       "      <td>9.116200e+09</td>\n",
       "      <td>188580800.0</td>\n",
       "      <td>262233200.0</td>\n",
       "    </tr>\n",
       "  </tbody>\n",
       "</table>\n",
       "</div>"
      ],
      "text/plain": [
       "                     followers  authentic_engagement  engagement_avg\n",
       "audience_country                                                    \n",
       "United States     9.116200e+09           188580800.0     262233200.0"
      ]
     },
     "execution_count": 27,
     "metadata": {},
     "output_type": "execute_result"
    }
   ],
   "source": [
    "df2.loc[(df2.followers==df2['followers'].max())]"
   ]
  },
  {
   "cell_type": "code",
   "execution_count": 28,
   "metadata": {},
   "outputs": [
    {
     "data": {
      "text/html": [
       "<div>\n",
       "<style scoped>\n",
       "    .dataframe tbody tr th:only-of-type {\n",
       "        vertical-align: middle;\n",
       "    }\n",
       "\n",
       "    .dataframe tbody tr th {\n",
       "        vertical-align: top;\n",
       "    }\n",
       "\n",
       "    .dataframe thead th {\n",
       "        text-align: right;\n",
       "    }\n",
       "</style>\n",
       "<table border=\"1\" class=\"dataframe\">\n",
       "  <thead>\n",
       "    <tr style=\"text-align: right;\">\n",
       "      <th></th>\n",
       "      <th>followers</th>\n",
       "      <th>authentic_engagement</th>\n",
       "      <th>engagement_avg</th>\n",
       "    </tr>\n",
       "    <tr>\n",
       "      <th>audience_country</th>\n",
       "      <th></th>\n",
       "      <th></th>\n",
       "      <th></th>\n",
       "    </tr>\n",
       "  </thead>\n",
       "  <tbody>\n",
       "    <tr>\n",
       "      <th>Algeria</th>\n",
       "      <td>8200000.0</td>\n",
       "      <td>419200.0</td>\n",
       "      <td>539900.0</td>\n",
       "    </tr>\n",
       "    <tr>\n",
       "      <th>Syria</th>\n",
       "      <td>8200000.0</td>\n",
       "      <td>392100.0</td>\n",
       "      <td>478100.0</td>\n",
       "    </tr>\n",
       "  </tbody>\n",
       "</table>\n",
       "</div>"
      ],
      "text/plain": [
       "                  followers  authentic_engagement  engagement_avg\n",
       "audience_country                                                 \n",
       "Algeria           8200000.0              419200.0        539900.0\n",
       "Syria             8200000.0              392100.0        478100.0"
      ]
     },
     "execution_count": 28,
     "metadata": {},
     "output_type": "execute_result"
    }
   ],
   "source": [
    "df2.loc[(df2.followers==df2['followers'].min())]"
   ]
  },
  {
   "cell_type": "code",
   "execution_count": 30,
   "metadata": {},
   "outputs": [
    {
     "data": {
      "text/plain": [
       "0    8200000.0\n",
       "dtype: float64"
      ]
     },
     "execution_count": 30,
     "metadata": {},
     "output_type": "execute_result"
    }
   ],
   "source": [
    "df2['followers'].mode()\n",
    "#aunque en este caso, no es un dato muy representativo"
   ]
  },
  {
   "cell_type": "code",
   "execution_count": 47,
   "metadata": {},
   "outputs": [
    {
     "data": {
      "text/plain": [
       "median    2.497400e+06\n",
       "mean      1.997493e+07\n",
       "Name: authentic_engagement, dtype: float64"
      ]
     },
     "execution_count": 47,
     "metadata": {},
     "output_type": "execute_result"
    }
   ],
   "source": [
    "df2['authentic_engagement'].agg(['median', 'mean'])"
   ]
  },
  {
   "cell_type": "code",
   "execution_count": 33,
   "metadata": {},
   "outputs": [
    {
     "data": {
      "text/html": [
       "<div>\n",
       "<style scoped>\n",
       "    .dataframe tbody tr th:only-of-type {\n",
       "        vertical-align: middle;\n",
       "    }\n",
       "\n",
       "    .dataframe tbody tr th {\n",
       "        vertical-align: top;\n",
       "    }\n",
       "\n",
       "    .dataframe thead th {\n",
       "        text-align: right;\n",
       "    }\n",
       "</style>\n",
       "<table border=\"1\" class=\"dataframe\">\n",
       "  <thead>\n",
       "    <tr style=\"text-align: right;\">\n",
       "      <th></th>\n",
       "      <th>followers</th>\n",
       "      <th>authentic_engagement</th>\n",
       "      <th>engagement_avg</th>\n",
       "    </tr>\n",
       "    <tr>\n",
       "      <th>audience_country</th>\n",
       "      <th></th>\n",
       "      <th></th>\n",
       "      <th></th>\n",
       "    </tr>\n",
       "  </thead>\n",
       "  <tbody>\n",
       "    <tr>\n",
       "      <th>United States</th>\n",
       "      <td>9.116200e+09</td>\n",
       "      <td>188580800.0</td>\n",
       "      <td>262233200.0</td>\n",
       "    </tr>\n",
       "  </tbody>\n",
       "</table>\n",
       "</div>"
      ],
      "text/plain": [
       "                     followers  authentic_engagement  engagement_avg\n",
       "audience_country                                                    \n",
       "United States     9.116200e+09           188580800.0     262233200.0"
      ]
     },
     "execution_count": 33,
     "metadata": {},
     "output_type": "execute_result"
    }
   ],
   "source": [
    "df2.loc[(df2.authentic_engagement==df2['authentic_engagement'].max())]"
   ]
  },
  {
   "cell_type": "code",
   "execution_count": 48,
   "metadata": {},
   "outputs": [
    {
     "data": {
      "text/html": [
       "<div>\n",
       "<style scoped>\n",
       "    .dataframe tbody tr th:only-of-type {\n",
       "        vertical-align: middle;\n",
       "    }\n",
       "\n",
       "    .dataframe tbody tr th {\n",
       "        vertical-align: top;\n",
       "    }\n",
       "\n",
       "    .dataframe thead th {\n",
       "        text-align: right;\n",
       "    }\n",
       "</style>\n",
       "<table border=\"1\" class=\"dataframe\">\n",
       "  <thead>\n",
       "    <tr style=\"text-align: right;\">\n",
       "      <th></th>\n",
       "      <th>followers</th>\n",
       "      <th>authentic_engagement</th>\n",
       "      <th>engagement_avg</th>\n",
       "    </tr>\n",
       "    <tr>\n",
       "      <th>audience_country</th>\n",
       "      <th></th>\n",
       "      <th></th>\n",
       "      <th></th>\n",
       "    </tr>\n",
       "  </thead>\n",
       "  <tbody>\n",
       "    <tr>\n",
       "      <th>Chile</th>\n",
       "      <td>13100000.0</td>\n",
       "      <td>156600.0</td>\n",
       "      <td>257900.0</td>\n",
       "    </tr>\n",
       "  </tbody>\n",
       "</table>\n",
       "</div>"
      ],
      "text/plain": [
       "                   followers  authentic_engagement  engagement_avg\n",
       "audience_country                                                  \n",
       "Chile             13100000.0              156600.0        257900.0"
      ]
     },
     "execution_count": 48,
     "metadata": {},
     "output_type": "execute_result"
    }
   ],
   "source": [
    "df2.loc[(df2.authentic_engagement==df2['authentic_engagement'].min())]"
   ]
  },
  {
   "cell_type": "code",
   "execution_count": 24,
   "metadata": {},
   "outputs": [
    {
     "data": {
      "text/plain": [
       "0    1100000.0\n",
       "dtype: float64"
      ]
     },
     "execution_count": 24,
     "metadata": {},
     "output_type": "execute_result"
    }
   ],
   "source": [
    "df['authentic_engagement'].mode()"
   ]
  },
  {
   "cell_type": "code",
   "execution_count": 72,
   "metadata": {},
   "outputs": [
    {
     "data": {
      "text/plain": [
       "38721434.58455885"
      ]
     },
     "execution_count": 72,
     "metadata": {},
     "output_type": "execute_result"
    }
   ],
   "source": [
    "df['followers'].std()"
   ]
  },
  {
   "attachments": {},
   "cell_type": "markdown",
   "metadata": {},
   "source": [
    "Percentiles 25, 75"
   ]
  },
  {
   "cell_type": "code",
   "execution_count": 43,
   "metadata": {},
   "outputs": [
    {
     "data": {
      "text/plain": [
       "24500000.0"
      ]
     },
     "execution_count": 43,
     "metadata": {},
     "output_type": "execute_result"
    }
   ],
   "source": [
    "percentil_25_followers=np.nanpercentile(df2['followers'],25)\n",
    "percentil_25_followers"
   ]
  },
  {
   "cell_type": "code",
   "execution_count": null,
   "metadata": {},
   "outputs": [],
   "source": [
    "#nuestra desviacion estandar en followers, es mayor al percentil 25, datos bastante heterogeneos"
   ]
  },
  {
   "cell_type": "code",
   "execution_count": 44,
   "metadata": {},
   "outputs": [
    {
     "data": {
      "text/plain": [
       "351050000.0"
      ]
     },
     "execution_count": 44,
     "metadata": {},
     "output_type": "execute_result"
    }
   ],
   "source": [
    "percentil_75_followers= np.nanpercentile(df2['followers'],75)\n",
    "percentil_75_followers"
   ]
  },
  {
   "cell_type": "code",
   "execution_count": 45,
   "metadata": {},
   "outputs": [
    {
     "data": {
      "text/plain": [
       "877400.0"
      ]
     },
     "execution_count": 45,
     "metadata": {},
     "output_type": "execute_result"
    }
   ],
   "source": [
    "percentil_25_actividad=np.nanpercentile(df2['authentic_engagement'],25)\n",
    "percentil_25_actividad"
   ]
  },
  {
   "cell_type": "code",
   "execution_count": 46,
   "metadata": {},
   "outputs": [
    {
     "data": {
      "text/plain": [
       "13967250.0"
      ]
     },
     "execution_count": 46,
     "metadata": {},
     "output_type": "execute_result"
    }
   ],
   "source": [
    "percentil_75_actividad=np.nanpercentile(df2['authentic_engagement'],75)\n",
    "percentil_75_actividad\n",
    "#el 75% de paises tiene una actividad menor a unos 14 millones, valor inferior a la media del total"
   ]
  },
  {
   "attachments": {},
   "cell_type": "markdown",
   "metadata": {},
   "source": [
    "Rango Intercualtílico"
   ]
  },
  {
   "cell_type": "code",
   "execution_count": 51,
   "metadata": {},
   "outputs": [
    {
     "data": {
      "text/plain": [
       "326550000.0"
      ]
     },
     "execution_count": 51,
     "metadata": {},
     "output_type": "execute_result"
    }
   ],
   "source": [
    "IQR_followers=percentil_75_followers-percentil_25_followers\n",
    "IQR_followers"
   ]
  },
  {
   "cell_type": "code",
   "execution_count": 52,
   "metadata": {},
   "outputs": [
    {
     "data": {
      "text/plain": [
       "13089850.0"
      ]
     },
     "execution_count": 52,
     "metadata": {},
     "output_type": "execute_result"
    }
   ],
   "source": [
    "IQR_actividad=percentil_75_actividad-percentil_25_actividad\n",
    "IQR_actividad"
   ]
  },
  {
   "cell_type": "code",
   "execution_count": null,
   "metadata": {},
   "outputs": [],
   "source": [
    "#Observamos que IQR o lo que seria el percentil 50, es mucho más cercano a los percentiles 75 que a los 25, nos indica que hay una gran \n",
    "# dispersion de datos, acumulándose hacia los valores mas altos, lo que nos indica, que en nueestro dataset, la mayoria de los paises, presentan\n",
    "#bajos valores de actividad y número de followers. La mayoria de followers y actividad se concentrarian en pocos paises.\n"
   ]
  },
  {
   "attachments": {},
   "cell_type": "markdown",
   "metadata": {},
   "source": [
    "Boxplot de algunas variables"
   ]
  },
  {
   "cell_type": "code",
   "execution_count": 63,
   "metadata": {},
   "outputs": [
    {
     "data": {
      "image/png": "[encoded data removed]",
      "text/plain": [
       "<Figure size 1440x720 with 2 Axes>"
      ]
     },
     "metadata": {
      "needs_background": "light"
     },
     "output_type": "display_data"
    }
   ],
   "source": [
    "fig,ax=plt.subplots(1,2, figsize=(20,10))\n",
    "sns.histplot(x='followers', data=df2, ax=ax[0], bins='auto')\n",
    "sns.boxplot(y='followers', data=df2, ax=ax[1])\n",
    "plt.show()\n",
    "\n"
   ]
  },
  {
   "cell_type": "code",
   "execution_count": 62,
   "metadata": {},
   "outputs": [
    {
     "data": {
      "image/png": "[encoded data removed]",
      "text/plain": [
       "<Figure size 1440x720 with 2 Axes>"
      ]
     },
     "metadata": {
      "needs_background": "light"
     },
     "output_type": "display_data"
    }
   ],
   "source": [
    "fig,ax=plt.subplots(1,2, figsize=(20,10))\n",
    "sns.histplot(x='authentic_engagement', data=df2, ax=ax[0], bins='auto')\n",
    "sns.boxplot(y='authentic_engagement', data=df2, ax=ax[1])\n",
    "plt.show()"
   ]
  },
  {
   "cell_type": "code",
   "execution_count": null,
   "metadata": {},
   "outputs": [],
   "source": [
    "#Las gráficas apoyan nuestras observaciones anteriores, tenemos valores fuera de rango altísimos(sobre todo USA), y la mayoria de nuestros datos se \n",
    "# concentran en paises con bajo número de seguidores, y bajo úmero de actividad en la app.\n",
    "#Dibujamos histograma para que nos ayude en la interpretación de la grafica boxplot"
   ]
  },
  {
   "attachments": {},
   "cell_type": "markdown",
   "metadata": {},
   "source": [
    "Tabla de frecuencias"
   ]
  },
  {
   "cell_type": "code",
   "execution_count": null,
   "metadata": {},
   "outputs": [],
   "source": [
    "#Como nuestros datos no son a nivel mundial para cada cuenta, hemos decidido trabajar ahora con el numero de followers, \n",
    "# dandoles categoria en vez de valor numérico,aunque seguimos teniendo muestra muy heterogénea de datos aparentemente, \n",
    "# porque no sabemos en base a que se han seleccionado determinados paises para cada cuenta. Y no encontramos como encontrar\n",
    "#  homogeneidad sin poder consultarlo."
   ]
  },
  {
   "cell_type": "code",
   "execution_count": 67,
   "metadata": {},
   "outputs": [],
   "source": [
    "def cambiar_followers(col):\n",
    "    if col<=24500000.0:\n",
    "        return 'baja'\n",
    "    elif col >24500000.0 and col<=351050000.0:\n",
    "        return 'medio'\n",
    "    else:\n",
    "        return 'alto'"
   ]
  },
  {
   "cell_type": "code",
   "execution_count": 69,
   "metadata": {},
   "outputs": [],
   "source": [
    "df['seguidores']=df['followers'].apply(cambiar_followers)"
   ]
  },
  {
   "cell_type": "code",
   "execution_count": 70,
   "metadata": {},
   "outputs": [
    {
     "data": {
      "text/plain": [
       "baja     739\n",
       "medio    259\n",
       "alto       2\n",
       "Name: seguidores, dtype: int64"
      ]
     },
     "execution_count": 70,
     "metadata": {},
     "output_type": "execute_result"
    }
   ],
   "source": [
    "df['seguidores'].value_counts()"
   ]
  },
  {
   "attachments": {},
   "cell_type": "markdown",
   "metadata": {},
   "source": [
    "a) Variables cualitativas"
   ]
  },
  {
   "cell_type": "code",
   "execution_count": 83,
   "metadata": {},
   "outputs": [
    {
     "data": {
      "text/html": [
       "<div>\n",
       "<style scoped>\n",
       "    .dataframe tbody tr th:only-of-type {\n",
       "        vertical-align: middle;\n",
       "    }\n",
       "\n",
       "    .dataframe tbody tr th {\n",
       "        vertical-align: top;\n",
       "    }\n",
       "\n",
       "    .dataframe thead th {\n",
       "        text-align: right;\n",
       "    }\n",
       "</style>\n",
       "<table border=\"1\" class=\"dataframe\">\n",
       "  <thead>\n",
       "    <tr style=\"text-align: right;\">\n",
       "      <th></th>\n",
       "      <th>seguidores</th>\n",
       "      <th>rank</th>\n",
       "      <th>account</th>\n",
       "      <th>title</th>\n",
       "      <th>link</th>\n",
       "      <th>category</th>\n",
       "      <th>followers</th>\n",
       "      <th>audience_country</th>\n",
       "      <th>authentic_engagement</th>\n",
       "      <th>engagement_avg</th>\n",
       "      <th>scraped</th>\n",
       "    </tr>\n",
       "  </thead>\n",
       "  <tbody>\n",
       "    <tr>\n",
       "      <th>0</th>\n",
       "      <td>alto</td>\n",
       "      <td>2</td>\n",
       "      <td>2</td>\n",
       "      <td>2</td>\n",
       "      <td>2</td>\n",
       "      <td>2</td>\n",
       "      <td>2</td>\n",
       "      <td>2</td>\n",
       "      <td>2</td>\n",
       "      <td>2</td>\n",
       "      <td>2</td>\n",
       "    </tr>\n",
       "    <tr>\n",
       "      <th>1</th>\n",
       "      <td>baja</td>\n",
       "      <td>739</td>\n",
       "      <td>739</td>\n",
       "      <td>726</td>\n",
       "      <td>739</td>\n",
       "      <td>655</td>\n",
       "      <td>739</td>\n",
       "      <td>735</td>\n",
       "      <td>739</td>\n",
       "      <td>739</td>\n",
       "      <td>739</td>\n",
       "    </tr>\n",
       "    <tr>\n",
       "      <th>2</th>\n",
       "      <td>medio</td>\n",
       "      <td>259</td>\n",
       "      <td>259</td>\n",
       "      <td>255</td>\n",
       "      <td>259</td>\n",
       "      <td>252</td>\n",
       "      <td>259</td>\n",
       "      <td>256</td>\n",
       "      <td>259</td>\n",
       "      <td>259</td>\n",
       "      <td>259</td>\n",
       "    </tr>\n",
       "  </tbody>\n",
       "</table>\n",
       "</div>"
      ],
      "text/plain": [
       "  seguidores  rank  account  title  link  category  followers  \\\n",
       "0       alto     2        2      2     2         2          2   \n",
       "1       baja   739      739    726   739       655        739   \n",
       "2      medio   259      259    255   259       252        259   \n",
       "\n",
       "   audience_country  authentic_engagement  engagement_avg  scraped  \n",
       "0                 2                     2               2        2  \n",
       "1               735                   739             739      739  \n",
       "2               256                   259             259      259  "
      ]
     },
     "execution_count": 83,
     "metadata": {},
     "output_type": "execute_result"
    }
   ],
   "source": [
    "df_seguidores=df.groupby('seguidores').count().reset_index()\n",
    "df_seguidores"
   ]
  },
  {
   "cell_type": "code",
   "execution_count": null,
   "metadata": {},
   "outputs": [],
   "source": [
    "#vemos que coincide con el vale_counts como esperabamos, tenemos 2 filas, o cuentas de instagram en el rango alto de seguidores, \n",
    "# 259 en el rango medio(que hemos fijado entre los percentiles 25 y 75), \n",
    "# y 739 en el rango bajo de seguidores(que hemos fijado en el percentil 25)"
   ]
  },
  {
   "attachments": {},
   "cell_type": "markdown",
   "metadata": {},
   "source": [
    "b) Variables cuantitativas"
   ]
  },
  {
   "cell_type": "code",
   "execution_count": 78,
   "metadata": {},
   "outputs": [
    {
     "data": {
      "text/html": [
       "<div>\n",
       "<style scoped>\n",
       "    .dataframe tbody tr th:only-of-type {\n",
       "        vertical-align: middle;\n",
       "    }\n",
       "\n",
       "    .dataframe tbody tr th {\n",
       "        vertical-align: top;\n",
       "    }\n",
       "\n",
       "    .dataframe thead th {\n",
       "        text-align: right;\n",
       "    }\n",
       "</style>\n",
       "<table border=\"1\" class=\"dataframe\">\n",
       "  <thead>\n",
       "    <tr style=\"text-align: right;\">\n",
       "      <th></th>\n",
       "      <th>authentic_engagement</th>\n",
       "      <th>rank</th>\n",
       "      <th>account</th>\n",
       "      <th>title</th>\n",
       "      <th>link</th>\n",
       "      <th>category</th>\n",
       "      <th>followers</th>\n",
       "      <th>audience_country</th>\n",
       "      <th>engagement_avg</th>\n",
       "      <th>scraped</th>\n",
       "      <th>seguidores</th>\n",
       "    </tr>\n",
       "  </thead>\n",
       "  <tbody>\n",
       "    <tr>\n",
       "      <th>0</th>\n",
       "      <td>0.0</td>\n",
       "      <td>4</td>\n",
       "      <td>4</td>\n",
       "      <td>4</td>\n",
       "      <td>4</td>\n",
       "      <td>3</td>\n",
       "      <td>4</td>\n",
       "      <td>0</td>\n",
       "      <td>4</td>\n",
       "      <td>4</td>\n",
       "      <td>4</td>\n",
       "    </tr>\n",
       "    <tr>\n",
       "      <th>1</th>\n",
       "      <td>38300.0</td>\n",
       "      <td>1</td>\n",
       "      <td>1</td>\n",
       "      <td>1</td>\n",
       "      <td>1</td>\n",
       "      <td>1</td>\n",
       "      <td>1</td>\n",
       "      <td>1</td>\n",
       "      <td>1</td>\n",
       "      <td>1</td>\n",
       "      <td>1</td>\n",
       "    </tr>\n",
       "    <tr>\n",
       "      <th>2</th>\n",
       "      <td>38600.0</td>\n",
       "      <td>1</td>\n",
       "      <td>1</td>\n",
       "      <td>1</td>\n",
       "      <td>1</td>\n",
       "      <td>1</td>\n",
       "      <td>1</td>\n",
       "      <td>1</td>\n",
       "      <td>1</td>\n",
       "      <td>1</td>\n",
       "      <td>1</td>\n",
       "    </tr>\n",
       "    <tr>\n",
       "      <th>3</th>\n",
       "      <td>39200.0</td>\n",
       "      <td>1</td>\n",
       "      <td>1</td>\n",
       "      <td>1</td>\n",
       "      <td>1</td>\n",
       "      <td>1</td>\n",
       "      <td>1</td>\n",
       "      <td>1</td>\n",
       "      <td>1</td>\n",
       "      <td>1</td>\n",
       "      <td>1</td>\n",
       "    </tr>\n",
       "    <tr>\n",
       "      <th>4</th>\n",
       "      <td>46600.0</td>\n",
       "      <td>1</td>\n",
       "      <td>1</td>\n",
       "      <td>1</td>\n",
       "      <td>1</td>\n",
       "      <td>1</td>\n",
       "      <td>1</td>\n",
       "      <td>1</td>\n",
       "      <td>1</td>\n",
       "      <td>1</td>\n",
       "      <td>1</td>\n",
       "    </tr>\n",
       "    <tr>\n",
       "      <th>...</th>\n",
       "      <td>...</td>\n",
       "      <td>...</td>\n",
       "      <td>...</td>\n",
       "      <td>...</td>\n",
       "      <td>...</td>\n",
       "      <td>...</td>\n",
       "      <td>...</td>\n",
       "      <td>...</td>\n",
       "      <td>...</td>\n",
       "      <td>...</td>\n",
       "      <td>...</td>\n",
       "    </tr>\n",
       "    <tr>\n",
       "      <th>849</th>\n",
       "      <td>8900000.0</td>\n",
       "      <td>1</td>\n",
       "      <td>1</td>\n",
       "      <td>1</td>\n",
       "      <td>1</td>\n",
       "      <td>0</td>\n",
       "      <td>1</td>\n",
       "      <td>0</td>\n",
       "      <td>1</td>\n",
       "      <td>1</td>\n",
       "      <td>1</td>\n",
       "    </tr>\n",
       "    <tr>\n",
       "      <th>850</th>\n",
       "      <td>10400000.0</td>\n",
       "      <td>1</td>\n",
       "      <td>1</td>\n",
       "      <td>1</td>\n",
       "      <td>1</td>\n",
       "      <td>0</td>\n",
       "      <td>1</td>\n",
       "      <td>0</td>\n",
       "      <td>1</td>\n",
       "      <td>1</td>\n",
       "      <td>1</td>\n",
       "    </tr>\n",
       "    <tr>\n",
       "      <th>851</th>\n",
       "      <td>10600000.0</td>\n",
       "      <td>1</td>\n",
       "      <td>1</td>\n",
       "      <td>1</td>\n",
       "      <td>1</td>\n",
       "      <td>0</td>\n",
       "      <td>1</td>\n",
       "      <td>0</td>\n",
       "      <td>1</td>\n",
       "      <td>1</td>\n",
       "      <td>1</td>\n",
       "    </tr>\n",
       "    <tr>\n",
       "      <th>852</th>\n",
       "      <td>11100000.0</td>\n",
       "      <td>1</td>\n",
       "      <td>1</td>\n",
       "      <td>1</td>\n",
       "      <td>1</td>\n",
       "      <td>0</td>\n",
       "      <td>1</td>\n",
       "      <td>1</td>\n",
       "      <td>1</td>\n",
       "      <td>1</td>\n",
       "      <td>1</td>\n",
       "    </tr>\n",
       "    <tr>\n",
       "      <th>853</th>\n",
       "      <td>13400000.0</td>\n",
       "      <td>1</td>\n",
       "      <td>1</td>\n",
       "      <td>1</td>\n",
       "      <td>1</td>\n",
       "      <td>0</td>\n",
       "      <td>1</td>\n",
       "      <td>1</td>\n",
       "      <td>1</td>\n",
       "      <td>1</td>\n",
       "      <td>1</td>\n",
       "    </tr>\n",
       "  </tbody>\n",
       "</table>\n",
       "<p>854 rows × 11 columns</p>\n",
       "</div>"
      ],
      "text/plain": [
       "     authentic_engagement  rank  account  title  link  category  followers  \\\n",
       "0                     0.0     4        4      4     4         3          4   \n",
       "1                 38300.0     1        1      1     1         1          1   \n",
       "2                 38600.0     1        1      1     1         1          1   \n",
       "3                 39200.0     1        1      1     1         1          1   \n",
       "4                 46600.0     1        1      1     1         1          1   \n",
       "..                    ...   ...      ...    ...   ...       ...        ...   \n",
       "849             8900000.0     1        1      1     1         0          1   \n",
       "850            10400000.0     1        1      1     1         0          1   \n",
       "851            10600000.0     1        1      1     1         0          1   \n",
       "852            11100000.0     1        1      1     1         0          1   \n",
       "853            13400000.0     1        1      1     1         0          1   \n",
       "\n",
       "     audience_country  engagement_avg  scraped  seguidores  \n",
       "0                   0               4        4           4  \n",
       "1                   1               1        1           1  \n",
       "2                   1               1        1           1  \n",
       "3                   1               1        1           1  \n",
       "4                   1               1        1           1  \n",
       "..                ...             ...      ...         ...  \n",
       "849                 0               1        1           1  \n",
       "850                 0               1        1           1  \n",
       "851                 0               1        1           1  \n",
       "852                 1               1        1           1  \n",
       "853                 1               1        1           1  \n",
       "\n",
       "[854 rows x 11 columns]"
      ]
     },
     "execution_count": 78,
     "metadata": {},
     "output_type": "execute_result"
    }
   ],
   "source": [
    "df_seguidores2=df.groupby('authentic_engagement').count().reset_index()\n",
    "df_seguidores2"
   ]
  },
  {
   "cell_type": "code",
   "execution_count": 77,
   "metadata": {},
   "outputs": [
    {
     "data": {
      "text/html": [
       "<div>\n",
       "<style scoped>\n",
       "    .dataframe tbody tr th:only-of-type {\n",
       "        vertical-align: middle;\n",
       "    }\n",
       "\n",
       "    .dataframe tbody tr th {\n",
       "        vertical-align: top;\n",
       "    }\n",
       "\n",
       "    .dataframe thead th {\n",
       "        text-align: right;\n",
       "    }\n",
       "</style>\n",
       "<table border=\"1\" class=\"dataframe\">\n",
       "  <thead>\n",
       "    <tr style=\"text-align: right;\">\n",
       "      <th></th>\n",
       "      <th>followers</th>\n",
       "      <th>rank</th>\n",
       "      <th>account</th>\n",
       "      <th>title</th>\n",
       "      <th>link</th>\n",
       "      <th>category</th>\n",
       "      <th>audience_country</th>\n",
       "      <th>authentic_engagement</th>\n",
       "      <th>engagement_avg</th>\n",
       "      <th>scraped</th>\n",
       "      <th>seguidores</th>\n",
       "    </tr>\n",
       "  </thead>\n",
       "  <tbody>\n",
       "    <tr>\n",
       "      <th>0</th>\n",
       "      <td>2800000.0</td>\n",
       "      <td>1</td>\n",
       "      <td>1</td>\n",
       "      <td>1</td>\n",
       "      <td>1</td>\n",
       "      <td>0</td>\n",
       "      <td>1</td>\n",
       "      <td>1</td>\n",
       "      <td>1</td>\n",
       "      <td>1</td>\n",
       "      <td>1</td>\n",
       "    </tr>\n",
       "    <tr>\n",
       "      <th>1</th>\n",
       "      <td>3100000.0</td>\n",
       "      <td>1</td>\n",
       "      <td>1</td>\n",
       "      <td>1</td>\n",
       "      <td>1</td>\n",
       "      <td>0</td>\n",
       "      <td>1</td>\n",
       "      <td>1</td>\n",
       "      <td>1</td>\n",
       "      <td>1</td>\n",
       "      <td>1</td>\n",
       "    </tr>\n",
       "    <tr>\n",
       "      <th>2</th>\n",
       "      <td>3200000.0</td>\n",
       "      <td>3</td>\n",
       "      <td>3</td>\n",
       "      <td>3</td>\n",
       "      <td>3</td>\n",
       "      <td>1</td>\n",
       "      <td>3</td>\n",
       "      <td>3</td>\n",
       "      <td>3</td>\n",
       "      <td>3</td>\n",
       "      <td>3</td>\n",
       "    </tr>\n",
       "    <tr>\n",
       "      <th>3</th>\n",
       "      <td>3400000.0</td>\n",
       "      <td>1</td>\n",
       "      <td>1</td>\n",
       "      <td>0</td>\n",
       "      <td>1</td>\n",
       "      <td>1</td>\n",
       "      <td>1</td>\n",
       "      <td>1</td>\n",
       "      <td>1</td>\n",
       "      <td>1</td>\n",
       "      <td>1</td>\n",
       "    </tr>\n",
       "    <tr>\n",
       "      <th>4</th>\n",
       "      <td>3500000.0</td>\n",
       "      <td>3</td>\n",
       "      <td>3</td>\n",
       "      <td>3</td>\n",
       "      <td>3</td>\n",
       "      <td>0</td>\n",
       "      <td>2</td>\n",
       "      <td>3</td>\n",
       "      <td>3</td>\n",
       "      <td>3</td>\n",
       "      <td>3</td>\n",
       "    </tr>\n",
       "    <tr>\n",
       "      <th>...</th>\n",
       "      <td>...</td>\n",
       "      <td>...</td>\n",
       "      <td>...</td>\n",
       "      <td>...</td>\n",
       "      <td>...</td>\n",
       "      <td>...</td>\n",
       "      <td>...</td>\n",
       "      <td>...</td>\n",
       "      <td>...</td>\n",
       "      <td>...</td>\n",
       "      <td>...</td>\n",
       "    </tr>\n",
       "    <tr>\n",
       "      <th>394</th>\n",
       "      <td>295800000.0</td>\n",
       "      <td>2</td>\n",
       "      <td>2</td>\n",
       "      <td>2</td>\n",
       "      <td>2</td>\n",
       "      <td>2</td>\n",
       "      <td>2</td>\n",
       "      <td>2</td>\n",
       "      <td>2</td>\n",
       "      <td>2</td>\n",
       "      <td>2</td>\n",
       "    </tr>\n",
       "    <tr>\n",
       "      <th>395</th>\n",
       "      <td>306300000.0</td>\n",
       "      <td>1</td>\n",
       "      <td>1</td>\n",
       "      <td>1</td>\n",
       "      <td>1</td>\n",
       "      <td>1</td>\n",
       "      <td>1</td>\n",
       "      <td>1</td>\n",
       "      <td>1</td>\n",
       "      <td>1</td>\n",
       "      <td>1</td>\n",
       "    </tr>\n",
       "    <tr>\n",
       "      <th>396</th>\n",
       "      <td>308800000.0</td>\n",
       "      <td>1</td>\n",
       "      <td>1</td>\n",
       "      <td>1</td>\n",
       "      <td>1</td>\n",
       "      <td>1</td>\n",
       "      <td>1</td>\n",
       "      <td>1</td>\n",
       "      <td>1</td>\n",
       "      <td>1</td>\n",
       "      <td>1</td>\n",
       "    </tr>\n",
       "    <tr>\n",
       "      <th>397</th>\n",
       "      <td>400100000.0</td>\n",
       "      <td>1</td>\n",
       "      <td>1</td>\n",
       "      <td>1</td>\n",
       "      <td>1</td>\n",
       "      <td>1</td>\n",
       "      <td>1</td>\n",
       "      <td>1</td>\n",
       "      <td>1</td>\n",
       "      <td>1</td>\n",
       "      <td>1</td>\n",
       "    </tr>\n",
       "    <tr>\n",
       "      <th>398</th>\n",
       "      <td>469600000.0</td>\n",
       "      <td>1</td>\n",
       "      <td>1</td>\n",
       "      <td>1</td>\n",
       "      <td>1</td>\n",
       "      <td>1</td>\n",
       "      <td>1</td>\n",
       "      <td>1</td>\n",
       "      <td>1</td>\n",
       "      <td>1</td>\n",
       "      <td>1</td>\n",
       "    </tr>\n",
       "  </tbody>\n",
       "</table>\n",
       "<p>399 rows × 11 columns</p>\n",
       "</div>"
      ],
      "text/plain": [
       "       followers  rank  account  title  link  category  audience_country  \\\n",
       "0      2800000.0     1        1      1     1         0                 1   \n",
       "1      3100000.0     1        1      1     1         0                 1   \n",
       "2      3200000.0     3        3      3     3         1                 3   \n",
       "3      3400000.0     1        1      0     1         1                 1   \n",
       "4      3500000.0     3        3      3     3         0                 2   \n",
       "..           ...   ...      ...    ...   ...       ...               ...   \n",
       "394  295800000.0     2        2      2     2         2                 2   \n",
       "395  306300000.0     1        1      1     1         1                 1   \n",
       "396  308800000.0     1        1      1     1         1                 1   \n",
       "397  400100000.0     1        1      1     1         1                 1   \n",
       "398  469600000.0     1        1      1     1         1                 1   \n",
       "\n",
       "     authentic_engagement  engagement_avg  scraped  seguidores  \n",
       "0                       1               1        1           1  \n",
       "1                       1               1        1           1  \n",
       "2                       3               3        3           3  \n",
       "3                       1               1        1           1  \n",
       "4                       3               3        3           3  \n",
       "..                    ...             ...      ...         ...  \n",
       "394                     2               2        2           2  \n",
       "395                     1               1        1           1  \n",
       "396                     1               1        1           1  \n",
       "397                     1               1        1           1  \n",
       "398                     1               1        1           1  \n",
       "\n",
       "[399 rows x 11 columns]"
      ]
     },
     "execution_count": 77,
     "metadata": {},
     "output_type": "execute_result"
    }
   ],
   "source": [
    "df_actividad_frec2=df.groupby('followers').count().reset_index()\n",
    "df_actividad_frec2"
   ]
  },
  {
   "attachments": {},
   "cell_type": "markdown",
   "metadata": {},
   "source": [
    "c) Frecuencia acumulada"
   ]
  },
  {
   "cell_type": "code",
   "execution_count": 87,
   "metadata": {},
   "outputs": [
    {
     "data": {
      "text/plain": [
       "3"
      ]
     },
     "execution_count": 87,
     "metadata": {},
     "output_type": "execute_result"
    }
   ],
   "source": [
    "df_seguidores.shape[0]"
   ]
  },
  {
   "cell_type": "code",
   "execution_count": 89,
   "metadata": {},
   "outputs": [
    {
     "data": {
      "text/html": [
       "<div>\n",
       "<style scoped>\n",
       "    .dataframe tbody tr th:only-of-type {\n",
       "        vertical-align: middle;\n",
       "    }\n",
       "\n",
       "    .dataframe tbody tr th {\n",
       "        vertical-align: top;\n",
       "    }\n",
       "\n",
       "    .dataframe thead th {\n",
       "        text-align: right;\n",
       "    }\n",
       "</style>\n",
       "<table border=\"1\" class=\"dataframe\">\n",
       "  <thead>\n",
       "    <tr style=\"text-align: right;\">\n",
       "      <th></th>\n",
       "      <th>rank</th>\n",
       "      <th>account</th>\n",
       "      <th>title</th>\n",
       "      <th>link</th>\n",
       "      <th>category</th>\n",
       "      <th>followers</th>\n",
       "      <th>audience_country</th>\n",
       "      <th>authentic_engagement</th>\n",
       "      <th>engagement_avg</th>\n",
       "      <th>scraped</th>\n",
       "    </tr>\n",
       "  </thead>\n",
       "  <tbody>\n",
       "    <tr>\n",
       "      <th>0</th>\n",
       "      <td>2</td>\n",
       "      <td>2</td>\n",
       "      <td>2</td>\n",
       "      <td>2</td>\n",
       "      <td>2</td>\n",
       "      <td>2</td>\n",
       "      <td>2</td>\n",
       "      <td>2</td>\n",
       "      <td>2</td>\n",
       "      <td>2</td>\n",
       "    </tr>\n",
       "    <tr>\n",
       "      <th>1</th>\n",
       "      <td>739</td>\n",
       "      <td>739</td>\n",
       "      <td>726</td>\n",
       "      <td>739</td>\n",
       "      <td>655</td>\n",
       "      <td>739</td>\n",
       "      <td>735</td>\n",
       "      <td>739</td>\n",
       "      <td>739</td>\n",
       "      <td>739</td>\n",
       "    </tr>\n",
       "    <tr>\n",
       "      <th>2</th>\n",
       "      <td>259</td>\n",
       "      <td>259</td>\n",
       "      <td>255</td>\n",
       "      <td>259</td>\n",
       "      <td>252</td>\n",
       "      <td>259</td>\n",
       "      <td>256</td>\n",
       "      <td>259</td>\n",
       "      <td>259</td>\n",
       "      <td>259</td>\n",
       "    </tr>\n",
       "  </tbody>\n",
       "</table>\n",
       "</div>"
      ],
      "text/plain": [
       "   rank  account  title  link  category  followers  audience_country  \\\n",
       "0     2        2      2     2         2          2                 2   \n",
       "1   739      739    726   739       655        739               735   \n",
       "2   259      259    255   259       252        259               256   \n",
       "\n",
       "   authentic_engagement  engagement_avg  scraped  \n",
       "0                     2               2        2  \n",
       "1                   739             739      739  \n",
       "2                   259             259      259  "
      ]
     },
     "execution_count": 89,
     "metadata": {},
     "output_type": "execute_result"
    }
   ],
   "source": [
    "df_seguidores_sin_strings=df_seguidores.drop('seguidores',axis=1)\n",
    "df_seguidores_sin_strings"
   ]
  },
  {
   "cell_type": "code",
   "execution_count": 91,
   "metadata": {},
   "outputs": [
    {
     "data": {
      "text/html": [
       "<div>\n",
       "<style scoped>\n",
       "    .dataframe tbody tr th:only-of-type {\n",
       "        vertical-align: middle;\n",
       "    }\n",
       "\n",
       "    .dataframe tbody tr th {\n",
       "        vertical-align: top;\n",
       "    }\n",
       "\n",
       "    .dataframe thead th {\n",
       "        text-align: right;\n",
       "    }\n",
       "</style>\n",
       "<table border=\"1\" class=\"dataframe\">\n",
       "  <thead>\n",
       "    <tr style=\"text-align: right;\">\n",
       "      <th></th>\n",
       "      <th>rank</th>\n",
       "      <th>account</th>\n",
       "      <th>title</th>\n",
       "      <th>link</th>\n",
       "      <th>category</th>\n",
       "      <th>followers</th>\n",
       "      <th>audience_country</th>\n",
       "      <th>authentic_engagement</th>\n",
       "      <th>engagement_avg</th>\n",
       "      <th>scraped</th>\n",
       "    </tr>\n",
       "  </thead>\n",
       "  <tbody>\n",
       "    <tr>\n",
       "      <th>0</th>\n",
       "      <td>0.2</td>\n",
       "      <td>0.2</td>\n",
       "      <td>0.2</td>\n",
       "      <td>0.2</td>\n",
       "      <td>0.2</td>\n",
       "      <td>0.2</td>\n",
       "      <td>0.2</td>\n",
       "      <td>0.2</td>\n",
       "      <td>0.2</td>\n",
       "      <td>0.2</td>\n",
       "    </tr>\n",
       "    <tr>\n",
       "      <th>1</th>\n",
       "      <td>73.9</td>\n",
       "      <td>73.9</td>\n",
       "      <td>72.6</td>\n",
       "      <td>73.9</td>\n",
       "      <td>65.5</td>\n",
       "      <td>73.9</td>\n",
       "      <td>73.5</td>\n",
       "      <td>73.9</td>\n",
       "      <td>73.9</td>\n",
       "      <td>73.9</td>\n",
       "    </tr>\n",
       "    <tr>\n",
       "      <th>2</th>\n",
       "      <td>25.9</td>\n",
       "      <td>25.9</td>\n",
       "      <td>25.5</td>\n",
       "      <td>25.9</td>\n",
       "      <td>25.2</td>\n",
       "      <td>25.9</td>\n",
       "      <td>25.6</td>\n",
       "      <td>25.9</td>\n",
       "      <td>25.9</td>\n",
       "      <td>25.9</td>\n",
       "    </tr>\n",
       "  </tbody>\n",
       "</table>\n",
       "</div>"
      ],
      "text/plain": [
       "   rank  account  title  link  category  followers  audience_country  \\\n",
       "0   0.2      0.2    0.2   0.2       0.2        0.2               0.2   \n",
       "1  73.9     73.9   72.6  73.9      65.5       73.9              73.5   \n",
       "2  25.9     25.9   25.5  25.9      25.2       25.9              25.6   \n",
       "\n",
       "   authentic_engagement  engagement_avg  scraped  \n",
       "0                   0.2             0.2      0.2  \n",
       "1                  73.9            73.9     73.9  \n",
       "2                  25.9            25.9     25.9  "
      ]
     },
     "execution_count": 91,
     "metadata": {},
     "output_type": "execute_result"
    }
   ],
   "source": [
    "frec_relativa_acum_cuali=(df_seguidores_sin_strings/df.shape[0])*100\n",
    "frec_relativa_acum_cuali"
   ]
  },
  {
   "attachments": {},
   "cell_type": "markdown",
   "metadata": {},
   "source": [
    "d) Representación de al menos una tabla de frecuencias"
   ]
  },
  {
   "cell_type": "code",
   "execution_count": 107,
   "metadata": {},
   "outputs": [
    {
     "data": {
      "image/png": "[encoded data removed]",
      "text/plain": [
       "<Figure size 1440x720 with 1 Axes>"
      ]
     },
     "metadata": {},
     "output_type": "display_data"
    }
   ],
   "source": [
    "plt.figure(figsize=(20,10))\n",
    "figure=plt.pie(frec_relativa_acum_cuali['rank'])\n",
    "plt.show()"
   ]
  },
  {
   "attachments": {},
   "cell_type": "markdown",
   "metadata": {},
   "source": [
    "### 2.Interpretación de los resultados"
   ]
  }
 ],
 "metadata": {
  "kernelspec": {
   "display_name": "Python 3",
   "language": "python",
   "name": "python3"
  },
  "language_info": {
   "codemirror_mode": {
    "name": "ipython",
    "version": 3
   },
   "file_extension": ".py",
   "mimetype": "text/x-python",
   "name": "python",
   "nbconvert_exporter": "python",
   "pygments_lexer": "ipython3",
   "version": "3.9.7 (default, Sep 16 2021, 13:09:58) \n[GCC 7.5.0]"
  },
  "orig_nbformat": 4,
  "vscode": {
   "interpreter": {
    "hash": "235f9155b0abc8f1580e75acf7c6712d847a3598ded282a80a21bb1bc6aba73f"
   }
  }
 },
 "nbformat": 4,
 "nbformat_minor": 2
}
