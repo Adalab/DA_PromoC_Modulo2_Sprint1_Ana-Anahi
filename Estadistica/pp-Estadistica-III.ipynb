{
 "cells": [
  {
   "attachments": {},
   "cell_type": "markdown",
   "metadata": {},
   "source": [
    "## ESTADISTICA III"
   ]
  },
  {
   "attachments": {},
   "cell_type": "markdown",
   "metadata": {},
   "source": [
    "Vamos ahora a tomar de nuevo el conjunto de datos con el que estuvimos trabajando en los últimos días y vamos a continuar con el análisis de las estadísitcas de los contenidos del conjunto de datos.\n",
    "Para todas los ejercicios de pair programming de Estadística I, II y III usaremos el dataframe que se tome para el desarrollo de este ejercicio de pair programming.\n",
    "Se ruega a la hora de realizar la entrega que incluyais el conjunto de datos que hayais decidido emplear para estos ejercicios.\n"
   ]
  },
  {
   "cell_type": "code",
   "execution_count": 1,
   "metadata": {},
   "outputs": [],
   "source": [
    "import pandas as pd\n",
    "import numpy as np\n",
    "import seaborn as sns\n",
    "import matplotlib.pyplot as plt\n",
    "from scipy.stats import skew\n",
    "import scipy.stats as st"
   ]
  },
  {
   "cell_type": "code",
   "execution_count": 2,
   "metadata": {},
   "outputs": [
    {
     "data": {
      "text/html": [
       "<div>\n",
       "<style scoped>\n",
       "    .dataframe tbody tr th:only-of-type {\n",
       "        vertical-align: middle;\n",
       "    }\n",
       "\n",
       "    .dataframe tbody tr th {\n",
       "        vertical-align: top;\n",
       "    }\n",
       "\n",
       "    .dataframe thead th {\n",
       "        text-align: right;\n",
       "    }\n",
       "</style>\n",
       "<table border=\"1\" class=\"dataframe\">\n",
       "  <thead>\n",
       "    <tr style=\"text-align: right;\">\n",
       "      <th></th>\n",
       "      <th>rank</th>\n",
       "      <th>account</th>\n",
       "      <th>title</th>\n",
       "      <th>link</th>\n",
       "      <th>category</th>\n",
       "      <th>followers</th>\n",
       "      <th>audience_country</th>\n",
       "      <th>authentic_engagement</th>\n",
       "      <th>engagement_avg</th>\n",
       "      <th>scraped</th>\n",
       "    </tr>\n",
       "  </thead>\n",
       "  <tbody>\n",
       "    <tr>\n",
       "      <th>0</th>\n",
       "      <td>1</td>\n",
       "      <td>cristiano</td>\n",
       "      <td>Cristiano Ronaldo</td>\n",
       "      <td>https://www.instagram.com/cristiano/</td>\n",
       "      <td>Sports with a ball</td>\n",
       "      <td>400100000.0</td>\n",
       "      <td>India</td>\n",
       "      <td>7800000.0</td>\n",
       "      <td>9500000.0</td>\n",
       "      <td>2022-02-07 16:50:24.798803</td>\n",
       "    </tr>\n",
       "    <tr>\n",
       "      <th>1</th>\n",
       "      <td>2</td>\n",
       "      <td>kyliejenner</td>\n",
       "      <td>Kylie 🤍</td>\n",
       "      <td>https://www.instagram.com/kyliejenner/</td>\n",
       "      <td>Fashion|Modeling|Beauty</td>\n",
       "      <td>308800000.0</td>\n",
       "      <td>United States</td>\n",
       "      <td>6200000.0</td>\n",
       "      <td>10100000.0</td>\n",
       "      <td>2022-02-07 16:50:24.798803</td>\n",
       "    </tr>\n",
       "    <tr>\n",
       "      <th>2</th>\n",
       "      <td>3</td>\n",
       "      <td>leomessi</td>\n",
       "      <td>Leo Messi</td>\n",
       "      <td>https://www.instagram.com/leomessi/</td>\n",
       "      <td>Sports with a ball|Family</td>\n",
       "      <td>306300000.0</td>\n",
       "      <td>Argentina</td>\n",
       "      <td>4800000.0</td>\n",
       "      <td>6500000.0</td>\n",
       "      <td>2022-02-07 16:50:24.798803</td>\n",
       "    </tr>\n",
       "  </tbody>\n",
       "</table>\n",
       "</div>"
      ],
      "text/plain": [
       "   rank      account              title  \\\n",
       "0     1    cristiano  Cristiano Ronaldo   \n",
       "1     2  kyliejenner            Kylie 🤍   \n",
       "2     3     leomessi          Leo Messi   \n",
       "\n",
       "                                     link                   category  \\\n",
       "0    https://www.instagram.com/cristiano/         Sports with a ball   \n",
       "1  https://www.instagram.com/kyliejenner/    Fashion|Modeling|Beauty   \n",
       "2     https://www.instagram.com/leomessi/  Sports with a ball|Family   \n",
       "\n",
       "     followers audience_country  authentic_engagement  engagement_avg  \\\n",
       "0  400100000.0            India             7800000.0       9500000.0   \n",
       "1  308800000.0    United States             6200000.0      10100000.0   \n",
       "2  306300000.0        Argentina             4800000.0       6500000.0   \n",
       "\n",
       "                      scraped  \n",
       "0  2022-02-07 16:50:24.798803  \n",
       "1  2022-02-07 16:50:24.798803  \n",
       "2  2022-02-07 16:50:24.798803  "
      ]
     },
     "execution_count": 2,
     "metadata": {},
     "output_type": "execute_result"
    }
   ],
   "source": [
    "df=pd.read_csv('instagram_global_top_1000.csv')\n",
    "df.head(3)"
   ]
  },
  {
   "attachments": {},
   "cell_type": "markdown",
   "metadata": {},
   "source": [
    "Los objetivos de hoy son:\n",
    "Extraer los siguentes estadísiticos del conjunto de datos para varias de las varibles disponibles."
   ]
  },
  {
   "cell_type": "code",
   "execution_count": 3,
   "metadata": {},
   "outputs": [],
   "source": [
    "def cambiar_followers(col): #Vamos a segmentar los datos de la columna followers\n",
    "    if col<=24500000.0:\n",
    "        return 'baja'\n",
    "    elif col >24500000.0 and col<=351050000.0:\n",
    "        return 'medio'\n",
    "    else:\n",
    "        return 'alto'"
   ]
  },
  {
   "cell_type": "code",
   "execution_count": 4,
   "metadata": {},
   "outputs": [],
   "source": [
    "df['seguidores']=df['followers'].apply(cambiar_followers)# Creamos la nueva columna"
   ]
  },
  {
   "attachments": {},
   "cell_type": "markdown",
   "metadata": {},
   "source": [
    "1) Tabla de contingencia"
   ]
  },
  {
   "cell_type": "code",
   "execution_count": 6,
   "metadata": {},
   "outputs": [
    {
     "data": {
      "text/html": [
       "<div>\n",
       "<style scoped>\n",
       "    .dataframe tbody tr th:only-of-type {\n",
       "        vertical-align: middle;\n",
       "    }\n",
       "\n",
       "    .dataframe tbody tr th {\n",
       "        vertical-align: top;\n",
       "    }\n",
       "\n",
       "    .dataframe thead th {\n",
       "        text-align: right;\n",
       "    }\n",
       "</style>\n",
       "<table border=\"1\" class=\"dataframe\">\n",
       "  <thead>\n",
       "    <tr style=\"text-align: right;\">\n",
       "      <th>category</th>\n",
       "      <th>Accessories|Jewellery|Clothing|Outfits|Fashion</th>\n",
       "      <th>Adult content</th>\n",
       "      <th>Animals</th>\n",
       "      <th>Art|Artists</th>\n",
       "      <th>Art|Artists|Beauty</th>\n",
       "      <th>Art|Artists|Cinema|Actors/actresses</th>\n",
       "      <th>Art|Artists|Cinema|Actors/actresses|Shows</th>\n",
       "      <th>Art|Artists|Comics  sketches</th>\n",
       "      <th>Art|Artists|Fashion|Modeling</th>\n",
       "      <th>Art|Artists|Fashion|Music</th>\n",
       "      <th>...</th>\n",
       "      <th>Shows|Lifestyle</th>\n",
       "      <th>Shows|Modeling</th>\n",
       "      <th>Shows|Music</th>\n",
       "      <th>Sports with a ball</th>\n",
       "      <th>Sports with a ball|Family</th>\n",
       "      <th>Sports with a ball|Lifestyle</th>\n",
       "      <th>Sports with a ball|Lifestyle|Kids|Toys</th>\n",
       "      <th>Sports with a ball|Literature|Journalism</th>\n",
       "      <th>Sports with a ball|Shows</th>\n",
       "      <th>All</th>\n",
       "    </tr>\n",
       "    <tr>\n",
       "      <th>seguidores</th>\n",
       "      <th></th>\n",
       "      <th></th>\n",
       "      <th></th>\n",
       "      <th></th>\n",
       "      <th></th>\n",
       "      <th></th>\n",
       "      <th></th>\n",
       "      <th></th>\n",
       "      <th></th>\n",
       "      <th></th>\n",
       "      <th></th>\n",
       "      <th></th>\n",
       "      <th></th>\n",
       "      <th></th>\n",
       "      <th></th>\n",
       "      <th></th>\n",
       "      <th></th>\n",
       "      <th></th>\n",
       "      <th></th>\n",
       "      <th></th>\n",
       "      <th></th>\n",
       "    </tr>\n",
       "  </thead>\n",
       "  <tbody>\n",
       "    <tr>\n",
       "      <th>alto</th>\n",
       "      <td>0</td>\n",
       "      <td>0</td>\n",
       "      <td>0</td>\n",
       "      <td>0</td>\n",
       "      <td>0</td>\n",
       "      <td>0</td>\n",
       "      <td>0</td>\n",
       "      <td>0</td>\n",
       "      <td>0</td>\n",
       "      <td>0</td>\n",
       "      <td>...</td>\n",
       "      <td>0</td>\n",
       "      <td>0</td>\n",
       "      <td>0</td>\n",
       "      <td>1</td>\n",
       "      <td>0</td>\n",
       "      <td>0</td>\n",
       "      <td>0</td>\n",
       "      <td>0</td>\n",
       "      <td>0</td>\n",
       "      <td>2</td>\n",
       "    </tr>\n",
       "    <tr>\n",
       "      <th>baja</th>\n",
       "      <td>0</td>\n",
       "      <td>7</td>\n",
       "      <td>1</td>\n",
       "      <td>2</td>\n",
       "      <td>1</td>\n",
       "      <td>2</td>\n",
       "      <td>1</td>\n",
       "      <td>1</td>\n",
       "      <td>2</td>\n",
       "      <td>1</td>\n",
       "      <td>...</td>\n",
       "      <td>2</td>\n",
       "      <td>1</td>\n",
       "      <td>1</td>\n",
       "      <td>67</td>\n",
       "      <td>0</td>\n",
       "      <td>3</td>\n",
       "      <td>1</td>\n",
       "      <td>1</td>\n",
       "      <td>0</td>\n",
       "      <td>655</td>\n",
       "    </tr>\n",
       "    <tr>\n",
       "      <th>medio</th>\n",
       "      <td>1</td>\n",
       "      <td>0</td>\n",
       "      <td>0</td>\n",
       "      <td>1</td>\n",
       "      <td>0</td>\n",
       "      <td>0</td>\n",
       "      <td>0</td>\n",
       "      <td>0</td>\n",
       "      <td>0</td>\n",
       "      <td>0</td>\n",
       "      <td>...</td>\n",
       "      <td>1</td>\n",
       "      <td>1</td>\n",
       "      <td>0</td>\n",
       "      <td>35</td>\n",
       "      <td>2</td>\n",
       "      <td>1</td>\n",
       "      <td>0</td>\n",
       "      <td>0</td>\n",
       "      <td>1</td>\n",
       "      <td>252</td>\n",
       "    </tr>\n",
       "    <tr>\n",
       "      <th>All</th>\n",
       "      <td>1</td>\n",
       "      <td>7</td>\n",
       "      <td>1</td>\n",
       "      <td>3</td>\n",
       "      <td>1</td>\n",
       "      <td>2</td>\n",
       "      <td>1</td>\n",
       "      <td>1</td>\n",
       "      <td>2</td>\n",
       "      <td>1</td>\n",
       "      <td>...</td>\n",
       "      <td>3</td>\n",
       "      <td>2</td>\n",
       "      <td>1</td>\n",
       "      <td>103</td>\n",
       "      <td>2</td>\n",
       "      <td>4</td>\n",
       "      <td>1</td>\n",
       "      <td>1</td>\n",
       "      <td>1</td>\n",
       "      <td>909</td>\n",
       "    </tr>\n",
       "  </tbody>\n",
       "</table>\n",
       "<p>4 rows × 166 columns</p>\n",
       "</div>"
      ],
      "text/plain": [
       "category    Accessories|Jewellery|Clothing|Outfits|Fashion  Adult content  \\\n",
       "seguidores                                                                  \n",
       "alto                                                     0              0   \n",
       "baja                                                     0              7   \n",
       "medio                                                    1              0   \n",
       "All                                                      1              7   \n",
       "\n",
       "category    Animals  Art|Artists  Art|Artists|Beauty  \\\n",
       "seguidores                                             \n",
       "alto              0            0                   0   \n",
       "baja              1            2                   1   \n",
       "medio             0            1                   0   \n",
       "All               1            3                   1   \n",
       "\n",
       "category    Art|Artists|Cinema|Actors/actresses  \\\n",
       "seguidores                                        \n",
       "alto                                          0   \n",
       "baja                                          2   \n",
       "medio                                         0   \n",
       "All                                           2   \n",
       "\n",
       "category    Art|Artists|Cinema|Actors/actresses|Shows  \\\n",
       "seguidores                                              \n",
       "alto                                                0   \n",
       "baja                                                1   \n",
       "medio                                               0   \n",
       "All                                                 1   \n",
       "\n",
       "category    Art|Artists|Comics  sketches  Art|Artists|Fashion|Modeling  \\\n",
       "seguidores                                                               \n",
       "alto                                   0                             0   \n",
       "baja                                   1                             2   \n",
       "medio                                  0                             0   \n",
       "All                                    1                             2   \n",
       "\n",
       "category    Art|Artists|Fashion|Music  ...  Shows|Lifestyle  Shows|Modeling  \\\n",
       "seguidores                             ...                                    \n",
       "alto                                0  ...                0               0   \n",
       "baja                                1  ...                2               1   \n",
       "medio                               0  ...                1               1   \n",
       "All                                 1  ...                3               2   \n",
       "\n",
       "category    Shows|Music  Sports with a ball  Sports with a ball|Family  \\\n",
       "seguidores                                                               \n",
       "alto                  0                   1                          0   \n",
       "baja                  1                  67                          0   \n",
       "medio                 0                  35                          2   \n",
       "All                   1                 103                          2   \n",
       "\n",
       "category    Sports with a ball|Lifestyle  \\\n",
       "seguidores                                 \n",
       "alto                                   0   \n",
       "baja                                   3   \n",
       "medio                                  1   \n",
       "All                                    4   \n",
       "\n",
       "category    Sports with a ball|Lifestyle|Kids|Toys  \\\n",
       "seguidores                                           \n",
       "alto                                             0   \n",
       "baja                                             1   \n",
       "medio                                            0   \n",
       "All                                              1   \n",
       "\n",
       "category    Sports with a ball|Literature|Journalism  \\\n",
       "seguidores                                             \n",
       "alto                                               0   \n",
       "baja                                               1   \n",
       "medio                                              0   \n",
       "All                                                1   \n",
       "\n",
       "category    Sports with a ball|Shows  All  \n",
       "seguidores                                 \n",
       "alto                               0    2  \n",
       "baja                               0  655  \n",
       "medio                              1  252  \n",
       "All                                1  909  \n",
       "\n",
       "[4 rows x 166 columns]"
      ]
     },
     "execution_count": 6,
     "metadata": {},
     "output_type": "execute_result"
    }
   ],
   "source": [
    "#Creamos una tabla de contingencia entre las categorias de seguidores y los tipos de cuentas\n",
    "df_contingencia= pd.crosstab(df['seguidores'], df['category'], margins=True) \n",
    "df_contingencia"
   ]
  },
  {
   "attachments": {},
   "cell_type": "markdown",
   "metadata": {},
   "source": [
    "`Como tenemos muchas categorizaciones en la columna 'category' hemos analizado solo algunas`"
   ]
  },
  {
   "cell_type": "code",
   "execution_count": 7,
   "metadata": {},
   "outputs": [
    {
     "data": {
      "text/plain": [
       "seguidores\n",
       "alto       1\n",
       "baja      67\n",
       "medio     35\n",
       "All      103\n",
       "Name: Sports with a ball, dtype: int64"
      ]
     },
     "execution_count": 7,
     "metadata": {},
     "output_type": "execute_result"
    }
   ],
   "source": [
    "df_contingencia['Sports with a ball']"
   ]
  },
  {
   "attachments": {},
   "cell_type": "markdown",
   "metadata": {},
   "source": [
    "`Seleccionamos la categoria 'Sports with a ball' para analizar, de la misma concluimos que tenemos 1 cuenta con numero de seguidores categorizada como 'alta', 67 cuentas en 'baja' y 35 en 'media'.`"
   ]
  },
  {
   "cell_type": "code",
   "execution_count": 16,
   "metadata": {},
   "outputs": [
    {
     "data": {
      "text/plain": [
       "seguidores\n",
       "alto     0\n",
       "baja     7\n",
       "medio    0\n",
       "All      7\n",
       "Name: Adult content, dtype: int64"
      ]
     },
     "execution_count": 16,
     "metadata": {},
     "output_type": "execute_result"
    }
   ],
   "source": [
    "df_contingencia['Adult content']"
   ]
  },
  {
   "attachments": {},
   "cell_type": "markdown",
   "metadata": {},
   "source": [
    "\n",
    "`La categoria de 'Adult content' solo tiene asociadas 7 cuentas categorizadas como 'baja'.`"
   ]
  },
  {
   "cell_type": "code",
   "execution_count": 17,
   "metadata": {},
   "outputs": [
    {
     "data": {
      "text/plain": [
       "seguidores\n",
       "alto      0\n",
       "baja     11\n",
       "medio     5\n",
       "All      16\n",
       "Name: Beauty, dtype: int64"
      ]
     },
     "execution_count": 17,
     "metadata": {},
     "output_type": "execute_result"
    }
   ],
   "source": [
    "df_contingencia['Beauty']"
   ]
  },
  {
   "attachments": {},
   "cell_type": "markdown",
   "metadata": {},
   "source": [
    "`La categoria 'Beauty' tiene asociadas 5 cuentas en 'media' y 11 en 'baja'.`"
   ]
  },
  {
   "attachments": {},
   "cell_type": "markdown",
   "metadata": {},
   "source": [
    "2) Coeficiente de correlación de las variables numéricas del dataset."
   ]
  },
  {
   "cell_type": "code",
   "execution_count": 8,
   "metadata": {},
   "outputs": [
    {
     "name": "stderr",
     "output_type": "stream",
     "text": [
      "/var/folders/db/hp0l5_js4yv8br5y2tc3frpm0000gn/T/ipykernel_56284/2926037190.py:1: FutureWarning: The default value of numeric_only in DataFrame.corr is deprecated. In a future version, it will default to False. Select only valid columns or specify the value of numeric_only to silence this warning.\n",
      "  matriz_correlacion = df.corr()\n"
     ]
    },
    {
     "data": {
      "text/html": [
       "<div>\n",
       "<style scoped>\n",
       "    .dataframe tbody tr th:only-of-type {\n",
       "        vertical-align: middle;\n",
       "    }\n",
       "\n",
       "    .dataframe tbody tr th {\n",
       "        vertical-align: top;\n",
       "    }\n",
       "\n",
       "    .dataframe thead th {\n",
       "        text-align: right;\n",
       "    }\n",
       "</style>\n",
       "<table border=\"1\" class=\"dataframe\">\n",
       "  <thead>\n",
       "    <tr style=\"text-align: right;\">\n",
       "      <th></th>\n",
       "      <th>rank</th>\n",
       "      <th>followers</th>\n",
       "      <th>authentic_engagement</th>\n",
       "      <th>engagement_avg</th>\n",
       "    </tr>\n",
       "  </thead>\n",
       "  <tbody>\n",
       "    <tr>\n",
       "      <th>rank</th>\n",
       "      <td>1.000000</td>\n",
       "      <td>-0.435286</td>\n",
       "      <td>-0.463701</td>\n",
       "      <td>-0.506682</td>\n",
       "    </tr>\n",
       "    <tr>\n",
       "      <th>followers</th>\n",
       "      <td>-0.435286</td>\n",
       "      <td>1.000000</td>\n",
       "      <td>0.287067</td>\n",
       "      <td>0.336169</td>\n",
       "    </tr>\n",
       "    <tr>\n",
       "      <th>authentic_engagement</th>\n",
       "      <td>-0.463701</td>\n",
       "      <td>0.287067</td>\n",
       "      <td>1.000000</td>\n",
       "      <td>0.981982</td>\n",
       "    </tr>\n",
       "    <tr>\n",
       "      <th>engagement_avg</th>\n",
       "      <td>-0.506682</td>\n",
       "      <td>0.336169</td>\n",
       "      <td>0.981982</td>\n",
       "      <td>1.000000</td>\n",
       "    </tr>\n",
       "  </tbody>\n",
       "</table>\n",
       "</div>"
      ],
      "text/plain": [
       "                          rank  followers  authentic_engagement  \\\n",
       "rank                  1.000000  -0.435286             -0.463701   \n",
       "followers            -0.435286   1.000000              0.287067   \n",
       "authentic_engagement -0.463701   0.287067              1.000000   \n",
       "engagement_avg       -0.506682   0.336169              0.981982   \n",
       "\n",
       "                      engagement_avg  \n",
       "rank                       -0.506682  \n",
       "followers                   0.336169  \n",
       "authentic_engagement        0.981982  \n",
       "engagement_avg              1.000000  "
      ]
     },
     "execution_count": 8,
     "metadata": {},
     "output_type": "execute_result"
    }
   ],
   "source": [
    "matriz_correlacion = df.corr()\n",
    "matriz_correlacion"
   ]
  },
  {
   "cell_type": "code",
   "execution_count": 9,
   "metadata": {},
   "outputs": [
    {
     "data": {
      "image/png": "[encoded data removed]",
      "text/plain": [
       "<Figure size 1000x1000 with 2 Axes>"
      ]
     },
     "metadata": {},
     "output_type": "display_data"
    }
   ],
   "source": [
    "# Vamos a realizar el mapa de calor para ver mejor las correlaciones\n",
    "plt.figure(figsize = (10,10))\n",
    "\n",
    "\n",
    "sns.heatmap(matriz_correlacion,\n",
    "            cmap = \"RdBu\", \n",
    "            annot = True, \n",
    "            vmin = -1, \n",
    "            vmax = 1 \n",
    ");"
   ]
  },
  {
   "attachments": {},
   "cell_type": "markdown",
   "metadata": {},
   "source": [
    "3) Sesgos de alguna de las variables numéricas del dataset."
   ]
  },
  {
   "attachments": {},
   "cell_type": "markdown",
   "metadata": {},
   "source": [
    "- Seguidores"
   ]
  },
  {
   "cell_type": "code",
   "execution_count": 10,
   "metadata": {},
   "outputs": [
    {
     "name": "stdout",
     "output_type": "stream",
     "text": [
      "El valor del sesgo para la variable followers es: 5.841688024139401\n"
     ]
    }
   ],
   "source": [
    "sesgo = skew(df['followers'])\n",
    "print(f\"El valor del sesgo para la variable followers es: {sesgo}\")"
   ]
  },
  {
   "cell_type": "code",
   "execution_count": 23,
   "metadata": {},
   "outputs": [
    {
     "data": {
      "text/plain": [
       "<Figure size 1000x500 with 0 Axes>"
      ]
     },
     "metadata": {},
     "output_type": "display_data"
    },
    {
     "data": {
      "image/png": "[encoded data removed]",
      "text/plain": [
       "<Figure size 500x500 with 1 Axes>"
      ]
     },
     "metadata": {},
     "output_type": "display_data"
    }
   ],
   "source": [
    "plt.figure(figsize=(10,5))\n",
    "\n",
    "sns.displot(df[\"followers\"],kde = True, color='green');"
   ]
  },
  {
   "attachments": {},
   "cell_type": "markdown",
   "metadata": {},
   "source": [
    "- Reacciones/Interacciones"
   ]
  },
  {
   "cell_type": "code",
   "execution_count": 24,
   "metadata": {},
   "outputs": [
    {
     "name": "stdout",
     "output_type": "stream",
     "text": [
      "El valor del sesgo para la variable authentic_engagement es: 6.261574785511843\n"
     ]
    }
   ],
   "source": [
    "sesgo = skew(df['authentic_engagement'])\n",
    "print(f\"El valor del sesgo para la variable authentic_engagement es: {sesgo}\")"
   ]
  },
  {
   "cell_type": "code",
   "execution_count": 26,
   "metadata": {},
   "outputs": [
    {
     "data": {
      "text/plain": [
       "<Figure size 1000x500 with 0 Axes>"
      ]
     },
     "metadata": {},
     "output_type": "display_data"
    },
    {
     "data": {
      "image/png": "[encoded data removed]",
      "text/plain": [
       "<Figure size 500x500 with 1 Axes>"
      ]
     },
     "metadata": {},
     "output_type": "display_data"
    }
   ],
   "source": [
    "plt.figure(figsize=(10,5))\n",
    "sns.displot(df[\"authentic_engagement\"], color = \"skyblue\", kde = True);"
   ]
  },
  {
   "attachments": {},
   "cell_type": "markdown",
   "metadata": {},
   "source": [
    "4) Intervalo de confianza de algunas de las variables numéricas del dataset"
   ]
  },
  {
   "attachments": {},
   "cell_type": "markdown",
   "metadata": {},
   "source": [
    "- Seguidores"
   ]
  },
  {
   "cell_type": "code",
   "execution_count": 27,
   "metadata": {},
   "outputs": [
    {
     "name": "stdout",
     "output_type": "stream",
     "text": [
      "(22433253.549261674, 27238946.450738326)\n",
      "24836100.0\n"
     ]
    },
    {
     "name": "stderr",
     "output_type": "stream",
     "text": [
      "/var/folders/db/hp0l5_js4yv8br5y2tc3frpm0000gn/T/ipykernel_56284/766309902.py:3: DeprecationWarning: Use of keyword argument `alpha` for method `interval` is deprecated. Use first positional argument or keyword argument `confidence` instead.\n",
      "  print(st.t.interval(alpha=0.95, df=len(datos_seguidores)-1, loc=np.mean(datos_seguidores), scale=st.sem(datos_seguidores)))\n"
     ]
    }
   ],
   "source": [
    "datos_seguidores = df['followers']\n",
    "\n",
    "print(st.t.interval(alpha=0.95, df=len(datos_seguidores)-1, loc=np.mean(datos_seguidores), scale=st.sem(datos_seguidores)))\n",
    "\n",
    "\n",
    "print(np.mean(datos_seguidores))"
   ]
  },
  {
   "attachments": {},
   "cell_type": "markdown",
   "metadata": {},
   "source": [
    "- Reacciones/Interacciones"
   ]
  },
  {
   "cell_type": "code",
   "execution_count": 29,
   "metadata": {},
   "outputs": [
    {
     "name": "stdout",
     "output_type": "stream",
     "text": [
      "(580936.8938247674, 717308.7061752327)\n",
      "649122.8\n"
     ]
    },
    {
     "name": "stderr",
     "output_type": "stream",
     "text": [
      "/var/folders/db/hp0l5_js4yv8br5y2tc3frpm0000gn/T/ipykernel_43648/1290690017.py:3: DeprecationWarning: Use of keyword argument `alpha` for method `interval` is deprecated. Use first positional argument or keyword argument `confidence` instead.\n",
      "  print(st.t.interval(alpha=0.95, df=len(datos_reacciones)-1, loc=np.mean(datos_reacciones), scale=st.sem(datos_reacciones)))\n"
     ]
    }
   ],
   "source": [
    "datos_reacciones = df['authentic_engagement']\n",
    "\n",
    "print(st.t.interval(alpha=0.95, df=len(datos_reacciones)-1, loc=np.mean(datos_reacciones), scale=st.sem(datos_reacciones)))\n",
    "\n",
    "\n",
    "print(np.mean(datos_reacciones))"
   ]
  },
  {
   "attachments": {},
   "cell_type": "markdown",
   "metadata": {},
   "source": [
    "5) Interpretación de los resultados.\n",
    "Ahora interpreta los resultados obtenidos de los diferentes estadísticos estudiados haciendo hincapié en aspectos interesantes de tus datos y explica lo mejor posible la naturaleza de los mismos."
   ]
  },
  {
   "attachments": {},
   "cell_type": "markdown",
   "metadata": {},
   "source": [
    "`Hemos segmentado la columna 'followers' categorizando por cantidad de seguidores en 'bajo', 'medio' y 'alto.\n",
    "Al realizar la tabla de contingencia de dicha categorizacion con la columna 'category'(categoria de temas de los que trata esa cuenta) podemos concluir que es muy probable que las categorias que presenten alguna cuenta con numero de seguidores alto tambien incluyan cuentas con numero de seguidores medio y bajo.`\n",
    "\n",
    "`En cuanto a la correlacion de las variables numericas vemos que en la matriz y el mapa de calor las variables que hemos elegido tienen una correlacion baja positiva. Hemos elegido 'followers' y 'authentic_engagement' por que son las unicas que son independientes entre si ('authentic_engagement' y ''authentic_avg' estan altamente relacionadas por que una es el estadistico de la otra).`\n",
    "\n",
    "`Al hacer los sesgos y la representacion de frecuencias vemos que posiblemente la relacion entre numero de seguidores y cantidad de reacciones por cuenta no esta muy relacionada en nuestros datos debido a la gran dispersion de datos que tenemos, se observan gran numero de outlayers hacia la derecha.`\n",
    "\n",
    "`Deberiamos poder limpiar o ponderar de alguna manera estos outlayes para poder encontrar la correlacion real ( es mas facil que haya mas reacciones cuando una cuenta tiene mas seguidores ).`\n",
    "\n"
   ]
  }
 ],
 "metadata": {
  "kernelspec": {
   "display_name": "base",
   "language": "python",
   "name": "python3"
  },
  "language_info": {
   "codemirror_mode": {
    "name": "ipython",
    "version": 3
   },
   "file_extension": ".py",
   "mimetype": "text/x-python",
   "name": "python",
   "nbconvert_exporter": "python",
   "pygments_lexer": "ipython3",
   "version": "3.9.13"
  },
  "orig_nbformat": 4,
  "vscode": {
   "interpreter": {
    "hash": "a52af493819045717511545598ab2b73dabca4ca61b402315e0ef2b43666342d"
   }
  }
 },
 "nbformat": 4,
 "nbformat_minor": 2
}
