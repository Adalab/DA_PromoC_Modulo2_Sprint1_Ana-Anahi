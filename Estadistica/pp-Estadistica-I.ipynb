{
 "cells": [
  {
   "attachments": {},
   "cell_type": "markdown",
   "metadata": {},
   "source": [
    "## ESTADISTICA I "
   ]
  },
  {
   "cell_type": "markdown",
   "metadata": {},
   "source": [
    "En este caso vamos a darle un giro de tuerca a la forma en la que se ha resuelto los ejercicios de la Pair de hasta ahora! Para ello os vamos a pedir que por vuestra cuenta busqueis un dataset que os guste, por ejemplo de Kaggle o de donde queráis extraerlo. De esta forma vamos a estudiar los diferentes estadísiticos que contiene en dataset seleccionado Para todas los ejercicios de pair programming de Estadística I, II y III usaremos el dataframe que se tome para el desarrollo de este ejercicio de pair programming."
   ]
  },
  {
   "attachments": {},
   "cell_type": "markdown",
   "metadata": {},
   "source": [
    "1. Buscar un conjunto de datos a analizar:  \n",
    "Se recomienda que el conjunto de datos a analizar tenga variables numéricas y categóricas. Ya que también se analizarán."
   ]
  },
  {
   "cell_type": "code",
   "execution_count": 3,
   "metadata": {},
   "outputs": [],
   "source": [
    "# Importamos las librerias necesarias\n",
    "import numpy as np\n",
    "from scipy import stats\n",
    "import pandas as pd\n",
    "import matplotlib.pyplot as plt\n",
    "import seaborn as sns"
   ]
  },
  {
   "attachments": {},
   "cell_type": "markdown",
   "metadata": {},
   "source": [
    "`Hemos seleccionado un dataset que trae como informacion el ranking de las 1000 cuentas de Instagram mas importantes a nivel mundial.`\n"
   ]
  },
  {
   "cell_type": "code",
   "execution_count": 4,
   "metadata": {},
   "outputs": [
    {
     "data": {
      "text/html": [
       "<div>\n",
       "<style scoped>\n",
       "    .dataframe tbody tr th:only-of-type {\n",
       "        vertical-align: middle;\n",
       "    }\n",
       "\n",
       "    .dataframe tbody tr th {\n",
       "        vertical-align: top;\n",
       "    }\n",
       "\n",
       "    .dataframe thead th {\n",
       "        text-align: right;\n",
       "    }\n",
       "</style>\n",
       "<table border=\"1\" class=\"dataframe\">\n",
       "  <thead>\n",
       "    <tr style=\"text-align: right;\">\n",
       "      <th></th>\n",
       "      <th>rank</th>\n",
       "      <th>account</th>\n",
       "      <th>title</th>\n",
       "      <th>link</th>\n",
       "      <th>category</th>\n",
       "      <th>followers</th>\n",
       "      <th>audience_country</th>\n",
       "      <th>authentic_engagement</th>\n",
       "      <th>engagement_avg</th>\n",
       "      <th>scraped</th>\n",
       "    </tr>\n",
       "  </thead>\n",
       "  <tbody>\n",
       "    <tr>\n",
       "      <th>997</th>\n",
       "      <td>998</td>\n",
       "      <td>sahilkhan</td>\n",
       "      <td>India’s Youth &amp; Fitness IC⭕️N®</td>\n",
       "      <td>https://www.instagram.com/sahilkhan/</td>\n",
       "      <td>Fitness|Gym</td>\n",
       "      <td>10100000.0</td>\n",
       "      <td>India</td>\n",
       "      <td>176500.0</td>\n",
       "      <td>239800.0</td>\n",
       "      <td>2022-02-07 16:50:24.798803</td>\n",
       "    </tr>\n",
       "    <tr>\n",
       "      <th>998</th>\n",
       "      <td>999</td>\n",
       "      <td>mohanshakti</td>\n",
       "      <td>Shakti Mohan</td>\n",
       "      <td>https://www.instagram.com/mohanshakti/</td>\n",
       "      <td>Art|Artists|Cinema|Actors/actresses</td>\n",
       "      <td>13700000.0</td>\n",
       "      <td>India</td>\n",
       "      <td>146400.0</td>\n",
       "      <td>175500.0</td>\n",
       "      <td>2022-02-07 16:50:24.798803</td>\n",
       "    </tr>\n",
       "    <tr>\n",
       "      <th>999</th>\n",
       "      <td>1000</td>\n",
       "      <td>eduincaz</td>\n",
       "      <td>Eduin Caz</td>\n",
       "      <td>https://www.instagram.com/eduincaz/</td>\n",
       "      <td>Lifestyle</td>\n",
       "      <td>6200000.0</td>\n",
       "      <td>Mexico</td>\n",
       "      <td>305600.0</td>\n",
       "      <td>391900.0</td>\n",
       "      <td>2022-02-07 16:50:24.798803</td>\n",
       "    </tr>\n",
       "  </tbody>\n",
       "</table>\n",
       "</div>"
      ],
      "text/plain": [
       "     rank      account                           title  \\\n",
       "997   998    sahilkhan  India’s Youth & Fitness IC⭕️N®   \n",
       "998   999  mohanshakti                    Shakti Mohan   \n",
       "999  1000     eduincaz                       Eduin Caz   \n",
       "\n",
       "                                       link  \\\n",
       "997    https://www.instagram.com/sahilkhan/   \n",
       "998  https://www.instagram.com/mohanshakti/   \n",
       "999     https://www.instagram.com/eduincaz/   \n",
       "\n",
       "                                category   followers audience_country  \\\n",
       "997                          Fitness|Gym  10100000.0            India   \n",
       "998  Art|Artists|Cinema|Actors/actresses  13700000.0            India   \n",
       "999                            Lifestyle   6200000.0           Mexico   \n",
       "\n",
       "     authentic_engagement  engagement_avg                     scraped  \n",
       "997              176500.0        239800.0  2022-02-07 16:50:24.798803  \n",
       "998              146400.0        175500.0  2022-02-07 16:50:24.798803  \n",
       "999              305600.0        391900.0  2022-02-07 16:50:24.798803  "
      ]
     },
     "execution_count": 4,
     "metadata": {},
     "output_type": "execute_result"
    }
   ],
   "source": [
    "# Descargamos los datos\n",
    "df=pd.read_csv('instagram_global_top_1000.csv',index_col=0).reset_index()\n",
    "df.tail(3)# visualizamos los ultimos tres registros"
   ]
  },
  {
   "cell_type": "code",
   "execution_count": 5,
   "metadata": {},
   "outputs": [
    {
     "data": {
      "text/plain": [
       "(1000, 10)"
      ]
     },
     "execution_count": 5,
     "metadata": {},
     "output_type": "execute_result"
    }
   ],
   "source": [
    "df.shape #`El mismo esta compuesto por 1000 filas y 10 columnas.`"
   ]
  },
  {
   "cell_type": "code",
   "execution_count": 6,
   "metadata": {},
   "outputs": [
    {
     "data": {
      "text/plain": [
       "Index(['rank', 'account', 'title', 'link', 'category', 'followers',\n",
       "       'audience_country', 'authentic_engagement', 'engagement_avg',\n",
       "       'scraped'],\n",
       "      dtype='object')"
      ]
     },
     "execution_count": 6,
     "metadata": {},
     "output_type": "execute_result"
    }
   ],
   "source": [
    "df.columns # Las columnas que lo componen son:"
   ]
  },
  {
   "cell_type": "code",
   "execution_count": 7,
   "metadata": {},
   "outputs": [],
   "source": [
    "#arreglamos los nombres de las columnas para trabajar mas facilmente\n",
    "cambio_columnas = {col :  col.lower().strip().replace(' ','_') for col in df.columns}"
   ]
  },
  {
   "cell_type": "code",
   "execution_count": 8,
   "metadata": {},
   "outputs": [],
   "source": [
    "df.rename(columns=cambio_columnas, inplace=True)"
   ]
  },
  {
   "cell_type": "code",
   "execution_count": 9,
   "metadata": {},
   "outputs": [
    {
     "data": {
      "text/plain": [
       "Index(['rank', 'account', 'title', 'link', 'category', 'followers',\n",
       "       'audience_country', 'authentic_engagement', 'engagement_avg',\n",
       "       'scraped'],\n",
       "      dtype='object')"
      ]
     },
     "execution_count": 9,
     "metadata": {},
     "output_type": "execute_result"
    }
   ],
   "source": [
    "df.columns # Verificamos las modificaciones."
   ]
  },
  {
   "cell_type": "code",
   "execution_count": 10,
   "metadata": {},
   "outputs": [
    {
     "name": "stdout",
     "output_type": "stream",
     "text": [
      "<class 'pandas.core.frame.DataFrame'>\n",
      "RangeIndex: 1000 entries, 0 to 999\n",
      "Data columns (total 10 columns):\n",
      " #   Column                Non-Null Count  Dtype  \n",
      "---  ------                --------------  -----  \n",
      " 0   rank                  1000 non-null   int64  \n",
      " 1   account               1000 non-null   object \n",
      " 2   title                 983 non-null    object \n",
      " 3   link                  1000 non-null   object \n",
      " 4   category              909 non-null    object \n",
      " 5   followers             1000 non-null   float64\n",
      " 6   audience_country      993 non-null    object \n",
      " 7   authentic_engagement  1000 non-null   float64\n",
      " 8   engagement_avg        1000 non-null   float64\n",
      " 9   scraped               1000 non-null   object \n",
      "dtypes: float64(3), int64(1), object(6)\n",
      "memory usage: 78.2+ KB\n"
     ]
    }
   ],
   "source": [
    "df.info() # Analizamos la informacion que compone cada columna."
   ]
  },
  {
   "cell_type": "code",
   "execution_count": 11,
   "metadata": {},
   "outputs": [
    {
     "data": {
      "text/plain": [
       "rank                     0\n",
       "account                  0\n",
       "title                   17\n",
       "link                     0\n",
       "category                91\n",
       "followers                0\n",
       "audience_country         7\n",
       "authentic_engagement     0\n",
       "engagement_avg           0\n",
       "scraped                  0\n",
       "dtype: int64"
      ]
     },
     "execution_count": 11,
     "metadata": {},
     "output_type": "execute_result"
    }
   ],
   "source": [
    "df.isnull().sum() #verificamos los nulos"
   ]
  },
  {
   "cell_type": "code",
   "execution_count": 12,
   "metadata": {},
   "outputs": [
    {
     "data": {
      "text/plain": [
       "0"
      ]
     },
     "execution_count": 12,
     "metadata": {},
     "output_type": "execute_result"
    }
   ],
   "source": [
    "df.duplicated().sum() # verificamos que no hay ninguna fila duplicada."
   ]
  },
  {
   "cell_type": "code",
   "execution_count": 13,
   "metadata": {},
   "outputs": [
    {
     "data": {
      "text/html": [
       "<div>\n",
       "<style scoped>\n",
       "    .dataframe tbody tr th:only-of-type {\n",
       "        vertical-align: middle;\n",
       "    }\n",
       "\n",
       "    .dataframe tbody tr th {\n",
       "        vertical-align: top;\n",
       "    }\n",
       "\n",
       "    .dataframe thead th {\n",
       "        text-align: right;\n",
       "    }\n",
       "</style>\n",
       "<table border=\"1\" class=\"dataframe\">\n",
       "  <thead>\n",
       "    <tr style=\"text-align: right;\">\n",
       "      <th></th>\n",
       "      <th>rank</th>\n",
       "      <th>followers</th>\n",
       "      <th>authentic_engagement</th>\n",
       "      <th>engagement_avg</th>\n",
       "    </tr>\n",
       "  </thead>\n",
       "  <tbody>\n",
       "    <tr>\n",
       "      <th>count</th>\n",
       "      <td>1000.000000</td>\n",
       "      <td>1.000000e+03</td>\n",
       "      <td>1.000000e+03</td>\n",
       "      <td>1.000000e+03</td>\n",
       "    </tr>\n",
       "    <tr>\n",
       "      <th>mean</th>\n",
       "      <td>500.500000</td>\n",
       "      <td>2.483610e+07</td>\n",
       "      <td>6.491228e+05</td>\n",
       "      <td>8.653886e+05</td>\n",
       "    </tr>\n",
       "    <tr>\n",
       "      <th>std</th>\n",
       "      <td>288.819436</td>\n",
       "      <td>3.872143e+07</td>\n",
       "      <td>1.098804e+06</td>\n",
       "      <td>1.267515e+06</td>\n",
       "    </tr>\n",
       "    <tr>\n",
       "      <th>min</th>\n",
       "      <td>1.000000</td>\n",
       "      <td>2.800000e+06</td>\n",
       "      <td>0.000000e+00</td>\n",
       "      <td>5.200000e+04</td>\n",
       "    </tr>\n",
       "    <tr>\n",
       "      <th>25%</th>\n",
       "      <td>250.750000</td>\n",
       "      <td>9.000000e+06</td>\n",
       "      <td>2.091000e+05</td>\n",
       "      <td>3.086000e+05</td>\n",
       "    </tr>\n",
       "    <tr>\n",
       "      <th>50%</th>\n",
       "      <td>500.500000</td>\n",
       "      <td>1.440000e+07</td>\n",
       "      <td>3.637000e+05</td>\n",
       "      <td>5.239000e+05</td>\n",
       "    </tr>\n",
       "    <tr>\n",
       "      <th>75%</th>\n",
       "      <td>750.250000</td>\n",
       "      <td>2.565000e+07</td>\n",
       "      <td>6.832500e+05</td>\n",
       "      <td>9.508000e+05</td>\n",
       "    </tr>\n",
       "    <tr>\n",
       "      <th>max</th>\n",
       "      <td>1000.000000</td>\n",
       "      <td>4.696000e+08</td>\n",
       "      <td>1.340000e+07</td>\n",
       "      <td>1.340000e+07</td>\n",
       "    </tr>\n",
       "  </tbody>\n",
       "</table>\n",
       "</div>"
      ],
      "text/plain": [
       "              rank     followers  authentic_engagement  engagement_avg\n",
       "count  1000.000000  1.000000e+03          1.000000e+03    1.000000e+03\n",
       "mean    500.500000  2.483610e+07          6.491228e+05    8.653886e+05\n",
       "std     288.819436  3.872143e+07          1.098804e+06    1.267515e+06\n",
       "min       1.000000  2.800000e+06          0.000000e+00    5.200000e+04\n",
       "25%     250.750000  9.000000e+06          2.091000e+05    3.086000e+05\n",
       "50%     500.500000  1.440000e+07          3.637000e+05    5.239000e+05\n",
       "75%     750.250000  2.565000e+07          6.832500e+05    9.508000e+05\n",
       "max    1000.000000  4.696000e+08          1.340000e+07    1.340000e+07"
      ]
     },
     "execution_count": 13,
     "metadata": {},
     "output_type": "execute_result"
    }
   ],
   "source": [
    "df.describe() # vemos los prncipales estadisticos de las variables numericas."
   ]
  },
  {
   "cell_type": "code",
   "execution_count": 14,
   "metadata": {},
   "outputs": [
    {
     "data": {
      "text/html": [
       "<div>\n",
       "<style scoped>\n",
       "    .dataframe tbody tr th:only-of-type {\n",
       "        vertical-align: middle;\n",
       "    }\n",
       "\n",
       "    .dataframe tbody tr th {\n",
       "        vertical-align: top;\n",
       "    }\n",
       "\n",
       "    .dataframe thead th {\n",
       "        text-align: right;\n",
       "    }\n",
       "</style>\n",
       "<table border=\"1\" class=\"dataframe\">\n",
       "  <thead>\n",
       "    <tr style=\"text-align: right;\">\n",
       "      <th></th>\n",
       "      <th>account</th>\n",
       "      <th>title</th>\n",
       "      <th>link</th>\n",
       "      <th>category</th>\n",
       "      <th>audience_country</th>\n",
       "      <th>scraped</th>\n",
       "    </tr>\n",
       "  </thead>\n",
       "  <tbody>\n",
       "    <tr>\n",
       "      <th>count</th>\n",
       "      <td>1000</td>\n",
       "      <td>983</td>\n",
       "      <td>1000</td>\n",
       "      <td>909</td>\n",
       "      <td>993</td>\n",
       "      <td>1000</td>\n",
       "    </tr>\n",
       "    <tr>\n",
       "      <th>unique</th>\n",
       "      <td>1000</td>\n",
       "      <td>982</td>\n",
       "      <td>1000</td>\n",
       "      <td>165</td>\n",
       "      <td>31</td>\n",
       "      <td>1</td>\n",
       "    </tr>\n",
       "    <tr>\n",
       "      <th>top</th>\n",
       "      <td>cristiano</td>\n",
       "      <td>НАСТЯ ИВЛЕЕВА</td>\n",
       "      <td>https://www.instagram.com/cristiano/</td>\n",
       "      <td>Music</td>\n",
       "      <td>United States</td>\n",
       "      <td>2022-02-07 16:50:24.798803</td>\n",
       "    </tr>\n",
       "    <tr>\n",
       "      <th>freq</th>\n",
       "      <td>1</td>\n",
       "      <td>2</td>\n",
       "      <td>1</td>\n",
       "      <td>170</td>\n",
       "      <td>283</td>\n",
       "      <td>1000</td>\n",
       "    </tr>\n",
       "  </tbody>\n",
       "</table>\n",
       "</div>"
      ],
      "text/plain": [
       "          account          title                                  link  \\\n",
       "count        1000            983                                  1000   \n",
       "unique       1000            982                                  1000   \n",
       "top     cristiano  НАСТЯ ИВЛЕЕВА  https://www.instagram.com/cristiano/   \n",
       "freq            1              2                                     1   \n",
       "\n",
       "       category audience_country                     scraped  \n",
       "count       909              993                        1000  \n",
       "unique      165               31                           1  \n",
       "top       Music    United States  2022-02-07 16:50:24.798803  \n",
       "freq        170              283                        1000  "
      ]
     },
     "execution_count": 14,
     "metadata": {},
     "output_type": "execute_result"
    }
   ],
   "source": [
    "df.describe(include='object') # vemos los estadisticos de las variables categoricas."
   ]
  },
  {
   "cell_type": "code",
   "execution_count": 15,
   "metadata": {},
   "outputs": [
    {
     "data": {
      "text/plain": [
       "array(['Sports with a ball', 'Fashion|Modeling|Beauty',\n",
       "       'Sports with a ball|Family', 'Modeling|Fashion', 'Music|Lifestyle',\n",
       "       'Cinema|Actors/actresses|Fashion', 'Fashion|Beauty',\n",
       "       'Music|Fashion', 'Music', 'Cinema|Actors/actresses', nan,\n",
       "       'Clothing|Outfits|Lifestyle', 'Music|Beauty',\n",
       "       'Cinema|Actors/actresses|Fitness|Gym', 'Photography', 'Lifestyle',\n",
       "       'Beauty', 'Music|Cinema|Actors/actresses', 'Modeling|Lifestyle',\n",
       "       'Finance|Economics|Business|Careers', 'Lifestyle|Shows',\n",
       "       'Lifestyle|Fashion|Clothing|Outfits', 'Art|Artists',\n",
       "       'Beauty|Art|Artists|Cinema|Actors/actresses',\n",
       "       'Cinema|Actors/actresses|Modeling', 'Humor|Fun|Happiness',\n",
       "       'Lifestyle|Modeling', 'Cinema|Actors/actresses|Modeling|Lifestyle',\n",
       "       'Family|Sports with a ball', 'Fitness|Gym|Lifestyle',\n",
       "       'Science|Photography', 'Modeling',\n",
       "       'Cinema|Actors/actresses|Art|Artists', 'Music|Modeling',\n",
       "       'Literature|Journalism|Cinema|Actors/actresses|Fashion',\n",
       "       'Fitness|Gym|Shopping|Retail|Clothing|Outfits', 'Shows|Lifestyle',\n",
       "       'Modeling|Family', 'Cinema|Actors/actresses|Music|Shows',\n",
       "       'Humor|Fun|Happiness|Clothing|Outfits', 'Computers|Gadgets',\n",
       "       'Shows|Humor|Fun|Happiness', 'Sports with a ball|Lifestyle',\n",
       "       'Cinema|Actors/actresses|Music', 'Racing|Sports',\n",
       "       'Music|Clothing|Outfits', 'Fitness|Gym',\n",
       "       'Cinema|Actors/actresses|Lifestyle', 'Food|Cooking',\n",
       "       'Nature  landscapes|Science|Photography',\n",
       "       'Management|Marketing|Music', 'Clothing|Outfits|Music',\n",
       "       'Modeling|Lifestyle|Beauty',\n",
       "       'Humor|Fun|Happiness|Cinema|Actors/actresses',\n",
       "       'Beauty|Modeling|Cinema|Actors/actresses',\n",
       "       'Computers|Gadgets|Machinery|Technologies', 'Business|Careers',\n",
       "       'Photography|Fashion', 'Family|Music',\n",
       "       'Music|Art|Artists|Cinema|Actors/actresses',\n",
       "       'Music|Cinema|Actors/actresses|Modeling', 'Family|Lifestyle',\n",
       "       'Shows', 'Beauty|Cinema|Actors/actresses',\n",
       "       'Cinema|Actors/actresses|Family', 'Music|Art|Artists',\n",
       "       'Lifestyle|Cinema|Actors/actresses', 'Art|Artists|Beauty',\n",
       "       'Shows|Beauty|Family', 'Shows|Adult content',\n",
       "       'Shows|Cinema|Actors/actresses',\n",
       "       'Cinema|Actors/actresses|Comics  sketches',\n",
       "       'Finance|Economics|Business|Careers|Family',\n",
       "       'Lifestyle|Art|Artists', 'Cinema|Actors/actresses|Shows',\n",
       "       'Lifestyle|Music', 'Lifestyle|Cinema|Actors/actresses|Music',\n",
       "       'Modeling|Cinema|Actors/actresses',\n",
       "       'Cinema|Actors/actresses|Comics  sketches|Shows',\n",
       "       'Beauty|Lifestyle', 'Lifestyle|Beauty',\n",
       "       'Modeling|Lifestyle|Fashion', 'Luxury|Cars|Motorbikes',\n",
       "       'Beauty|Cinema|Actors/actresses|Fashion',\n",
       "       'Modeling|Fashion|Lifestyle', 'Music|Kids|Toys',\n",
       "       'Beauty|Family|Lifestyle', 'Music|Family', 'Fashion|Modeling',\n",
       "       'Photography|Humor|Fun|Happiness',\n",
       "       'Sports with a ball|Lifestyle|Kids|Toys',\n",
       "       'Cinema|Actors/actresses|Humor|Fun|Happiness', 'Adult content',\n",
       "       'Cinema|Actors/actresses|Modeling|Clothing|Outfits',\n",
       "       'Lifestyle|Sports with a ball', 'Finance|Economics',\n",
       "       'Fashion|Cinema|Actors/actresses', 'Music|Shows', 'Fashion',\n",
       "       'Shows|Modeling', 'Music|Fitness|Gym|Lifestyle',\n",
       "       'Cinema|Actors/actresses|Lifestyle|Fashion',\n",
       "       'Music|Cinema|Actors/actresses|Fashion', 'Family',\n",
       "       'Music|Modeling|Art|Artists', 'Family|Lifestyle|Shows',\n",
       "       'Shows|Beauty|Lifestyle', 'Computers|Gadgets|Photography',\n",
       "       'Machinery|Technologies|Computers|Gadgets',\n",
       "       'Sports with a ball|Shows', 'Beauty|Modeling|Adult content',\n",
       "       'Photography|Travel', 'Shows|Cinema|Actors/actresses|Lifestyle',\n",
       "       'Art|Artists|Comics  sketches', 'Lifestyle|Modeling|Fashion',\n",
       "       'Art|Artists|Shows', 'Fashion|Lifestyle|Beauty', 'Animals',\n",
       "       'Music|Beauty|Fashion', 'Art|Artists|Cinema|Actors/actresses',\n",
       "       'Fashion|Clothing|Outfits|Accessories|Jewellery',\n",
       "       'Humor|Fun|Happiness|Lifestyle', 'Art|Artists|Fashion|Modeling',\n",
       "       'Cars|Motorbikes', 'Lifestyle|Shows|Computers|Gadgets',\n",
       "       'Lifestyle|Modeling|Cinema|Actors/actresses',\n",
       "       'Nature  landscapes|Photography', 'Literature|Journalism|Shows',\n",
       "       'Music|Cinema|Actors/actresses|Lifestyle', 'Shows|Family',\n",
       "       'Literature|Journalism|Trainers|Coaches',\n",
       "       'Cinema|Actors/actresses|Humor|Fun|Happiness|Modeling',\n",
       "       'Family|Fashion|Modeling', 'Lifestyle|Business|Careers',\n",
       "       'Beauty|Cinema|Actors/actresses|Modeling',\n",
       "       'Cars|Motorbikes|Luxury',\n",
       "       'Art|Artists|Cinema|Actors/actresses|Shows',\n",
       "       'Music|Shows|Cinema|Actors/actresses',\n",
       "       'Science|Machinery|Technologies', 'Modeling|Beauty|Lifestyle',\n",
       "       'Business|Careers|Finance|Economics', 'Lifestyle|Fashion',\n",
       "       'Shows|Music', 'Kids|Toys|Family', 'Family|D|I|Y|Design',\n",
       "       'Extreme|Sports|Outdoor activity|Racing|Sports',\n",
       "       'Literature|Journalism|Fashion',\n",
       "       'Nature  landscapes|Photography|Travel',\n",
       "       'Sports with a ball|Literature|Journalism',\n",
       "       'Literature|Journalism', 'Cars|Motorbikes|Luxury|Racing|Sports',\n",
       "       'Clothing|Outfits|Shopping|Retail', 'Shows|Fitness|Gym',\n",
       "       'Art|Artists|Fashion|Music',\n",
       "       'Shows|Cinema|Actors/actresses|Modeling',\n",
       "       'Lifestyle|Clothing|Outfits', 'Clothing|Outfits',\n",
       "       'Family|Finance|Economics', 'Extreme|Sports|Outdoor activity',\n",
       "       'Cinema|Actors/actresses|Photography',\n",
       "       'Accessories|Jewellery|Clothing|Outfits|Fashion',\n",
       "       'Photography|Lifestyle', 'Modeling|Music',\n",
       "       'Beauty|Art|Artists|Modeling',\n",
       "       'Humor|Fun|Happiness|Shows|Art|Artists',\n",
       "       'Lifestyle|Music|Modeling'], dtype=object)"
      ]
     },
     "execution_count": 15,
     "metadata": {},
     "output_type": "execute_result"
    }
   ],
   "source": [
    "df['category'].unique()# vemos que valores unicos tenemos en la columna 'category'"
   ]
  },
  {
   "cell_type": "code",
   "execution_count": 16,
   "metadata": {},
   "outputs": [
    {
     "data": {
      "text/plain": [
       "United States           283\n",
       "Brazil                  161\n",
       "India                   143\n",
       "Indonesia               130\n",
       "Mexico                   50\n",
       "Spain                    34\n",
       "Russia                   30\n",
       "Argentina                24\n",
       "Iran                     17\n",
       "United Kingdom           17\n",
       "Turkey                   16\n",
       "Italy                    15\n",
       "South Korea              13\n",
       "Colombia                  9\n",
       "Philippines               7\n",
       "France                    6\n",
       "Egypt                     6\n",
       "Germany                   5\n",
       "Nigeria                   4\n",
       "Thailand                  4\n",
       "Iraq                      4\n",
       "Morocco                   3\n",
       "Japan                     2\n",
       "Saudi Arabia              2\n",
       "Kazakhstan                2\n",
       "Syria                     1\n",
       "China                     1\n",
       "Algeria                   1\n",
       "United Arab Emirates      1\n",
       "Poland                    1\n",
       "Chile                     1\n",
       "Name: audience_country, dtype: int64"
      ]
     },
     "execution_count": 16,
     "metadata": {},
     "output_type": "execute_result"
    }
   ],
   "source": [
    "df['audience_country'].value_counts() #Realizamnos el conteo por paises."
   ]
  },
  {
   "attachments": {},
   "cell_type": "markdown",
   "metadata": {},
   "source": [
    "2. Extraer los siguentes estadísiticos del conjunto de datos para varias de las variables disponibles:"
   ]
  },
  {
   "attachments": {},
   "cell_type": "markdown",
   "metadata": {},
   "source": [
    "`Vamos a realizar el analisis de la columna \"followers\"(seguidores) y \"authentic_engagement\" (reacciones/interacciones) que son de tipo numericas.`"
   ]
  },
  {
   "attachments": {},
   "cell_type": "markdown",
   "metadata": {},
   "source": [
    "### Media\n"
   ]
  },
  {
   "cell_type": "code",
   "execution_count": 43,
   "metadata": {},
   "outputs": [
    {
     "name": "stdout",
     "output_type": "stream",
     "text": [
      "La media de seguidores es  de 24836100.0 seguidores\n"
     ]
    }
   ],
   "source": [
    "media_seguidores=df['followers'].mean()\n",
    "print(f'La media de seguidores es  de {media_seguidores} seguidores')"
   ]
  },
  {
   "cell_type": "code",
   "execution_count": 45,
   "metadata": {},
   "outputs": [
    {
     "name": "stdout",
     "output_type": "stream",
     "text": [
      "La media de reacciones es  de 24836100.0 interacciones\n"
     ]
    }
   ],
   "source": [
    "media_reacciones=df['authentic_engagement'].mean()\n",
    "print(f'La media de reacciones es  de {media_seguidores} interacciones')\n"
   ]
  },
  {
   "cell_type": "code",
   "execution_count": 19,
   "metadata": {},
   "outputs": [
    {
     "data": {
      "text/html": [
       "<div>\n",
       "<style scoped>\n",
       "    .dataframe tbody tr th:only-of-type {\n",
       "        vertical-align: middle;\n",
       "    }\n",
       "\n",
       "    .dataframe tbody tr th {\n",
       "        vertical-align: top;\n",
       "    }\n",
       "\n",
       "    .dataframe thead th {\n",
       "        text-align: right;\n",
       "    }\n",
       "</style>\n",
       "<table border=\"1\" class=\"dataframe\">\n",
       "  <thead>\n",
       "    <tr style=\"text-align: right;\">\n",
       "      <th></th>\n",
       "      <th>rank</th>\n",
       "      <th>account</th>\n",
       "      <th>title</th>\n",
       "      <th>link</th>\n",
       "      <th>category</th>\n",
       "      <th>followers</th>\n",
       "      <th>audience_country</th>\n",
       "      <th>authentic_engagement</th>\n",
       "      <th>engagement_avg</th>\n",
       "      <th>scraped</th>\n",
       "    </tr>\n",
       "  </thead>\n",
       "  <tbody>\n",
       "    <tr>\n",
       "      <th>937</th>\n",
       "      <td>938</td>\n",
       "      <td>dukeandduchessofcambridge</td>\n",
       "      <td>Duke and Duchess of Cambridge</td>\n",
       "      <td>https://www.instagram.com/dukeandduchessofcamb...</td>\n",
       "      <td>Family|Finance|Economics</td>\n",
       "      <td>13500000.0</td>\n",
       "      <td>NaN</td>\n",
       "      <td>0.0</td>\n",
       "      <td>191800.0</td>\n",
       "      <td>2022-02-07 16:50:24.798803</td>\n",
       "    </tr>\n",
       "    <tr>\n",
       "      <th>475</th>\n",
       "      <td>476</td>\n",
       "      <td>aboflah</td>\n",
       "      <td>AboFlah</td>\n",
       "      <td>https://www.instagram.com/aboflah/</td>\n",
       "      <td>Humor|Fun|Happiness</td>\n",
       "      <td>7200000.0</td>\n",
       "      <td>NaN</td>\n",
       "      <td>0.0</td>\n",
       "      <td>946800.0</td>\n",
       "      <td>2022-02-07 16:50:24.798803</td>\n",
       "    </tr>\n",
       "    <tr>\n",
       "      <th>727</th>\n",
       "      <td>728</td>\n",
       "      <td>joshu_acoustic</td>\n",
       "      <td>Joshua Hong</td>\n",
       "      <td>https://www.instagram.com/joshu_acoustic/</td>\n",
       "      <td>Music</td>\n",
       "      <td>3800000.0</td>\n",
       "      <td>NaN</td>\n",
       "      <td>0.0</td>\n",
       "      <td>969200.0</td>\n",
       "      <td>2022-02-07 16:50:24.798803</td>\n",
       "    </tr>\n",
       "    <tr>\n",
       "      <th>770</th>\n",
       "      <td>771</td>\n",
       "      <td>lomon991111</td>\n",
       "      <td>Lomon 991111</td>\n",
       "      <td>https://www.instagram.com/lomon991111/</td>\n",
       "      <td>NaN</td>\n",
       "      <td>3500000.0</td>\n",
       "      <td>NaN</td>\n",
       "      <td>0.0</td>\n",
       "      <td>987300.0</td>\n",
       "      <td>2022-02-07 16:50:24.798803</td>\n",
       "    </tr>\n",
       "    <tr>\n",
       "      <th>691</th>\n",
       "      <td>692</td>\n",
       "      <td>snoopdogg</td>\n",
       "      <td>snoopdogg</td>\n",
       "      <td>https://www.instagram.com/snoopdogg/</td>\n",
       "      <td>Lifestyle|Music</td>\n",
       "      <td>67700000.0</td>\n",
       "      <td>United States</td>\n",
       "      <td>38300.0</td>\n",
       "      <td>57600.0</td>\n",
       "      <td>2022-02-07 16:50:24.798803</td>\n",
       "    </tr>\n",
       "    <tr>\n",
       "      <th>...</th>\n",
       "      <td>...</td>\n",
       "      <td>...</td>\n",
       "      <td>...</td>\n",
       "      <td>...</td>\n",
       "      <td>...</td>\n",
       "      <td>...</td>\n",
       "      <td>...</td>\n",
       "      <td>...</td>\n",
       "      <td>...</td>\n",
       "      <td>...</td>\n",
       "    </tr>\n",
       "    <tr>\n",
       "      <th>31</th>\n",
       "      <td>32</td>\n",
       "      <td>rkive</td>\n",
       "      <td>RM</td>\n",
       "      <td>https://www.instagram.com/rkive/</td>\n",
       "      <td>NaN</td>\n",
       "      <td>28000000.0</td>\n",
       "      <td>NaN</td>\n",
       "      <td>8900000.0</td>\n",
       "      <td>8900000.0</td>\n",
       "      <td>2022-02-07 16:50:24.798803</td>\n",
       "    </tr>\n",
       "    <tr>\n",
       "      <th>20</th>\n",
       "      <td>21</td>\n",
       "      <td>thv</td>\n",
       "      <td>V</td>\n",
       "      <td>https://www.instagram.com/thv/</td>\n",
       "      <td>NaN</td>\n",
       "      <td>34100000.0</td>\n",
       "      <td>NaN</td>\n",
       "      <td>10400000.0</td>\n",
       "      <td>10400000.0</td>\n",
       "      <td>2022-02-07 16:50:24.798803</td>\n",
       "    </tr>\n",
       "    <tr>\n",
       "      <th>26</th>\n",
       "      <td>27</td>\n",
       "      <td>agustd</td>\n",
       "      <td>SUGA of BTS 민윤기</td>\n",
       "      <td>https://www.instagram.com/agustd/</td>\n",
       "      <td>NaN</td>\n",
       "      <td>27900000.0</td>\n",
       "      <td>NaN</td>\n",
       "      <td>10600000.0</td>\n",
       "      <td>10600000.0</td>\n",
       "      <td>2022-02-07 16:50:24.798803</td>\n",
       "    </tr>\n",
       "    <tr>\n",
       "      <th>25</th>\n",
       "      <td>26</td>\n",
       "      <td>jin</td>\n",
       "      <td>Jin of BTS</td>\n",
       "      <td>https://www.instagram.com/jin/</td>\n",
       "      <td>NaN</td>\n",
       "      <td>28400000.0</td>\n",
       "      <td>United States</td>\n",
       "      <td>11100000.0</td>\n",
       "      <td>11100000.0</td>\n",
       "      <td>2022-02-07 16:50:24.798803</td>\n",
       "    </tr>\n",
       "    <tr>\n",
       "      <th>15</th>\n",
       "      <td>16</td>\n",
       "      <td>abcdefghi__lmnopqrstuvwxyz</td>\n",
       "      <td>Jungkook</td>\n",
       "      <td>https://www.instagram.com/abcdefghi__lmnopqrst...</td>\n",
       "      <td>NaN</td>\n",
       "      <td>32100000.0</td>\n",
       "      <td>United States</td>\n",
       "      <td>13400000.0</td>\n",
       "      <td>13400000.0</td>\n",
       "      <td>2022-02-07 16:50:24.798803</td>\n",
       "    </tr>\n",
       "  </tbody>\n",
       "</table>\n",
       "<p>1000 rows × 10 columns</p>\n",
       "</div>"
      ],
      "text/plain": [
       "     rank                     account                          title  \\\n",
       "937   938   dukeandduchessofcambridge  Duke and Duchess of Cambridge   \n",
       "475   476                     aboflah                        AboFlah   \n",
       "727   728              joshu_acoustic                    Joshua Hong   \n",
       "770   771                 lomon991111                   Lomon 991111   \n",
       "691   692                   snoopdogg                      snoopdogg   \n",
       "..    ...                         ...                            ...   \n",
       "31     32                       rkive                             RM   \n",
       "20     21                         thv                              V   \n",
       "26     27                      agustd                SUGA of BTS 민윤기   \n",
       "25     26                         jin                     Jin of BTS   \n",
       "15     16  abcdefghi__lmnopqrstuvwxyz                       Jungkook   \n",
       "\n",
       "                                                  link  \\\n",
       "937  https://www.instagram.com/dukeandduchessofcamb...   \n",
       "475                 https://www.instagram.com/aboflah/   \n",
       "727          https://www.instagram.com/joshu_acoustic/   \n",
       "770             https://www.instagram.com/lomon991111/   \n",
       "691               https://www.instagram.com/snoopdogg/   \n",
       "..                                                 ...   \n",
       "31                    https://www.instagram.com/rkive/   \n",
       "20                      https://www.instagram.com/thv/   \n",
       "26                   https://www.instagram.com/agustd/   \n",
       "25                      https://www.instagram.com/jin/   \n",
       "15   https://www.instagram.com/abcdefghi__lmnopqrst...   \n",
       "\n",
       "                     category   followers audience_country  \\\n",
       "937  Family|Finance|Economics  13500000.0              NaN   \n",
       "475       Humor|Fun|Happiness   7200000.0              NaN   \n",
       "727                     Music   3800000.0              NaN   \n",
       "770                       NaN   3500000.0              NaN   \n",
       "691           Lifestyle|Music  67700000.0    United States   \n",
       "..                        ...         ...              ...   \n",
       "31                        NaN  28000000.0              NaN   \n",
       "20                        NaN  34100000.0              NaN   \n",
       "26                        NaN  27900000.0              NaN   \n",
       "25                        NaN  28400000.0    United States   \n",
       "15                        NaN  32100000.0    United States   \n",
       "\n",
       "     authentic_engagement  engagement_avg                     scraped  \n",
       "937                   0.0        191800.0  2022-02-07 16:50:24.798803  \n",
       "475                   0.0        946800.0  2022-02-07 16:50:24.798803  \n",
       "727                   0.0        969200.0  2022-02-07 16:50:24.798803  \n",
       "770                   0.0        987300.0  2022-02-07 16:50:24.798803  \n",
       "691               38300.0         57600.0  2022-02-07 16:50:24.798803  \n",
       "..                    ...             ...                         ...  \n",
       "31              8900000.0       8900000.0  2022-02-07 16:50:24.798803  \n",
       "20             10400000.0      10400000.0  2022-02-07 16:50:24.798803  \n",
       "26             10600000.0      10600000.0  2022-02-07 16:50:24.798803  \n",
       "25             11100000.0      11100000.0  2022-02-07 16:50:24.798803  \n",
       "15             13400000.0      13400000.0  2022-02-07 16:50:24.798803  \n",
       "\n",
       "[1000 rows x 10 columns]"
      ]
     },
     "execution_count": 19,
     "metadata": {},
     "output_type": "execute_result"
    }
   ],
   "source": [
    "df.sort_values( by='authentic_engagement',axis=0)"
   ]
  },
  {
   "attachments": {},
   "cell_type": "markdown",
   "metadata": {},
   "source": [
    "### Maximo"
   ]
  },
  {
   "cell_type": "code",
   "execution_count": 46,
   "metadata": {},
   "outputs": [
    {
     "name": "stdout",
     "output_type": "stream",
     "text": [
      "La cuenta con mayor cantidad de followers tiene 469600000.0 seguidores\n"
     ]
    }
   ],
   "source": [
    "max_seguidores =df['followers'].max()\n",
    "print(f'La cuenta con mayor cantidad de followers tiene {max_seguidores} seguidores')\n"
   ]
  },
  {
   "cell_type": "code",
   "execution_count": 49,
   "metadata": {},
   "outputs": [
    {
     "name": "stdout",
     "output_type": "stream",
     "text": [
      "La mayor cantidad de reacciones fue de 13400000.0 interacciones\n"
     ]
    }
   ],
   "source": [
    "max_reacciones =df['authentic_engagement'].max()\n",
    "print(f'La mayor cantidad de reacciones fue de {max_reacciones} interacciones')"
   ]
  },
  {
   "attachments": {},
   "cell_type": "markdown",
   "metadata": {},
   "source": [
    "### Minimo"
   ]
  },
  {
   "cell_type": "code",
   "execution_count": 50,
   "metadata": {},
   "outputs": [
    {
     "name": "stdout",
     "output_type": "stream",
     "text": [
      "La cuenta con menor cantidad de followers tiene 2800000.0 seguidores\n"
     ]
    }
   ],
   "source": [
    "min_seguidores =df['followers'].min()\n",
    "print(f'La cuenta con menor cantidad de followers tiene {min_seguidores} seguidores')"
   ]
  },
  {
   "cell_type": "code",
   "execution_count": 51,
   "metadata": {},
   "outputs": [
    {
     "name": "stdout",
     "output_type": "stream",
     "text": [
      "La menor cantidad de reacciones fue de 0.0 interacciones\n"
     ]
    }
   ],
   "source": [
    "min_reacciones =df['authentic_engagement'].min()\n",
    "print(f'La menor cantidad de reacciones fue de {min_reacciones} interacciones')"
   ]
  },
  {
   "attachments": {},
   "cell_type": "markdown",
   "metadata": {},
   "source": [
    "### Desviación con respecto de la media"
   ]
  },
  {
   "cell_type": "code",
   "execution_count": 24,
   "metadata": {},
   "outputs": [
    {
     "data": {
      "text/plain": [
       "0      375263900.0\n",
       "1      283963900.0\n",
       "2      281463900.0\n",
       "3      192963900.0\n",
       "4      270963900.0\n",
       "          ...     \n",
       "995    -17136100.0\n",
       "996    -13336100.0\n",
       "997    -14736100.0\n",
       "998    -11136100.0\n",
       "999    -18636100.0\n",
       "Name: followers, Length: 1000, dtype: float64"
      ]
     },
     "execution_count": 24,
     "metadata": {},
     "output_type": "execute_result"
    }
   ],
   "source": [
    "media=df['followers'].mean()\n",
    "diferencias=df['followers']-media\n",
    "#desviacion_media=np.abs(diferencias)\n",
    "#desviacion_media\n",
    "diferencias\n",
    "#desviacion del numero de seguidores por cuenta respecto del valor medio de seguidores, hemos retirado el np.abs, \n",
    "# para confirmar las sospechas de distribucion de seguidores"
   ]
  },
  {
   "cell_type": "code",
   "execution_count": 25,
   "metadata": {},
   "outputs": [
    {
     "data": {
      "text/plain": [
       "0      17036100.0\n",
       "1      18636100.0\n",
       "2      20036100.0\n",
       "3      21436100.0\n",
       "4      22136100.0\n",
       "          ...    \n",
       "995    24589500.0\n",
       "996    24689600.0\n",
       "997    24659600.0\n",
       "998    24689700.0\n",
       "999    24530500.0\n",
       "Name: authentic_engagement, Length: 1000, dtype: float64"
      ]
     },
     "execution_count": 25,
     "metadata": {},
     "output_type": "execute_result"
    }
   ],
   "source": [
    "media2=df['authentic_engagement'].mean()\n",
    "diferencias2=df['authentic_engagement']-media\n",
    "desviacion_media2=np.abs(diferencias2)\n",
    "desviacion_media2\n",
    "\n"
   ]
  },
  {
   "attachments": {},
   "cell_type": "markdown",
   "metadata": {},
   "source": [
    "### Varianza"
   ]
  },
  {
   "cell_type": "code",
   "execution_count": 26,
   "metadata": {},
   "outputs": [
    {
     "name": "stdout",
     "output_type": "stream",
     "text": [
      "La varianza de seguidores es de 1499349496286270.5.\n"
     ]
    }
   ],
   "source": [
    "var_seguidores =df['followers'].var()\n",
    "print(f'La varianza de seguidores es de {var_seguidores}.')"
   ]
  },
  {
   "cell_type": "code",
   "execution_count": 27,
   "metadata": {},
   "outputs": [
    {
     "name": "stdout",
     "output_type": "stream",
     "text": [
      "La varianza de reacciones es de 1207369145805.9407.\n"
     ]
    }
   ],
   "source": [
    "var_reacciones=df['authentic_engagement'].var()\n",
    "print(f'La varianza de reacciones es de {var_reacciones}.')"
   ]
  },
  {
   "attachments": {},
   "cell_type": "markdown",
   "metadata": {},
   "source": [
    "### Desviación típica"
   ]
  },
  {
   "cell_type": "code",
   "execution_count": 28,
   "metadata": {},
   "outputs": [
    {
     "name": "stdout",
     "output_type": "stream",
     "text": [
      "La desviacion tipica de seguidores es de 38721434.58455885 seguidores.\n"
     ]
    }
   ],
   "source": [
    "std_seguidores= df['followers'].std()\n",
    "print(f'La desviacion tipica de seguidores es de {std_seguidores} seguidores.')\n",
    "#es casi un 15% del valor máximo, y superior a la media"
   ]
  },
  {
   "cell_type": "code",
   "execution_count": 52,
   "metadata": {},
   "outputs": [
    {
     "name": "stdout",
     "output_type": "stream",
     "text": [
      "La desviacion tipica de reacciones es de 1098803.506458703 interacciones.\n"
     ]
    }
   ],
   "source": [
    "std_reacciones= df['authentic_engagement'].std()\n",
    "print(f'La desviacion tipica de reacciones es de {std_reacciones} interacciones.')\n"
   ]
  },
  {
   "attachments": {},
   "cell_type": "markdown",
   "metadata": {},
   "source": [
    "### Moda"
   ]
  },
  {
   "cell_type": "code",
   "execution_count": 54,
   "metadata": {},
   "outputs": [
    {
     "data": {
      "text/plain": [
       "0    7800000.0\n",
       "Name: followers, dtype: float64"
      ]
     },
     "execution_count": 54,
     "metadata": {},
     "output_type": "execute_result"
    }
   ],
   "source": [
    "df['followers'].mode()\n"
   ]
  },
  {
   "cell_type": "code",
   "execution_count": 31,
   "metadata": {},
   "outputs": [
    {
     "data": {
      "text/plain": [
       "0    1100000.0\n",
       "Name: authentic_engagement, dtype: float64"
      ]
     },
     "execution_count": 31,
     "metadata": {},
     "output_type": "execute_result"
    }
   ],
   "source": [
    "df['authentic_engagement'].mode()"
   ]
  },
  {
   "attachments": {},
   "cell_type": "markdown",
   "metadata": {},
   "source": [
    "### Mediana\n"
   ]
  },
  {
   "cell_type": "code",
   "execution_count": 55,
   "metadata": {},
   "outputs": [
    {
     "name": "stdout",
     "output_type": "stream",
     "text": [
      "La mediana de seguidores es 14400000.0 seguidores.\n"
     ]
    }
   ],
   "source": [
    "med_seguidores=df['followers'].median()\n",
    "print(f'La mediana de seguidores es {med_seguidores} seguidores.')"
   ]
  },
  {
   "cell_type": "code",
   "execution_count": 56,
   "metadata": {},
   "outputs": [
    {
     "name": "stdout",
     "output_type": "stream",
     "text": [
      "La mediana de reacciones es 363700.0 interacciones.\n"
     ]
    }
   ],
   "source": [
    "med_reacciones = df['authentic_engagement'].median()\n",
    "print(f'La mediana de reacciones es {med_reacciones} interacciones.')"
   ]
  },
  {
   "attachments": {},
   "cell_type": "markdown",
   "metadata": {},
   "source": [
    "\n",
    "### Media ponderada"
   ]
  },
  {
   "cell_type": "code",
   "execution_count": 34,
   "metadata": {},
   "outputs": [
    {
     "name": "stdout",
     "output_type": "stream",
     "text": [
      "La media ponderada de seguidores es de 25233549.416373845 seguidores\n"
     ]
    }
   ],
   "source": [
    "pesos=np.random.randint(0,100,df.shape[0])\n",
    "average=np.average(df['followers'], weights=pesos )\n",
    "print(f'La media ponderada de seguidores es de {average} seguidores')"
   ]
  },
  {
   "cell_type": "code",
   "execution_count": 58,
   "metadata": {},
   "outputs": [
    {
     "name": "stdout",
     "output_type": "stream",
     "text": [
      "La media ponderada de reacciones es de 644022.5594733228 reacciones\n"
     ]
    }
   ],
   "source": [
    "pesos2=np.random.randint(0,100,df.shape[0])\n",
    "average2=np.average(df['authentic_engagement'], weights=pesos)\n",
    "print(f'La media ponderada de reacciones es de {average2} reacciones')"
   ]
  },
  {
   "attachments": {},
   "cell_type": "markdown",
   "metadata": {},
   "source": [
    "### Robustez\n"
   ]
  },
  {
   "cell_type": "code",
   "execution_count": 62,
   "metadata": {},
   "outputs": [
    {
     "name": "stdout",
     "output_type": "stream",
     "text": [
      "El indice de robustez de nuestro DataFrame es: 0.001\n"
     ]
    }
   ],
   "source": [
    "robustez = 1/df.shape[0]\n",
    "print(f'El indice de robustez de nuestro DataFrame es: {robustez}')"
   ]
  },
  {
   "attachments": {},
   "cell_type": "markdown",
   "metadata": {},
   "source": [
    "Gracias a las graficas y a el calculo de los demas estadisticos, concluimos que debido a la gran dispersion de datos que hay en las dos categorias 'seguidores' y 'reacciones' la media no es representativa. Por lo que nos parece  que la mediana es un indicador mas robusto para este analisis."
   ]
  },
  {
   "attachments": {},
   "cell_type": "markdown",
   "metadata": {},
   "source": [
    "### Coeficiente de variación"
   ]
  },
  {
   "attachments": {},
   "cell_type": "markdown",
   "metadata": {},
   "source": [
    "#### - Variable Seguidores"
   ]
  },
  {
   "cell_type": "code",
   "execution_count": 36,
   "metadata": {},
   "outputs": [
    {
     "name": "stdout",
     "output_type": "stream",
     "text": [
      "El coeficiente de variacion de seguidores es 0.6414044383031207\n"
     ]
    }
   ],
   "source": [
    "cv_seguidores=df['followers'].mean()/df['followers'].std()\n",
    "print(f'El coeficiente de variacion de seguidores es {cv_seguidores}')\n"
   ]
  },
  {
   "cell_type": "code",
   "execution_count": 66,
   "metadata": {},
   "outputs": [
    {
     "data": {
      "image/png": "[encoded data removed]",
      "text/plain": [
       "<Figure size 2000x1000 with 1 Axes>"
      ]
     },
     "metadata": {},
     "output_type": "display_data"
    }
   ],
   "source": [
    "fig=plt.figure(figsize=(20,10))\n",
    "plt.boxplot(df['followers'])\n",
    "plt.title('Boxplot seguidores')\n",
    "plt.show()\n",
    "#hacemos el boxplot, porque sospechamos que tenemos valores muy heterogeneos, y cuantitativamente muy altos"
   ]
  },
  {
   "cell_type": "code",
   "execution_count": 38,
   "metadata": {},
   "outputs": [
    {
     "data": {
      "image/png": "[encoded data removed]",
      "text/plain": [
       "<Figure size 800x400 with 1 Axes>"
      ]
     },
     "metadata": {},
     "output_type": "display_data"
    }
   ],
   "source": [
    "fig=plt.figure(figsize=(8,4))\n",
    "sns.histplot(df['followers'])\n",
    "plt.axvline(media_seguidores, color='orange')\n",
    "plt.axvline(med_seguidores, color='green')\n",
    "plt.title('')\n",
    "plt.show()\n",
    "#intentamos verlo mejor comparando media y mediana."
   ]
  },
  {
   "attachments": {},
   "cell_type": "markdown",
   "metadata": {},
   "source": [
    "#### - Variable reacciones/interacciones"
   ]
  },
  {
   "cell_type": "code",
   "execution_count": 39,
   "metadata": {},
   "outputs": [
    {
     "name": "stdout",
     "output_type": "stream",
     "text": [
      " El coeficiente de variacion  de reacciones es de 0.5907542123632606\n"
     ]
    }
   ],
   "source": [
    "coeficiente_variacion=df['authentic_engagement'].mean()/df['authentic_engagement'].std()\n",
    "print(f' El coeficiente de variacion  de reacciones es de {coeficiente_variacion}')"
   ]
  },
  {
   "cell_type": "code",
   "execution_count": 40,
   "metadata": {},
   "outputs": [
    {
     "data": {
      "image/png": "[encoded data removed]",
      "text/plain": [
       "<Figure size 2000x1000 with 1 Axes>"
      ]
     },
     "metadata": {},
     "output_type": "display_data"
    }
   ],
   "source": [
    "fig=plt.figure(figsize=(20,10))\n",
    "plt.boxplot(df['authentic_engagement'])\n",
    "plt.show()"
   ]
  },
  {
   "cell_type": "code",
   "execution_count": 41,
   "metadata": {},
   "outputs": [
    {
     "data": {
      "image/png": "[encoded data removed]",
      "text/plain": [
       "<Figure size 800x400 with 1 Axes>"
      ]
     },
     "metadata": {},
     "output_type": "display_data"
    }
   ],
   "source": [
    "fig=plt.figure(figsize=(8,4))\n",
    "sns.histplot(df['authentic_engagement'])\n",
    "plt.axvline(media_reacciones, color='orange')\n",
    "plt.axvline(med_reacciones, color='green')\n",
    "plt.show()"
   ]
  },
  {
   "cell_type": "code",
   "execution_count": 42,
   "metadata": {},
   "outputs": [
    {
     "data": {
      "image/png": "[encoded data removed]",
      "text/plain": [
       "<Figure size 640x480 with 1 Axes>"
      ]
     },
     "metadata": {},
     "output_type": "display_data"
    }
   ],
   "source": [
    "sns.scatterplot(data = df, x = \"followers\", y = \"authentic_engagement\");"
   ]
  },
  {
   "attachments": {},
   "cell_type": "markdown",
   "metadata": {},
   "source": [
    "### 3. Interpretación de los resultados. \n",
    "#### Ahora interpreta los resultados obtenidos de los diferentes estadísticos estudiados haciendo hincapié en aspectos interesantes de tus datos y explica lo mejor posible la naturaleza de los mismos."
   ]
  },
  {
   "attachments": {},
   "cell_type": "markdown",
   "metadata": {},
   "source": [
    "- **df['followers']** VARIABLE SEGUIDORES: Analizando los datos, encontramos una distribución muy desigual, la moda y mediana se alejan de la media en mas de 10 millones de seguidores. Teniendo en cuenta los valores maximos y minimos, encontramos una diferencia entre ellos de más del valor de la media. La desviacion estándar muy alta, lo que significa una gran dispersion de datos, tiene un valor de variacion mayor del número minimo de seguidores, valor superior a la media, y supone casi un 15% del valor máximo. Tenemos datos en los que la mayoria de las cuentas de la app tienen muy pocos seguidores respecto de unas pocas que tienen muchos."
   ]
  },
  {
   "attachments": {},
   "cell_type": "markdown",
   "metadata": {},
   "source": [
    "- **df['authentic_engagement']** VARIABLE REACCIONES/INTERACCIONES: Como era de esperar, obtenemos datos bastantes similares, aunque tendriamos que confirmarlo viendo si existe una correlación positiva estadística entre el número de followers y el número de \"reacciones\". Aunque intuitivamente, a mayor cantidad de seguidores, mayor cantidad de reacciones posibles a las publicaciones."
   ]
  }
 ],
 "metadata": {
  "kernelspec": {
   "display_name": "base",
   "language": "python",
   "name": "python3"
  },
  "language_info": {
   "codemirror_mode": {
    "name": "ipython",
    "version": 3
   },
   "file_extension": ".py",
   "mimetype": "text/x-python",
   "name": "python",
   "nbconvert_exporter": "python",
   "pygments_lexer": "ipython3",
   "version": "3.9.13"
  },
  "orig_nbformat": 4,
  "vscode": {
   "interpreter": {
    "hash": "a52af493819045717511545598ab2b73dabca4ca61b402315e0ef2b43666342d"
   }
  }
 },
 "nbformat": 4,
 "nbformat_minor": 2
}
